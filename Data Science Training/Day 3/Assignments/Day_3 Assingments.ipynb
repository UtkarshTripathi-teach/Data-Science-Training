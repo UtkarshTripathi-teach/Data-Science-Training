{
 "cells": [
  {
   "cell_type": "markdown",
   "id": "89cdde95-ac79-4616-9306-22e7ba849cba",
   "metadata": {},
   "source": [
    "# 1.Create Your Own Module"
   ]
  },
  {
   "cell_type": "markdown",
   "id": "ca7c5a21-0e7e-4e31-8908-2e01995fde68",
   "metadata": {},
   "source": [
    "### My Module name \"mathhelper_ut\" \n",
    "Functions : Factorial,Check_prime,Give_Fibo,Sum_of _n_natural_numbers"
   ]
  },
  {
   "cell_type": "code",
   "execution_count": 18,
   "id": "cece748c-2cb3-4c94-8a4b-d5aac6149b8e",
   "metadata": {},
   "outputs": [
    {
     "name": "stdout",
     "output_type": "stream",
     "text": [
      "24\n",
      "Prime number\n",
      "[0, 1, 1, 2, 3, 5, 8]\n",
      "36\n"
     ]
    }
   ],
   "source": [
    "import mathhelper_ut as m\n",
    "\n",
    "print(m.factorial(4))\n",
    "print(m.check_prime(37))\n",
    "print(m.give_fibo(7))\n",
    "print(m.sum_of_n_natural_numbers(8))"
   ]
  },
  {
   "cell_type": "code",
   "execution_count": null,
   "id": "655fe6b9-f411-4e8f-b113-a8b0fc095a3a",
   "metadata": {},
   "outputs": [],
   "source": []
  },
  {
   "cell_type": "markdown",
   "id": "4394a085-62d0-40c5-bf1e-0e29aee3c942",
   "metadata": {},
   "source": [
    "# 2.Safe Calculator"
   ]
  },
  {
   "cell_type": "code",
   "execution_count": 14,
   "id": "ec7be25b-6135-4a4d-bb90-ec72fa167569",
   "metadata": {},
   "outputs": [],
   "source": [
    "import math\n",
    "\n",
    "def safe_calculator():\n",
    "    print(\"Calculator\" + \"-\"*60)\n",
    "    print(\"Available operations:\")\n",
    "    print(\" + : Addition\")\n",
    "    print(\" - : Subtraction\")\n",
    "    print(\" * : Multiplication\")\n",
    "    print(\" / : Division\")\n",
    "    print(\" // : Floor Division\")\n",
    "    print(\" square_root : Square Root\")\n",
    "    print(\" square : Square of a number\")\n",
    "    print(\" cube_root : Cube Root\")\n",
    "    print(\" cube : Cube of a number\")\n",
    "    print(\" factorial : Factorial\")\n",
    "\n",
    "    while True:\n",
    "        try:\n",
    "            op = input(\"\\nEnter operation (+, -, *, /, //, sqrt, square, cbrt, cube, fact): \")\n",
    "\n",
    "            # require only one number\n",
    "            if op in ['square_root', 'square', 'cube_root', 'cube', 'factorial']:\n",
    "                num = float(input(\"Enter a number: \"))\n",
    "\n",
    "                if op == 'square_root':\n",
    "                    if num < 0:\n",
    "                        raise ValueError(\"Cannot take square root of a negative number.\")\n",
    "                    result = math.sqrt(num)\n",
    "\n",
    "                elif op == 'square':\n",
    "                    result = num ** 2\n",
    "\n",
    "                elif op == 'cube_root':\n",
    "                    result = num ** (1/3)\n",
    "\n",
    "                elif op == 'cube':\n",
    "                    result = num ** 3\n",
    "\n",
    "                elif op == 'factorial':\n",
    "                    if not num.is_integer() or num < 0:\n",
    "                        raise ValueError(\"Factorial is only defined for non-negative integers.\")\n",
    "                    result = math.factorial(int(num))\n",
    "\n",
    "            # require two numbers\n",
    "            else:\n",
    "                num1 = float(input(\"Enter first number: \"))\n",
    "                num2 = float(input(\"Enter second number: \"))\n",
    "\n",
    "                if op == '+':\n",
    "                    result = num1 + num2\n",
    "                elif op == '-':\n",
    "                    result = num1 - num2\n",
    "                elif op == '*':\n",
    "                    result = num1 * num2\n",
    "                elif op == '/':\n",
    "                    if num2 == 0:\n",
    "                        raise ZeroDivisionError(\"Cannot divide by zero.\")\n",
    "                    result = num1 / num2\n",
    "                elif op == '//':\n",
    "                    if num2 == 0:\n",
    "                        raise ZeroDivisionError(\"Cannot floor divide by zero.\")\n",
    "                    result = num1 // num2\n",
    "                else:\n",
    "                    print(\"Invalid operator. Please try again.\")\n",
    "                    continue\n",
    "\n",
    "            print(f\"Result: {result}\")\n",
    "\n",
    "        except ValueError as ve:\n",
    "            print(f\"Input error: {ve}\")\n",
    "        except ZeroDivisionError as zde:\n",
    "            print(f\"Math error: {zde}\")\n",
    "        except Exception as e:\n",
    "            print(f\"An unexpected error occurred: {e}\")\n",
    "\n",
    "        \n",
    "        cont = input(\"Do you want to perform another calculation? (yes/no): \").strip().lower()\n",
    "        if cont not in ['yes']:\n",
    "            print(\"byeeee\")\n",
    "            break\n",
    "\n",
    "    "
   ]
  },
  {
   "cell_type": "code",
   "execution_count": 15,
   "id": "f06e39ce-fb4e-47a3-8359-e4c878133a0e",
   "metadata": {},
   "outputs": [
    {
     "name": "stdout",
     "output_type": "stream",
     "text": [
      "Calculator------------------------------------------------------------\n",
      "Available operations:\n",
      " + : Addition\n",
      " - : Subtraction\n",
      " * : Multiplication\n",
      " / : Division\n",
      " // : Floor Division\n",
      " square_root : Square Root\n",
      " square : Square of a number\n",
      " cube_root : Cube Root\n",
      " cube : Cube of a number\n",
      " factorial : Factorial\n"
     ]
    },
    {
     "name": "stdin",
     "output_type": "stream",
     "text": [
      "\n",
      "Enter operation (+, -, *, /, //, sqrt, square, cbrt, cube, fact):  //\n",
      "Enter first number:  300\n",
      "Enter second number:  30\n"
     ]
    },
    {
     "name": "stdout",
     "output_type": "stream",
     "text": [
      "Result: 10.0\n"
     ]
    },
    {
     "name": "stdin",
     "output_type": "stream",
     "text": [
      "Do you want to perform another calculation? (yes/no):  n\n"
     ]
    },
    {
     "name": "stdout",
     "output_type": "stream",
     "text": [
      "byeeee\n"
     ]
    }
   ],
   "source": [
    "safe_calculator()"
   ]
  },
  {
   "cell_type": "markdown",
   "id": "94cf93fa-e2aa-4f56-9e3c-c55dd8b36195",
   "metadata": {},
   "source": [
    "# 3.File Reader"
   ]
  },
  {
   "cell_type": "code",
   "execution_count": 49,
   "id": "280cfc61-f4d1-4ae4-80c1-94bf5bd253c5",
   "metadata": {},
   "outputs": [],
   "source": [
    "def read_first_5_lines(filename):\n",
    "    try:\n",
    "        with open(filename, 'r') as file:\n",
    "            for i in range(1, 6):  \n",
    "                line = file.readline()\n",
    "                print(f\"Line {i}: {line.strip()}\")\n",
    "                \n",
    "    except FileNotFoundError:\n",
    "        print(f\"Error: The file '{filename}' was not found.\")\n",
    "\n"
   ]
  },
  {
   "cell_type": "code",
   "execution_count": 51,
   "id": "637b7462-c6f9-4f10-b3fa-bffc32c6754a",
   "metadata": {},
   "outputs": [
    {
     "name": "stdout",
     "output_type": "stream",
     "text": [
      "Error: The file 'mathhelper.py' was not found.\n"
     ]
    }
   ],
   "source": [
    "read_first_5_lines(\"mathhelper.py\")"
   ]
  },
  {
   "cell_type": "code",
   "execution_count": 50,
   "id": "e6d49b3d-7802-4752-9a84-502533f3dbfb",
   "metadata": {},
   "outputs": [
    {
     "name": "stdout",
     "output_type": "stream",
     "text": [
      "Line 1: print('''This is Utkarsh\\'s Mathhelper Module in Python /''')\n",
      "Line 2: def give_fibo(n):\n",
      "Line 3: fibo = [0,1]\n",
      "Line 4: for n in range(n-2):\n",
      "Line 5: last_num = fibo[-1]\n"
     ]
    }
   ],
   "source": [
    "read_first_5_lines(\"mathhelper_ut.py\")"
   ]
  },
  {
   "cell_type": "markdown",
   "id": "50b1f78a-ef85-4a47-aeef-05303e4feddd",
   "metadata": {},
   "source": [
    "# 4.Simple Quiz Game"
   ]
  },
  {
   "cell_type": "code",
   "execution_count": 59,
   "id": "61f20260-5390-45f4-9669-dc3c141999ce",
   "metadata": {},
   "outputs": [
    {
     "name": "stdout",
     "output_type": "stream",
     "text": [
      "\n",
      "Q1: What is the capital of India?\n",
      "A. Mumbai\n",
      "B. Kolkata\n",
      "C. New Delhi\n",
      "D. Chennai\n"
     ]
    },
    {
     "name": "stdin",
     "output_type": "stream",
     "text": [
      "Your answer (A/B/C/D):  c\n"
     ]
    },
    {
     "name": "stdout",
     "output_type": "stream",
     "text": [
      "Correct!\n",
      "\n",
      "Q2: Who was the first Prime Minister of India?\n",
      "A. Jawaharlal Nehru\n",
      "B. Mahatma Gandhi\n",
      "C. Indira Gandhi\n",
      "D. Rajendra Prasad\n"
     ]
    },
    {
     "name": "stdin",
     "output_type": "stream",
     "text": [
      "Your answer (A/B/C/D):  a\n"
     ]
    },
    {
     "name": "stdout",
     "output_type": "stream",
     "text": [
      "Correct!\n",
      "\n",
      "Q3: Which river is considered sacred in India?\n",
      "A. Yamuna\n",
      "B. Ganga\n",
      "C. Godavari\n",
      "D. Krishna\n"
     ]
    },
    {
     "name": "stdin",
     "output_type": "stream",
     "text": [
      "Your answer (A/B/C/D):  a\n"
     ]
    },
    {
     "name": "stdout",
     "output_type": "stream",
     "text": [
      " Wrong! Correct answer was B.\n",
      "\n",
      "Q4: In which year did India gain independence?\n",
      "A. 1945\n",
      "B. 1947\n",
      "C. 1950\n",
      "D. 1952\n"
     ]
    },
    {
     "name": "stdin",
     "output_type": "stream",
     "text": [
      "Your answer (A/B/C/D):  b\n"
     ]
    },
    {
     "name": "stdout",
     "output_type": "stream",
     "text": [
      "Correct!\n",
      "\n",
      "Q5: What is the national animal of India?\n",
      "A. Elephant\n",
      "B. Tiger\n",
      "C. Lion\n",
      "D. Peacock\n"
     ]
    },
    {
     "name": "stdin",
     "output_type": "stream",
     "text": [
      "Your answer (A/B/C/D):  c\n"
     ]
    },
    {
     "name": "stdout",
     "output_type": "stream",
     "text": [
      " Wrong! Correct answer was B.\n",
      "\n",
      "Q6: Who wrote the Indian national anthem?\n",
      "A. Tagore\n",
      "B. Premchand\n",
      "C. Tulsidas\n",
      "D. Vivekananda\n"
     ]
    },
    {
     "name": "stdin",
     "output_type": "stream",
     "text": [
      "Your answer (A/B/C/D):  a\n"
     ]
    },
    {
     "name": "stdout",
     "output_type": "stream",
     "text": [
      "Correct!\n",
      "\n",
      "Q7: Which Indian city is known as the Pink City?\n",
      "A. Mumbai\n",
      "B. Hyderabad\n",
      "C. Jaipur\n",
      "D. Pune\n"
     ]
    },
    {
     "name": "stdin",
     "output_type": "stream",
     "text": [
      "Your answer (A/B/C/D):  c\n"
     ]
    },
    {
     "name": "stdout",
     "output_type": "stream",
     "text": [
      "Correct!\n",
      "\n",
      "Q8: What is the currency of India?\n",
      "A. Dollar\n",
      "B. Rupee\n",
      "C. Taka\n",
      "D. Dinar\n"
     ]
    },
    {
     "name": "stdin",
     "output_type": "stream",
     "text": [
      "Your answer (A/B/C/D):  b\n"
     ]
    },
    {
     "name": "stdout",
     "output_type": "stream",
     "text": [
      "Correct!\n",
      "\n",
      "Q9: Which Indian state is famous for the dance form Kathakali?\n",
      "A. Tamil Nadu\n",
      "B. Odisha\n",
      "C. Kerala\n",
      "D. Karnataka\n"
     ]
    },
    {
     "name": "stdin",
     "output_type": "stream",
     "text": [
      "Your answer (A/B/C/D):  a\n"
     ]
    },
    {
     "name": "stdout",
     "output_type": "stream",
     "text": [
      " Wrong! Correct answer was C.\n",
      "\n",
      "Q10: Where is the Taj Mahal located?\n",
      "A. Delhi\n",
      "B. Agra\n",
      "C. Jaipur\n",
      "D. Mumbai\n"
     ]
    },
    {
     "name": "stdin",
     "output_type": "stream",
     "text": [
      "Your answer (A/B/C/D):  b\n"
     ]
    },
    {
     "name": "stdout",
     "output_type": "stream",
     "text": [
      "Correct!\n",
      "\n",
      "Your total score: 7/10\n"
     ]
    }
   ],
   "source": [
    "def load_questions(filename):\n",
    "    questions = []\n",
    "    try:\n",
    "        with open(filename, 'r') as file:\n",
    "            for line in file:\n",
    "                parts = line.strip().split('|')\n",
    "                if len(parts) == 6:\n",
    "                    question = {\n",
    "                        'text': parts[0],\n",
    "                        'options': parts[1:5],\n",
    "                        'answer': parts[5].upper()\n",
    "                    }\n",
    "                    questions.append(question)\n",
    "    except FileNotFoundError:\n",
    "        print(f\"Error: File '{filename}' not found.\")\n",
    "    return questions\n",
    "\n",
    "def save_score(score_filename, score):\n",
    "    try:\n",
    "        with open(score_filename, 'w') as file:\n",
    "            file.write(f\"Your final score: {score}\\n\")\n",
    "    except Exception as e:\n",
    "        print(\"Error saving score:\", e)\n",
    "\n",
    "def play_quiz(questions):\n",
    "    score = 0\n",
    "    for i, q in enumerate(questions):\n",
    "        print(f\"\\nQ{i+1}: {q['text']}\")\n",
    "        print(f\"A. {q['options'][0]}\")\n",
    "        print(f\"B. {q['options'][1]}\")\n",
    "        print(f\"C. {q['options'][2]}\")\n",
    "        print(f\"D. {q['options'][3]}\")\n",
    "\n",
    "        answer = input(\"Your answer (A/B/C/D): \").strip().upper()\n",
    "        if answer == q['answer']:\n",
    "            print(\"Correct!\")\n",
    "            score += 1\n",
    "        else:\n",
    "            print(f\" Wrong! Correct answer was {q['answer']}.\")\n",
    "\n",
    "    return score\n",
    "\n",
    "questions = load_questions('questions.txt')\n",
    "if questions:\n",
    "    final_score = play_quiz(questions)\n",
    "    print(f\"\\nYour total score: {final_score}/{len(questions)}\")\n",
    "    save_score('score.txt', final_score)"
   ]
  },
  {
   "cell_type": "code",
   "execution_count": null,
   "id": "a1525e10-cd34-41ac-a5d4-ce9ce91308b1",
   "metadata": {},
   "outputs": [],
   "source": []
  },
  {
   "cell_type": "markdown",
   "id": "e9c63462-5322-4bc1-a98a-95624e6c1774",
   "metadata": {},
   "source": [
    "# 5.Error Logger"
   ]
  },
  {
   "cell_type": "code",
   "execution_count": 62,
   "id": "bb1473a7-17a6-4b67-b923-5d6ecd9cc6b2",
   "metadata": {},
   "outputs": [
    {
     "name": "stdout",
     "output_type": "stream",
     "text": [
      "Cleaning up resources... (if any)\n",
      "An error occurred. Check error_log.txt\n"
     ]
    }
   ],
   "source": [
    "import datetime\n",
    "\n",
    "def log_error(error_msg):\n",
    "    timestamp = datetime.datetime.now().strftime('%Y-%m-%d %H:%M:%S')\n",
    "    with open('error_log.txt', 'a') as log_file:\n",
    "        log_file.write(f\"[{timestamp}] {error_msg}\\n\")\n",
    "\n",
    "def divide_numbers(a, b):\n",
    "    result = None\n",
    "    try:\n",
    "        result = a / b\n",
    "    except ZeroDivisionError as e:\n",
    "        log_error(f\"ZeroDivisionError: {e}\")\n",
    "    except Exception as e:\n",
    "        log_error(f\"{type(e).__name__}: {e}\")\n",
    "    finally:\n",
    "        print(\"Cleaning up resources... (if any)\")\n",
    "    return result\n",
    "\n",
    "\n",
    "num1 = 10\n",
    "num2 = 0      #ZeroDivisionError\n",
    "\n",
    "output = divide_numbers(num1, num2)\n",
    "if output is not None:\n",
    "    print(\"Result:\", output)\n",
    "else:\n",
    "    print(\"An error occurred. Check error_log.txt\")\n"
   ]
  },
  {
   "cell_type": "code",
   "execution_count": null,
   "id": "ccd5f7d0-83b7-4125-88d9-6780a3e7d828",
   "metadata": {},
   "outputs": [],
   "source": [
    "\n"
   ]
  },
  {
   "cell_type": "code",
   "execution_count": null,
   "id": "07f2303e-ab49-4664-a6d0-0d148b1b74ff",
   "metadata": {},
   "outputs": [],
   "source": []
  }
 ],
 "metadata": {
  "kernelspec": {
   "display_name": "Python [conda env:base] *",
   "language": "python",
   "name": "conda-base-py"
  },
  "language_info": {
   "codemirror_mode": {
    "name": "ipython",
    "version": 3
   },
   "file_extension": ".py",
   "mimetype": "text/x-python",
   "name": "python",
   "nbconvert_exporter": "python",
   "pygments_lexer": "ipython3",
   "version": "3.13.5"
  }
 },
 "nbformat": 4,
 "nbformat_minor": 5
}
