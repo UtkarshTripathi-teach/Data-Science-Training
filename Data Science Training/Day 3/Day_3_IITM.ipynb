{
  "nbformat": 4,
  "nbformat_minor": 0,
  "metadata": {
    "colab": {
      "private_outputs": true,
      "provenance": []
    },
    "kernelspec": {
      "name": "python3",
      "display_name": "Python 3"
    },
    "language_info": {
      "name": "python"
    }
  },
  "cells": [
    {
      "cell_type": "code",
      "execution_count": null,
      "metadata": {
        "id": "q-jB5fqGoHCV"
      },
      "outputs": [],
      "source": [
        "import qrcode\n",
        "img = qrcode.make('https://colab.research.google.com/drive/1UV8ZUt9mjWLi1Atb44j27w4RhgrG8pUL?usp=sharing')\n",
        "img.save('myqr.png')"
      ]
    },
    {
      "cell_type": "code",
      "source": [
        "# pip install qrcode"
      ],
      "metadata": {
        "id": "_ont39TXoLVa"
      },
      "execution_count": null,
      "outputs": []
    },
    {
      "cell_type": "code",
      "source": [
        "# Last Func\n",
        "# Modules\n",
        "# User defined Module\n",
        "# File Handling and it's uses\n",
        "# Practical Examples"
      ],
      "metadata": {
        "id": "QZFs-fRNoU4b"
      },
      "execution_count": null,
      "outputs": []
    },
    {
      "cell_type": "code",
      "source": [
        "# Exception handling\n",
        "# try\n",
        "# except"
      ],
      "metadata": {
        "id": "fPiKPlXhqG5n"
      },
      "execution_count": null,
      "outputs": []
    },
    {
      "cell_type": "code",
      "source": [
        "# Exception handling\n",
        "\n",
        "\n",
        "age = '23'\n",
        "\n",
        "try:\n",
        "  # print(1/0)\n",
        "  print(vari)\n",
        "  if age >= 18:\n",
        "    print('can vote')\n",
        "  else:\n",
        "    print('can\\'t vote')\n",
        "except TypeError:\n",
        "  print('Something went wrong!!')\n",
        "  print('Invalid datatype comparison!!')\n",
        "\n",
        "except:\n",
        "  print('Invalid Code!!')"
      ],
      "metadata": {
        "id": "JgZ2_4NuqgH7"
      },
      "execution_count": null,
      "outputs": []
    },
    {
      "cell_type": "code",
      "source": [
        "def student_records(**kwargs):\n",
        "  import pandas as pd\n",
        "  try:\n",
        "    data = pd.DataFrame(kwargs)\n",
        "    return data\n",
        "  except:\n",
        "    data = pd.DataFrame(kwargs,index = [1])\n",
        "    return data"
      ],
      "metadata": {
        "id": "75NW0RoFqy6i"
      },
      "execution_count": null,
      "outputs": []
    },
    {
      "cell_type": "code",
      "source": [
        "student_records(Name = 'Ajay',Age = 12,Address = 'Noida')"
      ],
      "metadata": {
        "id": "O0rmZWK0unYI"
      },
      "execution_count": null,
      "outputs": []
    },
    {
      "cell_type": "code",
      "source": [
        "student_records(Name = ['Aman','Karan','Mohan'],\n",
        "                Age = [23,34,45],\n",
        "                Address = ['Noida','Delhi','Noida'],\n",
        "                Sec = list('ABC'))"
      ],
      "metadata": {
        "id": "1Zu19NdXvDs-"
      },
      "execution_count": null,
      "outputs": []
    },
    {
      "cell_type": "code",
      "source": [
        "def show_time():\n",
        "  try:\n",
        "    while True:\n",
        "      import time\n",
        "      print(time.asctime())\n",
        "      time.sleep(1)\n",
        "      display(clear = True)\n",
        "  except:\n",
        "    print('Timer has been Stopped!!')"
      ],
      "metadata": {
        "id": "4ChvS2ZGwXhz"
      },
      "execution_count": null,
      "outputs": []
    },
    {
      "cell_type": "code",
      "source": [
        "show_time()"
      ],
      "metadata": {
        "id": "c9ErQciHz14r"
      },
      "execution_count": null,
      "outputs": []
    },
    {
      "cell_type": "code",
      "source": [
        "def check_palindrome(word:str):\n",
        "  if type(word) == str:\n",
        "    word = word.upper()\n",
        "    if word == word[::-1]:\n",
        "      return 'Palindrome'\n",
        "    else:\n",
        "      return 'Not a Plaindrome'\n",
        "  else:\n",
        "    return 'Invalid Data Type'"
      ],
      "metadata": {
        "id": "LBIfM9Ej0Y8f"
      },
      "execution_count": null,
      "outputs": []
    },
    {
      "cell_type": "code",
      "source": [
        "def give_fibo(n):\n",
        "  fibo = [0,1]\n",
        "  for i in range(n-2):\n",
        "     last_num = fibo[-1]\n",
        "     second_last_num = fibo[-2]\n",
        "     next_num = last_num + second_last_num\n",
        "     fibo.append(next_num)\n",
        "  return fibo"
      ],
      "metadata": {
        "id": "1MVE5qNZ59Lo"
      },
      "execution_count": null,
      "outputs": []
    },
    {
      "cell_type": "code",
      "source": [
        "def check_prime(number):\n",
        "    for i in range(2,number):\n",
        "        if number % i == 0:\n",
        "            return 'Not a Prime Number'\n",
        "            break\n",
        "            print('Happy Holi')\n",
        "    else:\n",
        "        return 'Prime Number'"
      ],
      "metadata": {
        "id": "0djic3U46RFl"
      },
      "execution_count": null,
      "outputs": []
    },
    {
      "cell_type": "code",
      "source": [
        "def print_star(n = 5, typ = 'left',shape = '*'):\n",
        "  if typ  == 'left':\n",
        "    space  = ''\n",
        "\n",
        "  elif typ == 'right':\n",
        "    space = '  '\n",
        "\n",
        "  elif typ == 'mid':\n",
        "    space = ' '\n",
        "\n",
        "  for i in range(1,n+1):\n",
        "    print(space*(n-i) + i*f'{shape} ')"
      ],
      "metadata": {
        "id": "5yIKmd4T6R0K"
      },
      "execution_count": null,
      "outputs": []
    },
    {
      "cell_type": "code",
      "source": [
        "\n",
        "def sum_of_n_natural_numbers(n):\n",
        "    result = 0\n",
        "    for i in range(1,n+1):\n",
        "        result += i\n",
        "    return result\n",
        "\n",
        "def factorial(n):\n",
        "    result = 1\n",
        "    for i in range(1,n+1):\n",
        "        result *= i\n",
        "    return result\n",
        "\n"
      ],
      "metadata": {
        "id": "v1c_VAGT6iRn"
      },
      "execution_count": null,
      "outputs": []
    },
    {
      "cell_type": "code",
      "source": [
        "def total_sales(*args):\n",
        "  #unpacking\n",
        "  result = 0\n",
        "  for i in args:\n",
        "    result += i\n",
        "  return result"
      ],
      "metadata": {
        "id": "tGOE5dsP6yqI"
      },
      "execution_count": null,
      "outputs": []
    },
    {
      "cell_type": "code",
      "source": [
        "def minn(*data):\n",
        "  min_ele = data[0]\n",
        "  for i in data[1:]:\n",
        "    if i< min_ele:\n",
        "      min_ele = i\n",
        "  return min_ele"
      ],
      "metadata": {
        "id": "vFUNjo9f6zGM"
      },
      "execution_count": null,
      "outputs": []
    },
    {
      "cell_type": "code",
      "source": [
        "def sound_box(paisa,platform = 'Paytm'):\n",
        "    from gtts import gTTS\n",
        "    text  = f'''{platform} par {paisa} rs Prapt hue.'''\n",
        "    audio = gTTS(text)\n",
        "    audio.save('paytm.mp3')\n",
        "\n",
        "    import pygame as p\n",
        "    p.init()\n",
        "\n",
        "    music = p.mixer.Sound('paytm.mp3')\n",
        "    music.play()"
      ],
      "metadata": {
        "id": "lkF-CUei639W"
      },
      "execution_count": null,
      "outputs": []
    }
  ]
}