{
 "cells": [
  {
   "cell_type": "code",
   "execution_count": 1,
   "id": "79fa6a30-d334-448f-8cb5-615658ce29e6",
   "metadata": {
    "jupyter": {
     "source_hidden": true
    }
   },
   "outputs": [],
   "source": [
    "# Python to MySQL connect"
   ]
  },
  {
   "cell_type": "code",
   "execution_count": 2,
   "id": "35f493ca-edab-4f86-b54b-b2ee079e33bb",
   "metadata": {},
   "outputs": [],
   "source": [
    "# pip install PyMySQL"
   ]
  },
  {
   "cell_type": "code",
   "execution_count": 1,
   "id": "bc39eaed-3ba3-4280-9fed-63568443856e",
   "metadata": {},
   "outputs": [
    {
     "name": "stdout",
     "output_type": "stream",
     "text": [
      "Done\n"
     ]
    }
   ],
   "source": [
    "import pymysql as py\n",
    "print('Done')"
   ]
  },
  {
   "cell_type": "code",
   "execution_count": 11,
   "id": "6d197447-6795-4504-a1c3-6008bf9d250b",
   "metadata": {},
   "outputs": [
    {
     "name": "stdout",
     "output_type": "stream",
     "text": [
      "Connection Created Successfully!! \n"
     ]
    }
   ],
   "source": [
    "conn = py.connect(user = 'root',\n",
    "            password = 'utkarsh2408',\n",
    "            host = 'localhost',\n",
    "            autocommit = True)\n",
    "\n",
    "print('Connection Created Successfully!! ')"
   ]
  },
  {
   "cell_type": "code",
   "execution_count": null,
   "id": "7268905f-1cb2-40cb-8491-d63486943af8",
   "metadata": {},
   "outputs": [],
   "source": []
  },
  {
   "cell_type": "code",
   "execution_count": 12,
   "id": "b5ce0cd7-4819-4d7c-8ec1-0eefc82843b5",
   "metadata": {},
   "outputs": [],
   "source": []
  },
  {
   "cell_type": "code",
   "execution_count": 15,
   "id": "d0ad91f6-9e96-4cd5-a91b-c23d2f2a1a17",
   "metadata": {},
   "outputs": [],
   "source": [
    "# Cursor"
   ]
  },
  {
   "cell_type": "code",
   "execution_count": 16,
   "id": "ca1efad5-c93e-4555-b99a-8cd018c378f7",
   "metadata": {},
   "outputs": [
    {
     "name": "stdout",
     "output_type": "stream",
     "text": [
      "Done\n"
     ]
    }
   ],
   "source": [
    "cur = conn.cursor()\n",
    "print('Done')"
   ]
  },
  {
   "cell_type": "code",
   "execution_count": 17,
   "id": "5dda0e61-5af1-4012-96d8-257e0d6e90c5",
   "metadata": {},
   "outputs": [],
   "source": [
    "# create database using python"
   ]
  },
  {
   "cell_type": "code",
   "execution_count": 18,
   "id": "16e44b21-caf3-4149-bcd2-cedfba21a898",
   "metadata": {},
   "outputs": [
    {
     "name": "stdout",
     "output_type": "stream",
     "text": [
      "Done\n"
     ]
    }
   ],
   "source": [
    "query = '''create database IITM_day5;'''\n",
    "\n",
    "\n",
    "cur.execute(query)\n",
    "print('Done')"
   ]
  },
  {
   "cell_type": "code",
   "execution_count": 19,
   "id": "32dc7780-f69e-4682-953d-5ee5a8139633",
   "metadata": {},
   "outputs": [
    {
     "name": "stdout",
     "output_type": "stream",
     "text": [
      "Done\n"
     ]
    }
   ],
   "source": [
    "query = 'USE IITM_day5;'\n",
    "cur.execute(query)\n",
    "print('Done')"
   ]
  },
  {
   "cell_type": "code",
   "execution_count": 20,
   "id": "39e871e9-cd36-4081-a19c-b9bd5794bcd4",
   "metadata": {},
   "outputs": [
    {
     "name": "stdout",
     "output_type": "stream",
     "text": [
      "done\n"
     ]
    }
   ],
   "source": [
    "query = '''create table student_details\n",
    "(\n",
    "SID int not null,\n",
    "student_name varchar(50),\n",
    "course varchar(50),\n",
    "Address varchar(50),\n",
    "Scholarship float\n",
    ");'''\n",
    "\n",
    "cur.execute(query)\n",
    "print('done')"
   ]
  },
  {
   "cell_type": "code",
   "execution_count": 21,
   "id": "ed5a12ec-f996-4683-b3f6-c5353ba74546",
   "metadata": {},
   "outputs": [
    {
     "name": "stdout",
     "output_type": "stream",
     "text": [
      "done\n"
     ]
    }
   ],
   "source": [
    "query = '''insert into student_details\n",
    "values\n",
    "(101,\"Kartik Tiwari\",\"BCA\",\"Delhi Janakpuri\",5000),\n",
    "(102,\"Ravi\",\"MCA\",\"South Delhi\",5500);\n",
    "'''\n",
    "\n",
    "cur.execute(query)\n",
    "print('done')"
   ]
  },
  {
   "cell_type": "code",
   "execution_count": 22,
   "id": "1b5a6027-caad-4303-b86a-216626cfd5f7",
   "metadata": {},
   "outputs": [
    {
     "name": "stdout",
     "output_type": "stream",
     "text": [
      "done\n"
     ]
    }
   ],
   "source": [
    "query = '''insert into student_details\n",
    "values\n",
    "(102,\"Ansh kumar\",\"BCA\",\"UP\",5600),\n",
    "(103,\"Mannmeet\",\"MCA\",\"Jamnapaar\",7600);\n",
    "'''\n",
    "\n",
    "cur.execute(query)\n",
    "print('done')"
   ]
  },
  {
   "cell_type": "code",
   "execution_count": 24,
   "id": "87f9ba54-61e7-4af9-88d1-32bd65806f1c",
   "metadata": {},
   "outputs": [
    {
     "name": "stdin",
     "output_type": "stream",
     "text": [
      "Enter Roll No/SID: 110\n",
      "Enter your Name: Jassmeet\n",
      "Enter your Course: BBA\n",
      "Enter your Address: Delhi\n",
      "Enter your scholarship in RS: 5400\n"
     ]
    },
    {
     "name": "stdout",
     "output_type": "stream",
     "text": [
      "done\n"
     ]
    }
   ],
   "source": [
    "sid = int(input('Enter Roll No/SID:'))\n",
    "name = input('Enter your Name:')\n",
    "course = input('Enter your Course:')\n",
    "address =  input('Enter your Address:')\n",
    "scholarship = float(input('Enter your scholarship in RS:'))\n",
    "\n",
    "q = f'''insert into student_details\n",
    "values\n",
    "({sid},\"{name}\",\"{course}\",\"{address}\",{scholarship});\n",
    "'''\n",
    "\n",
    "cur.execute(q)\n",
    "print('done')"
   ]
  },
  {
   "cell_type": "code",
   "execution_count": 25,
   "id": "cea45cb8-7c8d-4999-9bde-8d89467b22d7",
   "metadata": {},
   "outputs": [
    {
     "name": "stdin",
     "output_type": "stream",
     "text": [
      "Enter Roll No/SID: 200\n",
      "Enter your Name: Amit\n",
      "Enter your Course: BBA\n",
      "Enter your Address: Noida\n",
      "Enter your scholarship in RS: 2300\n"
     ]
    },
    {
     "name": "stdout",
     "output_type": "stream",
     "text": [
      "Record Inserted Successfully!!\n"
     ]
    },
    {
     "name": "stdin",
     "output_type": "stream",
     "text": [
      "Enter Roll No/SID: 201\n",
      "Enter your Name: Akul\n",
      "Enter your Course: BCA\n",
      "Enter your Address: Gurugram\n",
      "Enter your scholarship in RS: 3400\n"
     ]
    },
    {
     "name": "stdout",
     "output_type": "stream",
     "text": [
      "Record Inserted Successfully!!\n"
     ]
    },
    {
     "name": "stdin",
     "output_type": "stream",
     "text": [
      "Enter Roll No/SID: 203\n",
      "Enter your Name: Ram\n",
      "Enter your Course: BCA\n",
      "Enter your Address: Delhi\n",
      "Enter your scholarship in RS: 4300\n"
     ]
    },
    {
     "name": "stdout",
     "output_type": "stream",
     "text": [
      "Record Inserted Successfully!!\n",
      "done\n"
     ]
    }
   ],
   "source": [
    "n = 3\n",
    "for i in range(n):\n",
    "    sid = int(input('Enter Roll No/SID:'))\n",
    "    name = input('Enter your Name:')\n",
    "    course = input('Enter your Course:')\n",
    "    address =  input('Enter your Address:')\n",
    "    scholarship = float(input('Enter your scholarship in RS:'))\n",
    "    \n",
    "    q = f'''insert into student_details\n",
    "    values\n",
    "    ({sid},\"{name}\",\"{course}\",\"{address}\",{scholarship});\n",
    "    '''\n",
    "    \n",
    "    cur.execute(q)\n",
    "    print('Record Inserted Successfully!!')\n",
    "print('done')"
   ]
  },
  {
   "cell_type": "code",
   "execution_count": null,
   "id": "ce85f10b-45b3-4b78-80c6-fa782ad44ea6",
   "metadata": {},
   "outputs": [],
   "source": []
  },
  {
   "cell_type": "code",
   "execution_count": null,
   "id": "36b9cf27-cf43-433e-9064-21be55529645",
   "metadata": {},
   "outputs": [],
   "source": []
  },
  {
   "cell_type": "code",
   "execution_count": null,
   "id": "088ae251-4a1a-4924-a875-3b4191e2a602",
   "metadata": {},
   "outputs": [],
   "source": []
  },
  {
   "cell_type": "code",
   "execution_count": 37,
   "id": "afe90176-ff41-45ea-91b5-ce9a0162240b",
   "metadata": {},
   "outputs": [
    {
     "data": {
      "text/html": [
       "<div>\n",
       "<style scoped>\n",
       "    .dataframe tbody tr th:only-of-type {\n",
       "        vertical-align: middle;\n",
       "    }\n",
       "\n",
       "    .dataframe tbody tr th {\n",
       "        vertical-align: top;\n",
       "    }\n",
       "\n",
       "    .dataframe thead th {\n",
       "        text-align: right;\n",
       "    }\n",
       "</style>\n",
       "<table border=\"1\" class=\"dataframe\">\n",
       "  <thead>\n",
       "    <tr style=\"text-align: right;\">\n",
       "      <th></th>\n",
       "      <th>SID</th>\n",
       "      <th>student_name</th>\n",
       "      <th>course</th>\n",
       "      <th>Address</th>\n",
       "      <th>Scholarship</th>\n",
       "    </tr>\n",
       "  </thead>\n",
       "  <tbody>\n",
       "    <tr>\n",
       "      <th>0</th>\n",
       "      <td>101</td>\n",
       "      <td>Kartik Tiwari</td>\n",
       "      <td>BCA</td>\n",
       "      <td>Delhi Janakpuri</td>\n",
       "      <td>5000.0</td>\n",
       "    </tr>\n",
       "    <tr>\n",
       "      <th>1</th>\n",
       "      <td>102</td>\n",
       "      <td>Ravi</td>\n",
       "      <td>MCA</td>\n",
       "      <td>South Delhi</td>\n",
       "      <td>5500.0</td>\n",
       "    </tr>\n",
       "    <tr>\n",
       "      <th>2</th>\n",
       "      <td>102</td>\n",
       "      <td>Ansh kumar</td>\n",
       "      <td>BCA</td>\n",
       "      <td>UP</td>\n",
       "      <td>5600.0</td>\n",
       "    </tr>\n",
       "    <tr>\n",
       "      <th>3</th>\n",
       "      <td>103</td>\n",
       "      <td>Mannmeet</td>\n",
       "      <td>MCA</td>\n",
       "      <td>Jamnapaar</td>\n",
       "      <td>7600.0</td>\n",
       "    </tr>\n",
       "    <tr>\n",
       "      <th>4</th>\n",
       "      <td>110</td>\n",
       "      <td>Jassmeet</td>\n",
       "      <td>BBA</td>\n",
       "      <td>Delhi</td>\n",
       "      <td>5400.0</td>\n",
       "    </tr>\n",
       "    <tr>\n",
       "      <th>5</th>\n",
       "      <td>200</td>\n",
       "      <td>Amit</td>\n",
       "      <td>BBA</td>\n",
       "      <td>Noida</td>\n",
       "      <td>2300.0</td>\n",
       "    </tr>\n",
       "    <tr>\n",
       "      <th>6</th>\n",
       "      <td>201</td>\n",
       "      <td>Akul</td>\n",
       "      <td>BCA</td>\n",
       "      <td>Gurugram</td>\n",
       "      <td>3400.0</td>\n",
       "    </tr>\n",
       "    <tr>\n",
       "      <th>7</th>\n",
       "      <td>203</td>\n",
       "      <td>Ram</td>\n",
       "      <td>BCA</td>\n",
       "      <td>Delhi</td>\n",
       "      <td>4300.0</td>\n",
       "    </tr>\n",
       "  </tbody>\n",
       "</table>\n",
       "</div>"
      ],
      "text/plain": [
       "   SID   student_name course          Address  Scholarship\n",
       "0  101  Kartik Tiwari    BCA  Delhi Janakpuri       5000.0\n",
       "1  102           Ravi    MCA      South Delhi       5500.0\n",
       "2  102     Ansh kumar    BCA               UP       5600.0\n",
       "3  103       Mannmeet    MCA        Jamnapaar       7600.0\n",
       "4  110       Jassmeet    BBA            Delhi       5400.0\n",
       "5  200           Amit    BBA            Noida       2300.0\n",
       "6  201           Akul    BCA         Gurugram       3400.0\n",
       "7  203            Ram    BCA            Delhi       4300.0"
      ]
     },
     "execution_count": 37,
     "metadata": {},
     "output_type": "execute_result"
    }
   ],
   "source": [
    "query = '''select * from student_details;'''\n",
    "cur.execute(query)\n",
    "\n",
    "records = cur.fetchall()\n",
    "\n",
    "all_columns = []\n",
    "for i in cur.description:\n",
    "    all_columns.append(i[0])\n",
    "\n",
    "import pandas as pd\n",
    "df = pd.DataFrame(records,columns=all_columns)\n",
    "df"
   ]
  },
  {
   "cell_type": "code",
   "execution_count": null,
   "id": "6f07487e-5e8c-49fc-a007-84285f15352d",
   "metadata": {},
   "outputs": [],
   "source": []
  },
  {
   "cell_type": "code",
   "execution_count": 38,
   "id": "c9f574e8-260a-423d-9e44-c1405818a703",
   "metadata": {},
   "outputs": [],
   "source": [
    "\n",
    "def show_records(db,table):\n",
    "    \n",
    "    query = f'''select * from {db}.{table};'''\n",
    "    cur.execute(query)\n",
    "    \n",
    "    records = cur.fetchall()\n",
    "    \n",
    "    all_columns = []\n",
    "    for i in cur.description:\n",
    "        all_columns.append(i[0])\n",
    "    \n",
    "    import pandas as pd\n",
    "    df = pd.DataFrame(records,columns=all_columns)\n",
    "    return df\n"
   ]
  },
  {
   "cell_type": "code",
   "execution_count": null,
   "id": "aa979639-8533-4a40-b6b0-3c1ef44a5435",
   "metadata": {},
   "outputs": [],
   "source": []
  },
  {
   "cell_type": "code",
   "execution_count": null,
   "id": "969f7e18-062c-47fe-afe1-7b47e867e771",
   "metadata": {},
   "outputs": [],
   "source": []
  },
  {
   "cell_type": "code",
   "execution_count": 39,
   "id": "5377cc50-0c72-4454-a10a-99505bb9885c",
   "metadata": {},
   "outputs": [
    {
     "data": {
      "text/html": [
       "<div>\n",
       "<style scoped>\n",
       "    .dataframe tbody tr th:only-of-type {\n",
       "        vertical-align: middle;\n",
       "    }\n",
       "\n",
       "    .dataframe tbody tr th {\n",
       "        vertical-align: top;\n",
       "    }\n",
       "\n",
       "    .dataframe thead th {\n",
       "        text-align: right;\n",
       "    }\n",
       "</style>\n",
       "<table border=\"1\" class=\"dataframe\">\n",
       "  <thead>\n",
       "    <tr style=\"text-align: right;\">\n",
       "      <th></th>\n",
       "      <th>SID</th>\n",
       "      <th>student_name</th>\n",
       "      <th>course</th>\n",
       "      <th>Address</th>\n",
       "      <th>Scholarship</th>\n",
       "    </tr>\n",
       "  </thead>\n",
       "  <tbody>\n",
       "    <tr>\n",
       "      <th>0</th>\n",
       "      <td>101</td>\n",
       "      <td>Kartik Tiwari</td>\n",
       "      <td>BCA</td>\n",
       "      <td>Delhi Janakpuri</td>\n",
       "      <td>5000.0</td>\n",
       "    </tr>\n",
       "    <tr>\n",
       "      <th>1</th>\n",
       "      <td>102</td>\n",
       "      <td>Ravi</td>\n",
       "      <td>MCA</td>\n",
       "      <td>South Delhi</td>\n",
       "      <td>5500.0</td>\n",
       "    </tr>\n",
       "    <tr>\n",
       "      <th>2</th>\n",
       "      <td>102</td>\n",
       "      <td>Ansh kumar</td>\n",
       "      <td>BCA</td>\n",
       "      <td>UP</td>\n",
       "      <td>5600.0</td>\n",
       "    </tr>\n",
       "    <tr>\n",
       "      <th>3</th>\n",
       "      <td>103</td>\n",
       "      <td>Mannmeet</td>\n",
       "      <td>MCA</td>\n",
       "      <td>Jamnapaar</td>\n",
       "      <td>7600.0</td>\n",
       "    </tr>\n",
       "    <tr>\n",
       "      <th>4</th>\n",
       "      <td>110</td>\n",
       "      <td>Jassmeet</td>\n",
       "      <td>BBA</td>\n",
       "      <td>Delhi</td>\n",
       "      <td>5400.0</td>\n",
       "    </tr>\n",
       "    <tr>\n",
       "      <th>5</th>\n",
       "      <td>200</td>\n",
       "      <td>Amit</td>\n",
       "      <td>BBA</td>\n",
       "      <td>Noida</td>\n",
       "      <td>2300.0</td>\n",
       "    </tr>\n",
       "    <tr>\n",
       "      <th>6</th>\n",
       "      <td>201</td>\n",
       "      <td>Akul</td>\n",
       "      <td>BCA</td>\n",
       "      <td>Gurugram</td>\n",
       "      <td>3400.0</td>\n",
       "    </tr>\n",
       "    <tr>\n",
       "      <th>7</th>\n",
       "      <td>203</td>\n",
       "      <td>Ram</td>\n",
       "      <td>BCA</td>\n",
       "      <td>Delhi</td>\n",
       "      <td>4300.0</td>\n",
       "    </tr>\n",
       "  </tbody>\n",
       "</table>\n",
       "</div>"
      ],
      "text/plain": [
       "   SID   student_name course          Address  Scholarship\n",
       "0  101  Kartik Tiwari    BCA  Delhi Janakpuri       5000.0\n",
       "1  102           Ravi    MCA      South Delhi       5500.0\n",
       "2  102     Ansh kumar    BCA               UP       5600.0\n",
       "3  103       Mannmeet    MCA        Jamnapaar       7600.0\n",
       "4  110       Jassmeet    BBA            Delhi       5400.0\n",
       "5  200           Amit    BBA            Noida       2300.0\n",
       "6  201           Akul    BCA         Gurugram       3400.0\n",
       "7  203            Ram    BCA            Delhi       4300.0"
      ]
     },
     "execution_count": 39,
     "metadata": {},
     "output_type": "execute_result"
    }
   ],
   "source": [
    "show_records('IITM_day5','student_details')"
   ]
  },
  {
   "cell_type": "code",
   "execution_count": 40,
   "id": "362f3b2b-03f5-47f5-a400-7fafbdaa6dea",
   "metadata": {},
   "outputs": [
    {
     "data": {
      "text/html": [
       "<div>\n",
       "<style scoped>\n",
       "    .dataframe tbody tr th:only-of-type {\n",
       "        vertical-align: middle;\n",
       "    }\n",
       "\n",
       "    .dataframe tbody tr th {\n",
       "        vertical-align: top;\n",
       "    }\n",
       "\n",
       "    .dataframe thead th {\n",
       "        text-align: right;\n",
       "    }\n",
       "</style>\n",
       "<table border=\"1\" class=\"dataframe\">\n",
       "  <thead>\n",
       "    <tr style=\"text-align: right;\">\n",
       "      <th></th>\n",
       "      <th>Ship Mode</th>\n",
       "      <th>Segment</th>\n",
       "      <th>Country</th>\n",
       "      <th>City</th>\n",
       "      <th>State</th>\n",
       "      <th>Postal Code</th>\n",
       "      <th>Region</th>\n",
       "      <th>Category</th>\n",
       "      <th>Sub-Category</th>\n",
       "      <th>Sales</th>\n",
       "      <th>Quantity</th>\n",
       "      <th>Discount</th>\n",
       "      <th>Profit</th>\n",
       "    </tr>\n",
       "  </thead>\n",
       "  <tbody>\n",
       "    <tr>\n",
       "      <th>0</th>\n",
       "      <td>Second Class</td>\n",
       "      <td>Consumer</td>\n",
       "      <td>United States</td>\n",
       "      <td>Henderson</td>\n",
       "      <td>Kentucky</td>\n",
       "      <td>42420</td>\n",
       "      <td>South</td>\n",
       "      <td>Furniture</td>\n",
       "      <td>Bookcases</td>\n",
       "      <td>261.9600</td>\n",
       "      <td>2</td>\n",
       "      <td>0.00</td>\n",
       "      <td>41.9136</td>\n",
       "    </tr>\n",
       "    <tr>\n",
       "      <th>1</th>\n",
       "      <td>Second Class</td>\n",
       "      <td>Consumer</td>\n",
       "      <td>United States</td>\n",
       "      <td>Henderson</td>\n",
       "      <td>Kentucky</td>\n",
       "      <td>42420</td>\n",
       "      <td>South</td>\n",
       "      <td>Furniture</td>\n",
       "      <td>Chairs</td>\n",
       "      <td>731.9400</td>\n",
       "      <td>3</td>\n",
       "      <td>0.00</td>\n",
       "      <td>219.5820</td>\n",
       "    </tr>\n",
       "    <tr>\n",
       "      <th>2</th>\n",
       "      <td>Second Class</td>\n",
       "      <td>Corporate</td>\n",
       "      <td>United States</td>\n",
       "      <td>Los Angeles</td>\n",
       "      <td>California</td>\n",
       "      <td>90036</td>\n",
       "      <td>West</td>\n",
       "      <td>Office Supplies</td>\n",
       "      <td>Labels</td>\n",
       "      <td>14.6200</td>\n",
       "      <td>2</td>\n",
       "      <td>0.00</td>\n",
       "      <td>6.8714</td>\n",
       "    </tr>\n",
       "    <tr>\n",
       "      <th>3</th>\n",
       "      <td>Standard Class</td>\n",
       "      <td>Consumer</td>\n",
       "      <td>United States</td>\n",
       "      <td>Fort Lauderdale</td>\n",
       "      <td>Florida</td>\n",
       "      <td>33311</td>\n",
       "      <td>South</td>\n",
       "      <td>Furniture</td>\n",
       "      <td>Tables</td>\n",
       "      <td>957.5775</td>\n",
       "      <td>5</td>\n",
       "      <td>0.45</td>\n",
       "      <td>-383.0310</td>\n",
       "    </tr>\n",
       "    <tr>\n",
       "      <th>4</th>\n",
       "      <td>Standard Class</td>\n",
       "      <td>Consumer</td>\n",
       "      <td>United States</td>\n",
       "      <td>Fort Lauderdale</td>\n",
       "      <td>Florida</td>\n",
       "      <td>33311</td>\n",
       "      <td>South</td>\n",
       "      <td>Office Supplies</td>\n",
       "      <td>Storage</td>\n",
       "      <td>22.3680</td>\n",
       "      <td>2</td>\n",
       "      <td>0.20</td>\n",
       "      <td>2.5164</td>\n",
       "    </tr>\n",
       "    <tr>\n",
       "      <th>...</th>\n",
       "      <td>...</td>\n",
       "      <td>...</td>\n",
       "      <td>...</td>\n",
       "      <td>...</td>\n",
       "      <td>...</td>\n",
       "      <td>...</td>\n",
       "      <td>...</td>\n",
       "      <td>...</td>\n",
       "      <td>...</td>\n",
       "      <td>...</td>\n",
       "      <td>...</td>\n",
       "      <td>...</td>\n",
       "      <td>...</td>\n",
       "    </tr>\n",
       "    <tr>\n",
       "      <th>9989</th>\n",
       "      <td>Second Class</td>\n",
       "      <td>Consumer</td>\n",
       "      <td>United States</td>\n",
       "      <td>Miami</td>\n",
       "      <td>Florida</td>\n",
       "      <td>33180</td>\n",
       "      <td>South</td>\n",
       "      <td>Furniture</td>\n",
       "      <td>Furnishings</td>\n",
       "      <td>25.2480</td>\n",
       "      <td>3</td>\n",
       "      <td>0.20</td>\n",
       "      <td>4.1028</td>\n",
       "    </tr>\n",
       "    <tr>\n",
       "      <th>9990</th>\n",
       "      <td>Standard Class</td>\n",
       "      <td>Consumer</td>\n",
       "      <td>United States</td>\n",
       "      <td>Costa Mesa</td>\n",
       "      <td>California</td>\n",
       "      <td>92627</td>\n",
       "      <td>West</td>\n",
       "      <td>Furniture</td>\n",
       "      <td>Furnishings</td>\n",
       "      <td>91.9600</td>\n",
       "      <td>2</td>\n",
       "      <td>0.00</td>\n",
       "      <td>15.6332</td>\n",
       "    </tr>\n",
       "    <tr>\n",
       "      <th>9991</th>\n",
       "      <td>Standard Class</td>\n",
       "      <td>Consumer</td>\n",
       "      <td>United States</td>\n",
       "      <td>Costa Mesa</td>\n",
       "      <td>California</td>\n",
       "      <td>92627</td>\n",
       "      <td>West</td>\n",
       "      <td>Technology</td>\n",
       "      <td>Phones</td>\n",
       "      <td>258.5760</td>\n",
       "      <td>2</td>\n",
       "      <td>0.20</td>\n",
       "      <td>19.3932</td>\n",
       "    </tr>\n",
       "    <tr>\n",
       "      <th>9992</th>\n",
       "      <td>Standard Class</td>\n",
       "      <td>Consumer</td>\n",
       "      <td>United States</td>\n",
       "      <td>Costa Mesa</td>\n",
       "      <td>California</td>\n",
       "      <td>92627</td>\n",
       "      <td>West</td>\n",
       "      <td>Office Supplies</td>\n",
       "      <td>Paper</td>\n",
       "      <td>29.6000</td>\n",
       "      <td>4</td>\n",
       "      <td>0.00</td>\n",
       "      <td>13.3200</td>\n",
       "    </tr>\n",
       "    <tr>\n",
       "      <th>9993</th>\n",
       "      <td>Second Class</td>\n",
       "      <td>Consumer</td>\n",
       "      <td>United States</td>\n",
       "      <td>Westminster</td>\n",
       "      <td>California</td>\n",
       "      <td>92683</td>\n",
       "      <td>West</td>\n",
       "      <td>Office Supplies</td>\n",
       "      <td>Appliances</td>\n",
       "      <td>243.1600</td>\n",
       "      <td>2</td>\n",
       "      <td>0.00</td>\n",
       "      <td>72.9480</td>\n",
       "    </tr>\n",
       "  </tbody>\n",
       "</table>\n",
       "<p>9994 rows × 13 columns</p>\n",
       "</div>"
      ],
      "text/plain": [
       "           Ship Mode    Segment        Country             City       State  \\\n",
       "0       Second Class   Consumer  United States        Henderson    Kentucky   \n",
       "1       Second Class   Consumer  United States        Henderson    Kentucky   \n",
       "2       Second Class  Corporate  United States      Los Angeles  California   \n",
       "3     Standard Class   Consumer  United States  Fort Lauderdale     Florida   \n",
       "4     Standard Class   Consumer  United States  Fort Lauderdale     Florida   \n",
       "...              ...        ...            ...              ...         ...   \n",
       "9989    Second Class   Consumer  United States            Miami     Florida   \n",
       "9990  Standard Class   Consumer  United States       Costa Mesa  California   \n",
       "9991  Standard Class   Consumer  United States       Costa Mesa  California   \n",
       "9992  Standard Class   Consumer  United States       Costa Mesa  California   \n",
       "9993    Second Class   Consumer  United States      Westminster  California   \n",
       "\n",
       "      Postal Code Region         Category Sub-Category     Sales  Quantity  \\\n",
       "0           42420  South        Furniture    Bookcases  261.9600         2   \n",
       "1           42420  South        Furniture       Chairs  731.9400         3   \n",
       "2           90036   West  Office Supplies       Labels   14.6200         2   \n",
       "3           33311  South        Furniture       Tables  957.5775         5   \n",
       "4           33311  South  Office Supplies      Storage   22.3680         2   \n",
       "...           ...    ...              ...          ...       ...       ...   \n",
       "9989        33180  South        Furniture  Furnishings   25.2480         3   \n",
       "9990        92627   West        Furniture  Furnishings   91.9600         2   \n",
       "9991        92627   West       Technology       Phones  258.5760         2   \n",
       "9992        92627   West  Office Supplies        Paper   29.6000         4   \n",
       "9993        92683   West  Office Supplies   Appliances  243.1600         2   \n",
       "\n",
       "      Discount    Profit  \n",
       "0         0.00   41.9136  \n",
       "1         0.00  219.5820  \n",
       "2         0.00    6.8714  \n",
       "3         0.45 -383.0310  \n",
       "4         0.20    2.5164  \n",
       "...        ...       ...  \n",
       "9989      0.20    4.1028  \n",
       "9990      0.00   15.6332  \n",
       "9991      0.20   19.3932  \n",
       "9992      0.00   13.3200  \n",
       "9993      0.00   72.9480  \n",
       "\n",
       "[9994 rows x 13 columns]"
      ]
     },
     "execution_count": 40,
     "metadata": {},
     "output_type": "execute_result"
    }
   ],
   "source": [
    "show_records('IITM_DB','samplesuperstore')"
   ]
  },
  {
   "cell_type": "code",
   "execution_count": 41,
   "id": "b8d9a07f-455b-475f-a565-aa4d9dcb7cf0",
   "metadata": {},
   "outputs": [],
   "source": [
    "conn.close()"
   ]
  },
  {
   "cell_type": "code",
   "execution_count": null,
   "id": "d2639ebc-bc25-4190-9327-426d71e2ba79",
   "metadata": {},
   "outputs": [],
   "source": []
  }
 ],
 "metadata": {
  "kernelspec": {
   "display_name": "Python [conda env:base] *",
   "language": "python",
   "name": "conda-base-py"
  },
  "language_info": {
   "codemirror_mode": {
    "name": "ipython",
    "version": 3
   },
   "file_extension": ".py",
   "mimetype": "text/x-python",
   "name": "python",
   "nbconvert_exporter": "python",
   "pygments_lexer": "ipython3",
   "version": "3.13.5"
  }
 },
 "nbformat": 4,
 "nbformat_minor": 5
}
