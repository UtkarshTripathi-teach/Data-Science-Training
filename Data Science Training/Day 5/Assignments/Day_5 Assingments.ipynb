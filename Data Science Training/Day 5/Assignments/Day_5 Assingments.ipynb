{
 "cells": [
  {
   "cell_type": "markdown",
   "id": "1f4165c2-6fb3-415b-9797-05d513803ac7",
   "metadata": {},
   "source": [
    "# Mini Practice Tasks"
   ]
  },
  {
   "cell_type": "markdown",
   "id": "32d9fb0b-7a4e-46d8-84c4-a8367933f52a",
   "metadata": {},
   "source": [
    "### Task 1 - Create a library_db with books table.\n",
    "#### - Columns:book_id,title,author,price. \n",
    "### Task 2- Insert 3 book records using python.\n",
    "### Task 3- Write a query to find total price of all books.\n",
    "### Task 4- Convert result to dataframe and save as csv. "
   ]
  },
  {
   "cell_type": "code",
   "execution_count": null,
   "id": "1f4742d2-7b58-447d-a557-0ca26b0155d5",
   "metadata": {},
   "outputs": [
    {
     "name": "stdin",
     "output_type": "stream",
     "text": [
      "How many books do you want to enter?  3\n"
     ]
    },
    {
     "name": "stdout",
     "output_type": "stream",
     "text": [
      "\n",
      "Book 1\n"
     ]
    },
    {
     "name": "stdin",
     "output_type": "stream",
     "text": [
      "Enter title:  Heart of Darkness\n",
      "Enter author:  Joseph Conrad\n",
      "Enter price:  199\n"
     ]
    },
    {
     "name": "stdout",
     "output_type": "stream",
     "text": [
      "\n",
      "Book 2\n"
     ]
    },
    {
     "name": "stdin",
     "output_type": "stream",
     "text": [
      "Enter title:  Deep work\n",
      "Enter author:  Cal Newport\n",
      "Enter price:  349\n"
     ]
    },
    {
     "name": "stdout",
     "output_type": "stream",
     "text": [
      "\n",
      "Book 3\n"
     ]
    },
    {
     "name": "stdin",
     "output_type": "stream",
     "text": [
      "Enter title:  Dont't Believe Everything You Think\n"
     ]
    }
   ],
   "source": [
    "import pymysql\n",
    "import pandas as pd\n",
    "\n",
    "# Database Connection\n",
    "conn = pymysql.connect(\n",
    "    host=\"localhost\",\n",
    "    user=\"root\",        \n",
    "    password=\"utkarsh2408\"     \n",
    ")\n",
    "cursor = conn.cursor()\n",
    "\n",
    "# Create DB and Table\n",
    "cursor.execute(\"CREATE DATABASE IF NOT EXISTS library_db\")\n",
    "cursor.execute(\"USE library_db\")\n",
    "cursor.execute(\"\"\"\n",
    "    CREATE TABLE IF NOT EXISTS books (\n",
    "        book_id INT AUTO_INCREMENT PRIMARY KEY,\n",
    "        title VARCHAR(255),\n",
    "        author VARCHAR(255),\n",
    "        price DECIMAL(10, 2)\n",
    "    )\n",
    "\"\"\")\n",
    "\n",
    "# Input books from user\n",
    "n = int(input(\"How many books do you want to enter? \"))\n",
    "\n",
    "books = []\n",
    "for i in range(n):\n",
    "    print(f\"\\nBook {i+1}\")\n",
    "    title = input(\"Enter title: \")\n",
    "    author = input(\"Enter author: \")\n",
    "    try:\n",
    "        price = float(input(\"Enter price: \"))\n",
    "        books.append((title, author, price))\n",
    "    except ValueError:\n",
    "        print(\"Invalid price. Skipping this book.\")\n",
    "\n",
    "# Insert into table\n",
    "cursor.executemany(\"INSERT INTO books (title, author, price) VALUES (%s, %s, %s)\", books)\n",
    "conn.commit()\n",
    "print(f\"\\n {len(books)} book(s) added to database.\")\n",
    "\n",
    "# Get total price \n",
    "cursor.execute(\"SELECT SUM(price) FROM books\")\n",
    "total_price = cursor.fetchone()[0]\n",
    "print(f\"\\nTotal Price of All Books: Rs{total_price}\")\n",
    "\n",
    "# Save to CSV\n",
    "df = pd.DataFrame([{'Total Price': total_price}])\n",
    "df.to_csv(\"total_price.csv\", index=False)\n",
    "print(\"Saved total price to 'total_price.csv'.\")\n",
    "\n",
    "# Close all\n",
    "cursor.close()\n",
    "conn.close()\n"
   ]
  },
  {
   "cell_type": "code",
   "execution_count": null,
   "id": "f6378131-d873-4170-ae91-3ef7a4a9ec9a",
   "metadata": {},
   "outputs": [],
   "source": []
  }
 ],
 "metadata": {
  "kernelspec": {
   "display_name": "Python [conda env:base] *",
   "language": "python",
   "name": "conda-base-py"
  },
  "language_info": {
   "codemirror_mode": {
    "name": "ipython",
    "version": 3
   },
   "file_extension": ".py",
   "mimetype": "text/x-python",
   "name": "python",
   "nbconvert_exporter": "python",
   "pygments_lexer": "ipython3",
   "version": "3.13.5"
  }
 },
 "nbformat": 4,
 "nbformat_minor": 5
}
