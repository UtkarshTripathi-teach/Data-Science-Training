{
 "cells": [
  {
   "cell_type": "markdown",
   "id": "957a6aab-9b45-4457-8179-492c434283be",
   "metadata": {},
   "source": [
    "# 1.Even or Odd Function"
   ]
  },
  {
   "cell_type": "code",
   "execution_count": 14,
   "id": "8a6fff9c-cd9a-4e9d-9ee0-96a1ea506b64",
   "metadata": {},
   "outputs": [],
   "source": [
    "def check_even_or_odd(num):\n",
    "    \n",
    "    if num%2 == 0:\n",
    "        return 'Even Number'\n",
    "    else:\n",
    "        return 'Odd Number'\n"
   ]
  },
  {
   "cell_type": "code",
   "execution_count": 67,
   "id": "9d69e10f-db57-4ae7-afa3-b8e74e84e146",
   "metadata": {},
   "outputs": [
    {
     "data": {
      "text/plain": [
       "'Odd Number'"
      ]
     },
     "execution_count": 67,
     "metadata": {},
     "output_type": "execute_result"
    }
   ],
   "source": [
    "check_even_or_odd(77)"
   ]
  },
  {
   "cell_type": "code",
   "execution_count": 15,
   "id": "ffdb04ab-3b4a-420b-8188-10c99bc0192e",
   "metadata": {},
   "outputs": [
    {
     "data": {
      "text/plain": [
       "'Even Number'"
      ]
     },
     "execution_count": 15,
     "metadata": {},
     "output_type": "execute_result"
    }
   ],
   "source": [
    "check_even_or_odd(100)"
   ]
  },
  {
   "cell_type": "markdown",
   "id": "2c501b83-9aae-47da-a0f8-be09c94604ad",
   "metadata": {},
   "source": [
    "# 2.Pyramid Pattern"
   ]
  },
  {
   "cell_type": "code",
   "execution_count": 45,
   "id": "755b751d-8ec1-48c0-b349-34a51cdbc769",
   "metadata": {},
   "outputs": [],
   "source": [
    "def print_pyramid(n = 5,symbol = '*'):\n",
    "    for i in range(1,n+1):\n",
    "        print(' '*(n-i) + f'{symbol} '*i)"
   ]
  },
  {
   "cell_type": "code",
   "execution_count": 66,
   "id": "16650a60-ae36-43f3-8b06-6ffdf3516814",
   "metadata": {},
   "outputs": [
    {
     "name": "stdout",
     "output_type": "stream",
     "text": [
      "    $ \n",
      "   $ $ \n",
      "  $ $ $ \n",
      " $ $ $ $ \n",
      "$ $ $ $ $ \n"
     ]
    }
   ],
   "source": [
    "print_pyramid(5,'$')"
   ]
  },
  {
   "cell_type": "code",
   "execution_count": 46,
   "id": "22a1fbf6-99fa-48ba-a474-6ef2439e5635",
   "metadata": {},
   "outputs": [
    {
     "name": "stdout",
     "output_type": "stream",
     "text": [
      "         * \n",
      "        * * \n",
      "       * * * \n",
      "      * * * * \n",
      "     * * * * * \n",
      "    * * * * * * \n",
      "   * * * * * * * \n",
      "  * * * * * * * * \n",
      " * * * * * * * * * \n",
      "* * * * * * * * * * \n"
     ]
    }
   ],
   "source": [
    "print_pyramid(10)"
   ]
  },
  {
   "cell_type": "markdown",
   "id": "d98210c0-76b4-48b9-b9e9-30e5624c86e5",
   "metadata": {},
   "source": [
    "# 3.Hashtag Generator"
   ]
  },
  {
   "cell_type": "code",
   "execution_count": 55,
   "id": "16401b2b-7c1c-471c-839f-da66188fc660",
   "metadata": {},
   "outputs": [],
   "source": [
    "def add_hastags(*names):\n",
    "    lis=[]\n",
    "    for i in names:\n",
    "        lis.append('#' + i.upper())\n",
    "    return lis"
   ]
  },
  {
   "cell_type": "code",
   "execution_count": 57,
   "id": "243eb4f2-517c-4f83-be3b-1cfa049c1056",
   "metadata": {},
   "outputs": [
    {
     "data": {
      "text/plain": [
       "['#TATA', '#JIO', '#AIRTEL']"
      ]
     },
     "execution_count": 57,
     "metadata": {},
     "output_type": "execute_result"
    }
   ],
   "source": [
    "add_hastags('tata','jio','airtel')"
   ]
  },
  {
   "cell_type": "markdown",
   "id": "fdee25ca-b60a-4224-8dea-e7df74ce445f",
   "metadata": {},
   "source": [
    "# 4.User Input Factorial"
   ]
  },
  {
   "cell_type": "code",
   "execution_count": 51,
   "id": "104e2ebf-e4dd-4eff-9799-d6afc0261359",
   "metadata": {},
   "outputs": [],
   "source": [
    "def factorial(n):\n",
    "    result = 1\n",
    "    for i in range(1,n+1):\n",
    "        result *= i\n",
    "    return result"
   ]
  },
  {
   "cell_type": "code",
   "execution_count": 65,
   "id": "c37122d0-3ab2-4378-ae10-14eccc83a4ef",
   "metadata": {},
   "outputs": [
    {
     "data": {
      "text/plain": [
       "720"
      ]
     },
     "execution_count": 65,
     "metadata": {},
     "output_type": "execute_result"
    }
   ],
   "source": [
    "factorial(6)"
   ]
  },
  {
   "cell_type": "markdown",
   "id": "735de548-83a0-400f-88a5-cbcd2b29abef",
   "metadata": {},
   "source": [
    "# 5.Student Records"
   ]
  },
  {
   "cell_type": "code",
   "execution_count": 53,
   "id": "6a8187ee-384d-4415-b3e5-9dae7d54a4ae",
   "metadata": {},
   "outputs": [],
   "source": [
    "def student_records(**kwargs):\n",
    "    for key,value in kwargs.items():\n",
    "        print(f\"{key}:{value}\")"
   ]
  },
  {
   "cell_type": "code",
   "execution_count": 54,
   "id": "923a885b-633f-4a77-83f5-76dfd90ce733",
   "metadata": {},
   "outputs": [
    {
     "name": "stdout",
     "output_type": "stream",
     "text": [
      "name:Utkarsh\n",
      "age:20\n",
      "city:Delhi\n"
     ]
    }
   ],
   "source": [
    "student_records(\n",
    "    name = \"Utkarsh\",\n",
    "    age = 20,\n",
    "    city = \"Delhi\"\n",
    ")"
   ]
  },
  {
   "cell_type": "code",
   "execution_count": null,
   "id": "b2dd4e53-ac5a-441a-9c76-cfc382d614a4",
   "metadata": {},
   "outputs": [],
   "source": [
    "student_records(\n",
    "    name = \"Kartik\",\n",
    "    age = \"20\",\n",
    "    \n",
    ")"
   ]
  }
 ],
 "metadata": {
  "kernelspec": {
   "display_name": "Python [conda env:base] *",
   "language": "python",
   "name": "conda-base-py"
  },
  "language_info": {
   "codemirror_mode": {
    "name": "ipython",
    "version": 3
   },
   "file_extension": ".py",
   "mimetype": "text/x-python",
   "name": "python",
   "nbconvert_exporter": "python",
   "pygments_lexer": "ipython3",
   "version": "3.13.5"
  }
 },
 "nbformat": 4,
 "nbformat_minor": 5
}
