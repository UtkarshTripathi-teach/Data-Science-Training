{
 "cells": [
  {
   "cell_type": "markdown",
   "id": "e53a6622-2538-412d-86b5-2f14f732cf72",
   "metadata": {},
   "source": [
    "### Python Webscraping Project\n",
    "### Scrap Website\n",
    "### Store data in database"
   ]
  },
  {
   "cell_type": "code",
   "execution_count": 4,
   "id": "3e11f6d7-758f-4108-bdf7-17edefa888cf",
   "metadata": {},
   "outputs": [],
   "source": [
    "# Header \n",
    "    # nav area\n",
    "# main\n",
    "    # main content (data)\n",
    "# Footer"
   ]
  },
  {
   "cell_type": "code",
   "execution_count": 2,
   "id": "f76b6f51-7c45-40b8-b70b-dbf1d37e02f7",
   "metadata": {},
   "outputs": [
    {
     "data": {
      "text/plain": [
       "<Response [200]>"
      ]
     },
     "execution_count": 2,
     "metadata": {},
     "output_type": "execute_result"
    }
   ],
   "source": [
    "import requests as r\n",
    "url = '''https://en.wikipedia.org/wiki/List_of_Indians_by_net_worth'''\n",
    "\n",
    "response = r.get(url)\n",
    "\n",
    "response"
   ]
  },
  {
   "cell_type": "markdown",
   "id": "7d9a06fc-a108-48b7-a2f4-29c60fe02477",
   "metadata": {},
   "source": [
    "#### <Response [200]>   It means Data can be Extracted "
   ]
  },
  {
   "cell_type": "code",
   "execution_count": 3,
   "id": "d7378e55-2579-44f6-903e-eece512354e1",
   "metadata": {},
   "outputs": [],
   "source": [
    "html_data = response.content\n"
   ]
  },
  {
   "cell_type": "code",
   "execution_count": 4,
   "id": "952925c3-34e4-4341-9f75-8e374564fa01",
   "metadata": {},
   "outputs": [
    {
     "name": "stdout",
     "output_type": "stream",
     "text": [
      "Done\n"
     ]
    }
   ],
   "source": [
    "from bs4 import BeautifulSoup\n",
    "soup = BeautifulSoup(html_data)\n",
    "print('Done')"
   ]
  },
  {
   "cell_type": "code",
   "execution_count": 5,
   "id": "dc423e4c-b267-4404-9ffb-519a2bff86dd",
   "metadata": {
    "scrolled": true
   },
   "outputs": [
    {
     "data": {
      "text/plain": [
       "[]"
      ]
     },
     "execution_count": 5,
     "metadata": {},
     "output_type": "execute_result"
    }
   ],
   "source": [
    "soup.find_all('table',class_ =\"wikitable sortable jquery-tablesorter\")"
   ]
  },
  {
   "cell_type": "code",
   "execution_count": 24,
   "id": "a830fc65-4603-4c29-a212-9f675e7e1f8e",
   "metadata": {},
   "outputs": [
    {
     "name": "stdout",
     "output_type": "stream",
     "text": [
      "Ravi\n",
      "Ajay\n"
     ]
    }
   ],
   "source": [
    "students = ['karan','Ravi','Ajay','Mohan']\n",
    "for index_no,value in  enumerate(students):\n",
    "    if 1<= index_no <=2:\n",
    "        print(value)"
   ]
  },
  {
   "cell_type": "code",
   "execution_count": null,
   "id": "32af225f-6ac1-4fdf-81f4-b60ef6f1b190",
   "metadata": {},
   "outputs": [],
   "source": []
  },
  {
   "cell_type": "code",
   "execution_count": null,
   "id": "60461d35-2751-4b7b-baa4-1d218f46e536",
   "metadata": {},
   "outputs": [],
   "source": []
  },
  {
   "cell_type": "code",
   "execution_count": null,
   "id": "98ce2bc5-c07e-44ec-b060-3892c3afcf35",
   "metadata": {},
   "outputs": [],
   "source": []
  },
  {
   "cell_type": "code",
   "execution_count": 6,
   "id": "92b8a381-a326-410c-a271-3ac5acacec47",
   "metadata": {},
   "outputs": [
    {
     "name": "stdout",
     "output_type": "stream",
     "text": [
      "Done\n"
     ]
    }
   ],
   "source": [
    "all_data = []\n",
    "\n",
    "for index_no,value in enumerate(soup.find_all('tr')):\n",
    "    if 0<= index_no <= 24:\n",
    "        # print(index_no,value.text)\n",
    "        temp_data = value.text.splitlines()\n",
    "\n",
    "        while '' in temp_data:\n",
    "            temp_data.remove('')\n",
    "\n",
    "        all_data.append(temp_data)\n",
    "\n",
    "print('Done')"
   ]
  },
  {
   "cell_type": "code",
   "execution_count": null,
   "id": "9ed0250e-2e21-421a-8618-3a4933c6460b",
   "metadata": {},
   "outputs": [],
   "source": []
  },
  {
   "cell_type": "code",
   "execution_count": 7,
   "id": "ed1ee436-4669-44d5-a9b3-236b3f222e24",
   "metadata": {},
   "outputs": [],
   "source": [
    "column = all_data[0]\n",
    "final_data = all_data[1:]"
   ]
  },
  {
   "cell_type": "code",
   "execution_count": 8,
   "id": "7de7e7d1-0791-4442-9cde-f73429f7ca58",
   "metadata": {},
   "outputs": [
    {
     "name": "stdout",
     "output_type": "stream",
     "text": [
      "Done\n"
     ]
    }
   ],
   "source": [
    "import pandas as pd\n",
    "final_columns = ['Rank','Name','Net worth (USD)','Company Name','Sources of wealth','None','None']\n",
    "rich_list = pd.DataFrame(final_data,columns=final_columns)\n",
    "\n",
    "final_df = rich_list.drop('None',axis=1)\n",
    "\n",
    "final_df.to_excel('Rich_list.xlsx')\n",
    "print('Done')"
   ]
  },
  {
   "cell_type": "code",
   "execution_count": 10,
   "id": "acc6513f-dc1d-4ad0-aa4e-0a6cbacbcb3a",
   "metadata": {},
   "outputs": [
    {
     "name": "stdout",
     "output_type": "stream",
     "text": [
      "Done\n"
     ]
    }
   ],
   "source": [
    "import pymysql as py\n",
    "\n",
    "conn = py.connect(user = 'root',\n",
    "            password = 'utkarsh2408',\n",
    "            host = 'localhost',\n",
    "            autocommit = True)\n",
    "cur = conn.cursor()\n",
    "print('Done')"
   ]
  },
  {
   "cell_type": "code",
   "execution_count": 12,
   "id": "ff466059-203d-4f47-9e50-74c36a28ef47",
   "metadata": {},
   "outputs": [
    {
     "name": "stdout",
     "output_type": "stream",
     "text": [
      "Done\n"
     ]
    }
   ],
   "source": [
    "query = 'create database wiki2;'\n",
    "\n",
    "cur.execute(query)\n",
    "print('Done')"
   ]
  },
  {
   "cell_type": "code",
   "execution_count": 13,
   "id": "f445bf03-5c05-446e-9e64-e92d699e16f5",
   "metadata": {},
   "outputs": [
    {
     "data": {
      "text/plain": [
       "['Rank', 'Name', 'Net worth (USD)', 'Company Name', 'Sources of wealth']"
      ]
     },
     "execution_count": 13,
     "metadata": {},
     "output_type": "execute_result"
    }
   ],
   "source": [
    "list(final_df.columns)"
   ]
  },
  {
   "cell_type": "code",
   "execution_count": null,
   "id": "1d03d2cf-a80d-4915-9b5f-210aa82bbf99",
   "metadata": {},
   "outputs": [],
   "source": [
    "# list comprihancen"
   ]
  },
  {
   "cell_type": "code",
   "execution_count": 14,
   "id": "bc5fb2b4-f19f-4326-ad43-c927e0abb315",
   "metadata": {},
   "outputs": [
    {
     "data": {
      "text/plain": [
       "['rich_Rank',\n",
       " 'rich_Name',\n",
       " 'rich_Net_worth_US_Dollar',\n",
       " 'rich_Company_Name',\n",
       " 'rich_Sources_of_wealth']"
      ]
     },
     "execution_count": 14,
     "metadata": {},
     "output_type": "execute_result"
    }
   ],
   "source": [
    "table_column = ['rich_'+i.replace(' ','_').replace('(USD)','US_Dollar') for i in final_df.columns]\n",
    "table_column"
   ]
  },
  {
   "cell_type": "code",
   "execution_count": null,
   "id": "d59010e9-c07b-4ff5-9c47-a5f74e7b7a14",
   "metadata": {},
   "outputs": [],
   "source": []
  },
  {
   "cell_type": "code",
   "execution_count": 20,
   "id": "7c3d88cb-8282-4c4e-8e54-70f6c5f52c75",
   "metadata": {},
   "outputs": [
    {
     "name": "stdout",
     "output_type": "stream",
     "text": [
      "Create table wiki2.rich_list(rich_Rank varchar(255), rich_Name varchar(255), rich_Net_worth_US_Dollar varchar(255), rich_Company_Name varchar(255), rich_Sources_of_wealth varchar(255));\n"
     ]
    }
   ],
   "source": [
    "# join\n",
    "\n",
    "query_part = ' varchar(255), ' .join(table_column) + ' varchar(255)'\n",
    "\n",
    "query = '''Create table wiki2.rich_list('''+query_part +''');'''\n",
    "print(query)\n"
   ]
  },
  {
   "cell_type": "code",
   "execution_count": null,
   "id": "a294a53b-2ba6-4d2e-be2b-613b4dde4e18",
   "metadata": {},
   "outputs": [],
   "source": []
  },
  {
   "cell_type": "code",
   "execution_count": 21,
   "id": "b3f307e4-17dd-4067-8352-c1de55ce7e5e",
   "metadata": {},
   "outputs": [
    {
     "data": {
      "text/plain": [
       "0"
      ]
     },
     "execution_count": 21,
     "metadata": {},
     "output_type": "execute_result"
    }
   ],
   "source": [
    "cur.execute(query)"
   ]
  },
  {
   "cell_type": "code",
   "execution_count": 29,
   "id": "42dc9d62-d5b7-4454-a762-94e90a77cfb4",
   "metadata": {},
   "outputs": [],
   "source": [
    "# Insert Data\n",
    "\n",
    "for i in final_df.itertuples():  # each row of dataframe itert \n",
    "    value = tuple(i)[1:]\n",
    "\n",
    "    query = f'''insert into wiki2.rich_list values {value};'''\n",
    "    cur.execute(query)"
   ]
  },
  {
   "cell_type": "code",
   "execution_count": null,
   "id": "73a7230f-0772-4890-a3b3-52c0d00e3400",
   "metadata": {},
   "outputs": [],
   "source": []
  },
  {
   "cell_type": "code",
   "execution_count": null,
   "id": "b9f6fc43-2a9b-418b-a169-dc0846c4e4d4",
   "metadata": {},
   "outputs": [],
   "source": []
  }
 ],
 "metadata": {
  "kernelspec": {
   "display_name": "Python [conda env:base] *",
   "language": "python",
   "name": "conda-base-py"
  },
  "language_info": {
   "codemirror_mode": {
    "name": "ipython",
    "version": 3
   },
   "file_extension": ".py",
   "mimetype": "text/x-python",
   "name": "python",
   "nbconvert_exporter": "python",
   "pygments_lexer": "ipython3",
   "version": "3.13.5"
  }
 },
 "nbformat": 4,
 "nbformat_minor": 5
}
