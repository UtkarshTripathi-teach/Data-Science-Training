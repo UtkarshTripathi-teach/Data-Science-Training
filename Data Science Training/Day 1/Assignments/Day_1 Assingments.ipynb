{
 "cells": [
  {
   "cell_type": "markdown",
   "id": "5577e5d4-2a9d-47ca-bdeb-384dad2c4fe0",
   "metadata": {},
   "source": [
    "# 1.Budget Calculator"
   ]
  },
  {
   "cell_type": "code",
   "execution_count": 8,
   "id": "faa7198b-93fc-46b6-9e48-128ff8d31c4f",
   "metadata": {},
   "outputs": [],
   "source": [
    "def monthly_budget_calculator():\n",
    "    print('Monthly Budget Calculator:')\n",
    "    \n",
    "    # inputs expenses of month\n",
    "    rent = float(input(\"Enter Your Monthly rent:\"))\n",
    "    transport = float(input(\"Enter your Monthly Transport expenses:\"))\n",
    "    entertainment = float(input(\"Enter your Monthly Entertainment expenses:\"))\n",
    "    grocery = float(input(\"Enter your Monthly Grocery expenses:\"))\n",
    "    health = float(input(\"Enter your Monthly Health expenses:\"))\n",
    "    food = float(input(\"Enter your Monthly Food expenses:\"))\n",
    "    education = float(input(\"Enter your Monthly Education expenses:\"))\n",
    "    \n",
    "    # total expenses of month\n",
    "    total_expenses = rent + transport + entertainment + grocery + health + food + education\n",
    "    \n",
    "    # display Monthly Budget Summery\n",
    "    print(f\"\\nMonthly Budget Summery\")\n",
    "    print(f\"Your Monthly Rent Expenses is {rent} Rs\")\n",
    "    print(f\"Your Monthly Transport Expenses is {transport} Rs\")\n",
    "    print(f\"Your Monthly Entertainment Expenses is {entertainment} Rs\")\n",
    "    print(f\"Your Monthly Grocery Expenses is {grocery} Rs\")\n",
    "    print(f\"Your Monthly Health Expenses is {health} Rs\")\n",
    "    print(f\"Your Monthly Food Expenses is {food} Rs\")\n",
    "    print(f\"Your Monthly Education Expenses is {education} Rs\")\n",
    "    print(\"=\"*40)\n",
    "    print(f\"Total Monthly Expenses:{total_expenses} Rs.\")\n",
    "    \n",
    "    # saving recomdations\n",
    "    income = float(input(\"\\nEnter Your Monthly Income in Rs :\"))\n",
    "    saving = (income - total_expenses)\n",
    "\n",
    "    if saving>0:\n",
    "        print(f\"\\nGreat! You Saved {saving:,.2f} Rs this Month\")\n",
    "        print(f\"Annual Saving potential {saving*12:,.2f} Rs \")\n",
    "    else:\n",
    "        print(f\"\\nYou are Overspending by {abs(saving):,.2f} Rs\")\n",
    "        print(f\"Consider reducing expenses.\")"
   ]
  },
  {
   "cell_type": "code",
   "execution_count": 9,
   "id": "0fc793ed-5fee-4af8-a1cc-cbfd06301ac2",
   "metadata": {},
   "outputs": [
    {
     "name": "stdout",
     "output_type": "stream",
     "text": [
      "Monthly Budget Calculator:\n"
     ]
    },
    {
     "name": "stdin",
     "output_type": "stream",
     "text": [
      "Enter Your Monthly rent: 299\n",
      "Enter your Monthly Transport expenses: 23\n",
      "Enter your Monthly Entertainment expenses: 23\n",
      "Enter your Monthly Grocery expenses: 2\n",
      "Enter your Monthly Health expenses: 3\n",
      "Enter your Monthly Food expenses: 2\n",
      "Enter your Monthly Education expenses: 123\n"
     ]
    },
    {
     "name": "stdout",
     "output_type": "stream",
     "text": [
      "\n",
      "Monthly Budget Summery\n",
      "Your Monthly Rent Expenses is 299.0 Rs\n",
      "Your Monthly Transport Expenses is 23.0 Rs\n",
      "Your Monthly Entertainment Expenses is 23.0 Rs\n",
      "Your Monthly Grocery Expenses is 2.0 Rs\n",
      "Your Monthly Health Expenses is 3.0 Rs\n",
      "Your Monthly Food Expenses is 2.0 Rs\n",
      "Your Monthly Education Expenses is 123.0 Rs\n",
      "========================================\n",
      "Total Monthly Expenses:475.0 Rs.\n"
     ]
    },
    {
     "name": "stdin",
     "output_type": "stream",
     "text": [
      "\n",
      "Enter Your Monthly Income in Rs : 500\n"
     ]
    },
    {
     "name": "stdout",
     "output_type": "stream",
     "text": [
      "\n",
      "Great! You Saved 25.00 Rs this Month\n",
      "Annual Saving potential 300.00 Rs \n"
     ]
    }
   ],
   "source": [
    "monthly_budget_calculator()"
   ]
  },
  {
   "cell_type": "code",
   "execution_count": null,
   "id": "6d1cc9f4-9a69-4f43-8229-c8ab64ec26bb",
   "metadata": {},
   "outputs": [],
   "source": []
  },
  {
   "cell_type": "markdown",
   "id": "67b27fd9-87ed-45ba-a8d8-8420fb09fc84",
   "metadata": {},
   "source": [
    "# 2.Voting Eligibility"
   ]
  },
  {
   "cell_type": "code",
   "execution_count": 17,
   "id": "a4de740f-1825-4fdf-98a3-195f4dd3a0c2",
   "metadata": {},
   "outputs": [],
   "source": [
    "def voter_eligibility_checker():\n",
    "    print(f\"\\nIndian Voters Eligibility Checker.\")\n",
    "    \n",
    "    # input details of candidate\n",
    "    name = input(\"\\nEnter Your Name :\")\n",
    "    age = int(input(\"Enter Your Age :\"))\n",
    "    nationality = input(\"Are You Indian(yes/no)\").lower()\n",
    "    \n",
    "    if age >= 18 and nationality == \"yes\":\n",
    "        print(f\"\\nCongratulation {name}!!\")\n",
    "        print(f\"You are Eligibel for Vote in Indian Elections. \")\n",
    "        print(f\"\\nNext Setps:\")\n",
    "        voter_id = input(\"Do you have voter ID card? (yes/no):\").lower()\n",
    "        if voter_id == \"yes\":\n",
    "            print(\"You can vote in Local Election, Lock Sabha Election and Rajya Sabha Election .\")\n",
    "        elif voter_id:\n",
    "            print(\"1. Apply for Voter ID Card at nearest Election Office\")\n",
    "            print(\"2.Required Documents: Age proof,Address proof,Identity proof\")\n",
    "            print(\"3.You can Vote in Local Election, Lock Sabha Election and Rajya Sabha Election .\")\n",
    "        else :\n",
    "            print(\"Input wrong\")\n",
    "        \n",
    "    \n",
    "    elif age < 18 and nationality == \"yes\":\n",
    "        years = 18-age\n",
    "        print(f\"\\nSorry {name}, You need to wait {years} more year(s)\")\n",
    "    \n",
    "    else:\n",
    "        print(f\"\\nOnly Indian citizens are Eligible to vote in India. \")"
   ]
  },
  {
   "cell_type": "code",
   "execution_count": 18,
   "id": "39aac703-ce97-411f-87b3-0b18322c21df",
   "metadata": {},
   "outputs": [
    {
     "name": "stdout",
     "output_type": "stream",
     "text": [
      "\n",
      "Indian Voters Eligibility Checker.\n"
     ]
    },
    {
     "name": "stdin",
     "output_type": "stream",
     "text": [
      "\n",
      "Enter Your Name : Utkarsh Tripathi\n",
      "Enter Your Age : 21\n",
      "Are You Indian(yes/no) yes\n"
     ]
    },
    {
     "name": "stdout",
     "output_type": "stream",
     "text": [
      "\n",
      "Congratulation Utkarsh Tripathi!!\n",
      "You are Eligibel for Vote in Indian Elections. \n",
      "\n",
      "Next Setps:\n"
     ]
    },
    {
     "name": "stdin",
     "output_type": "stream",
     "text": [
      "Do you have voter ID card? (yes/no): no\n"
     ]
    },
    {
     "name": "stdout",
     "output_type": "stream",
     "text": [
      "1. Apply for Voter ID Card at nearest Election Office\n",
      "2.Required Documents: Age proof,Address proof,Identity proof\n",
      "3.You can Vote in Local Election, Lock Sabha Election and Rajya Sabha Election .\n"
     ]
    }
   ],
   "source": [
    "voter_eligibility_checker()"
   ]
  },
  {
   "cell_type": "code",
   "execution_count": null,
   "id": "828255b2-1327-479e-ac0d-db89195fe4f8",
   "metadata": {},
   "outputs": [],
   "source": []
  },
  {
   "cell_type": "markdown",
   "id": "b0f19f23-90a9-4c01-bcf3-a8c9ce06647a",
   "metadata": {},
   "source": [
    "# 3.Guess the ATM PIN"
   ]
  },
  {
   "cell_type": "code",
   "execution_count": 24,
   "id": "e69e9b05-beb6-4e2e-8eaa-bed01a79d7a3",
   "metadata": {},
   "outputs": [],
   "source": [
    "def atm_pin_guess():\n",
    "    import random\n",
    "    \n",
    "    print(f\"\\nATM PIN Security Game\")\n",
    "    print(f\"\\nYour ATM card has been temporariluy locked.\")\n",
    "    print(f\"\\nGuess your 4-digit PIN to unlock(3 attempts only)\")\n",
    "    \n",
    "    \n",
    "    correct_pin = random.randint(1000,9999)\n",
    "    attempts = 4\n",
    "    \n",
    "    print(f\"\\nHint: Your PIN is {correct_pin} .\") \n",
    "    \n",
    "    while attempts > 0:\n",
    "        try:\n",
    "            user_pin = int(input(f\"\\nEnter your PIN (Attempts left:{attempts}):\"))\n",
    "    \n",
    "            if len(str(user_pin)) != 4:\n",
    "                print(f\"\\nPIN must be exactly 4 digits!\")\n",
    "                continue\n",
    "    \n",
    "            if user_pin == correct_pin:\n",
    "                print(f\"\\nPIN Correct ! ATM card unlocked.\")\n",
    "                print(\"You can now proceed with your transaction\")\n",
    "                break\n",
    "            else:\n",
    "                attempts -= 1\n",
    "                if attempts > 0:\n",
    "                    print(f\"\\nWrong PIN! {attempts} attempts remaining\")\n",
    "                else:\n",
    "                    print(f\"\\nCard Blocked!!\")\n",
    "                    print(\"Too many incorrect attempts detected\")\n",
    "        except ValueError:\n",
    "            print(f\"\\nPlease enter a valid 4-digit number. \")"
   ]
  },
  {
   "cell_type": "code",
   "execution_count": 25,
   "id": "086ba194-f5b3-4b33-9b8e-89111f187a8d",
   "metadata": {},
   "outputs": [
    {
     "name": "stdout",
     "output_type": "stream",
     "text": [
      "\n",
      "ATM PIN Security Game\n",
      "\n",
      "Your ATM card has been temporariluy locked.\n",
      "\n",
      "Guess your 4-digit PIN to unlock(3 attempts only)\n",
      "\n",
      "Hint: Your PIN is 9631 .\n"
     ]
    },
    {
     "name": "stdin",
     "output_type": "stream",
     "text": [
      "\n",
      "Enter your PIN (Attempts left:4): 21wd\n"
     ]
    },
    {
     "name": "stdout",
     "output_type": "stream",
     "text": [
      "\n",
      "Please enter a valid 4-digit number. \n"
     ]
    },
    {
     "name": "stdin",
     "output_type": "stream",
     "text": [
      "\n",
      "Enter your PIN (Attempts left:4): 2345\n"
     ]
    },
    {
     "name": "stdout",
     "output_type": "stream",
     "text": [
      "\n",
      "Wrong PIN! 3 attempts remaining\n"
     ]
    },
    {
     "name": "stdin",
     "output_type": "stream",
     "text": [
      "\n",
      "Enter your PIN (Attempts left:3): 1234\n"
     ]
    },
    {
     "name": "stdout",
     "output_type": "stream",
     "text": [
      "\n",
      "Wrong PIN! 2 attempts remaining\n"
     ]
    },
    {
     "name": "stdin",
     "output_type": "stream",
     "text": [
      "\n",
      "Enter your PIN (Attempts left:2): 4839\n"
     ]
    },
    {
     "name": "stdout",
     "output_type": "stream",
     "text": [
      "\n",
      "Wrong PIN! 1 attempts remaining\n"
     ]
    },
    {
     "name": "stdin",
     "output_type": "stream",
     "text": [
      "\n",
      "Enter your PIN (Attempts left:1): 12345\n"
     ]
    },
    {
     "name": "stdout",
     "output_type": "stream",
     "text": [
      "\n",
      "PIN must be exactly 4 digits!\n"
     ]
    },
    {
     "name": "stdin",
     "output_type": "stream",
     "text": [
      "\n",
      "Enter your PIN (Attempts left:1): 9631\n"
     ]
    },
    {
     "name": "stdout",
     "output_type": "stream",
     "text": [
      "\n",
      "PIN Correct ! ATM card unlocked.\n",
      "You can now proceed with your transaction\n"
     ]
    }
   ],
   "source": [
    "atm_pin_guess()"
   ]
  },
  {
   "cell_type": "code",
   "execution_count": null,
   "id": "f4f0dc32-03b7-444e-8f20-365409858b39",
   "metadata": {},
   "outputs": [],
   "source": []
  },
  {
   "cell_type": "markdown",
   "id": "41d928f6-132a-4e40-9985-638f2bf7ee85",
   "metadata": {},
   "source": [
    "# 4.Student Report Card"
   ]
  },
  {
   "cell_type": "code",
   "execution_count": 43,
   "id": "f530e6de-9b97-4cbc-8709-6c9a27d38104",
   "metadata": {},
   "outputs": [],
   "source": [
    "def student_report_card(name,subjects_marks):\n",
    "    print(\"Student Report Card\")\n",
    "    \n",
    "    print(\"|\"*30)\n",
    "    # print(\"-\"*30)\n",
    "\n",
    "    print(f\"Student Name:{name}\")\n",
    "    print(\"Acadmic Year: 2025-26\")\n",
    "    \n",
    "    print(\"=\"*30)\n",
    "\n",
    "    total_marks = 0\n",
    "    max_marks = len(subjects_marks)*100\n",
    "\n",
    "    print(\"Subject wise Performance\")\n",
    "    print(\"-\"*30)\n",
    "\n",
    "    for subject,marks in subjects_marks.items():\n",
    "        total_marks += marks\n",
    "\n",
    "        if marks >90:\n",
    "            grade = \"A+\"\n",
    "        elif marks >80:\n",
    "            grade = \"A\"\n",
    "        elif marks >70:\n",
    "            grade = \"B\"\n",
    "        elif marks >60:\n",
    "            grade = \"C\"\n",
    "        elif marks >50:\n",
    "            grade = \"D\"\n",
    "        elif marks >40:\n",
    "            grade =\"E\"\n",
    "        else:\n",
    "            grade = \"F\"\n",
    "            \n",
    "        print(f\"{subject:<15}:{marks:>3}/100 Grade:{grade}\")\n",
    "\n",
    "    percentage = (total_marks/max_marks)*100\n",
    "\n",
    "    print(\"-\"*30)\n",
    "\n",
    "    print(f\"Total marks:{total_marks}/{max_marks}\")\n",
    "    print(f\"Percentage:{percentage:.2f}%\")\n",
    "\n",
    "\n",
    "    if percentage > 90:\n",
    "        result = \"Outstanding\"\n",
    "    elif percentage > 75:\n",
    "        result = \"First Class\"\n",
    "    elif percentage >60:\n",
    "        result = \"Second Class\"\n",
    "    elif percentage >40:\n",
    "        result = \"Third Class\"\n",
    "    else:\n",
    "        result = \"Fail\"\n",
    "\n",
    "    print(f\"\\nResult:{result}\")\n",
    "    print(\"-\"*30)\n",
    "\n",
    "\n",
    "        "
   ]
  },
  {
   "cell_type": "code",
   "execution_count": 44,
   "id": "08676059-c6ad-44d6-a0c7-1813ab77aef7",
   "metadata": {},
   "outputs": [
    {
     "name": "stdout",
     "output_type": "stream",
     "text": [
      "Student Report Card\n",
      "||||||||||||||||||||||||||||||\n",
      "Student Name:Utkars Tripathi\n",
      "Acadmic Year: 2025-26\n",
      "==============================\n",
      "Subject wise Performance\n",
      "------------------------------\n",
      "Maths          : 92/100 Grade:A+\n",
      "Physics        : 84/100 Grade:A\n",
      "Chemistry      : 72/100 Grade:B\n",
      "Hindi          : 68/100 Grade:C\n",
      "English        : 53/100 Grade:D\n",
      "Coumputer      : 98/100 Grade:A+\n",
      "------------------------------\n",
      "Total marks:467/600\n",
      "Percentage:77.83%\n",
      "\n",
      "Result:First Class\n",
      "------------------------------\n"
     ]
    }
   ],
   "source": [
    "student_marks ={\n",
    "    \"Maths\":92,\n",
    "    \"Physics\":84,\n",
    "    \"Chemistry\":72,\n",
    "    \"Hindi\":68,\n",
    "    \"English\":53,\n",
    "    \"Coumputer\":98\n",
    "}\n",
    "student_report_card(\"Utkars Tripathi\",student_marks)"
   ]
  },
  {
   "cell_type": "code",
   "execution_count": null,
   "id": "9b931abb-2024-48bf-bed1-0a243183d034",
   "metadata": {},
   "outputs": [],
   "source": []
  },
  {
   "cell_type": "markdown",
   "id": "2ade40eb-2070-4d2c-af71-3ebfb7436a0c",
   "metadata": {},
   "source": [
    "# 5.Railway Seat Booking (Dictionary)"
   ]
  },
  {
   "cell_type": "code",
   "execution_count": 59,
   "id": "e7bbfd49-3751-4bb6-9c45-755154f2f135",
   "metadata": {},
   "outputs": [],
   "source": [
    "def railway_seat_booking():\n",
    "    print(\"Indian Railway Seat Booking System\")\n",
    "    print(\"=\"*40)\n",
    "\n",
    "\n",
    "    seats = {}\n",
    "    for i in range(1,72):\n",
    "        seats[f\"S{i}\"] = None\n",
    "\n",
    "    def display_seats():\n",
    "        print(\" Seats Avialability\")\n",
    "        print(\"-\"*40)\n",
    "        for seat_no,passenger in seats.items():\n",
    "            status = \"AVAILABLE\" if passenger is None else f\"BOOKED({passenger})\"\n",
    "            print(f\"Seat{seat_no}:{status}\")\n",
    "        print(\"-\"*40)\n",
    "\n",
    "    def book_seat():\n",
    "        seat_no = input(\"Enter seat number(S1-S72):\").upper()\n",
    "\n",
    "        if seat_no not in seats:\n",
    "            print(\"Invalid seat Number!\")\n",
    "            return\n",
    "\n",
    "        if seats[seat_no] is not None:\n",
    "            print(f\"Seat {seat_no} is already booked by {seats[seat_no]}\")\n",
    "            return\n",
    "\n",
    "        passenger_name = input(\"Enter passenger name:\")\n",
    "        age = int(input(\"Enter passenger age:\"))\n",
    "\n",
    "        if age< 5:\n",
    "            print(\"Child ticket - No separate seat required\")\n",
    "            return\n",
    "\n",
    "        seats[seat_no] = passenger_name\n",
    "        print(f\"Seat {seat_no} booked successfully for {passenger_name}\")\n",
    "        print(\"Ticket confirmed!!\")\n",
    "\n",
    "    def cancle_booking():\n",
    "        seat_no = input(\"Enter seat number to cancle:\").upper()\n",
    "\n",
    "        if seat_no not in seats:\n",
    "            print(\"Invalid seat number!!\")\n",
    "            return\n",
    "        if seats[seat_no] is None:\n",
    "             print(f\"Seat {seat_no} is not booked!!\")\n",
    "             return\n",
    "\n",
    "        passenger_name = seats[seat_no]\n",
    "        seats[seat_no] = None\n",
    "        print(f\"Booking Cancelled for {passenger_name}\")\n",
    "            \n",
    "\n",
    "    while True:\n",
    "        print(\"\\n Booking Menu\")\n",
    "        print(\"1.View seat Availability\")\n",
    "        print(\"2.Book a seat\")\n",
    "        print(\"3.Cancel booking\")\n",
    "        print(\"4.Exit\")\n",
    "\n",
    "        choice = input(\"Enter your choice(1-4):\")\n",
    "\n",
    "        if choice == \"1\":\n",
    "            display_seats()\n",
    "        elif choice == \"2\":\n",
    "             book_seat()\n",
    "        elif choice == \"3\":\n",
    "            cancle_booking()\n",
    "        elif choice == \"4\":\n",
    "            print(\"Byee\")\n",
    "            break\n",
    "        else:\n",
    "            print(\"Invalid choice!! Please try again.\")"
   ]
  },
  {
   "cell_type": "code",
   "execution_count": 60,
   "id": "5fe122c6-4374-4f2d-9a90-bdd6cc25d918",
   "metadata": {},
   "outputs": [
    {
     "name": "stdout",
     "output_type": "stream",
     "text": [
      "Indian Railway Seat Booking System\n",
      "========================================\n",
      "\n",
      " Booking Menu\n",
      "1.View seat Availability\n",
      "2.Book a seat\n",
      "3.Cancel booking\n",
      "4.Exit\n"
     ]
    },
    {
     "name": "stdin",
     "output_type": "stream",
     "text": [
      "Enter your choice(1-4): 1\n"
     ]
    },
    {
     "name": "stdout",
     "output_type": "stream",
     "text": [
      " Seats Avialability\n",
      "----------------------------------------\n",
      "SeatS1:AVAILABLE\n",
      "SeatS2:AVAILABLE\n",
      "SeatS3:AVAILABLE\n",
      "SeatS4:AVAILABLE\n",
      "SeatS5:AVAILABLE\n",
      "SeatS6:AVAILABLE\n",
      "SeatS7:AVAILABLE\n",
      "SeatS8:AVAILABLE\n",
      "SeatS9:AVAILABLE\n",
      "SeatS10:AVAILABLE\n",
      "SeatS11:AVAILABLE\n",
      "SeatS12:AVAILABLE\n",
      "SeatS13:AVAILABLE\n",
      "SeatS14:AVAILABLE\n",
      "SeatS15:AVAILABLE\n",
      "SeatS16:AVAILABLE\n",
      "SeatS17:AVAILABLE\n",
      "SeatS18:AVAILABLE\n",
      "SeatS19:AVAILABLE\n",
      "SeatS20:AVAILABLE\n",
      "SeatS21:AVAILABLE\n",
      "SeatS22:AVAILABLE\n",
      "SeatS23:AVAILABLE\n",
      "SeatS24:AVAILABLE\n",
      "SeatS25:AVAILABLE\n",
      "SeatS26:AVAILABLE\n",
      "SeatS27:AVAILABLE\n",
      "SeatS28:AVAILABLE\n",
      "SeatS29:AVAILABLE\n",
      "SeatS30:AVAILABLE\n",
      "SeatS31:AVAILABLE\n",
      "SeatS32:AVAILABLE\n",
      "SeatS33:AVAILABLE\n",
      "SeatS34:AVAILABLE\n",
      "SeatS35:AVAILABLE\n",
      "SeatS36:AVAILABLE\n",
      "SeatS37:AVAILABLE\n",
      "SeatS38:AVAILABLE\n",
      "SeatS39:AVAILABLE\n",
      "SeatS40:AVAILABLE\n",
      "SeatS41:AVAILABLE\n",
      "SeatS42:AVAILABLE\n",
      "SeatS43:AVAILABLE\n",
      "SeatS44:AVAILABLE\n",
      "SeatS45:AVAILABLE\n",
      "SeatS46:AVAILABLE\n",
      "SeatS47:AVAILABLE\n",
      "SeatS48:AVAILABLE\n",
      "SeatS49:AVAILABLE\n",
      "SeatS50:AVAILABLE\n",
      "SeatS51:AVAILABLE\n",
      "SeatS52:AVAILABLE\n",
      "SeatS53:AVAILABLE\n",
      "SeatS54:AVAILABLE\n",
      "SeatS55:AVAILABLE\n",
      "SeatS56:AVAILABLE\n",
      "SeatS57:AVAILABLE\n",
      "SeatS58:AVAILABLE\n",
      "SeatS59:AVAILABLE\n",
      "SeatS60:AVAILABLE\n",
      "SeatS61:AVAILABLE\n",
      "SeatS62:AVAILABLE\n",
      "SeatS63:AVAILABLE\n",
      "SeatS64:AVAILABLE\n",
      "SeatS65:AVAILABLE\n",
      "SeatS66:AVAILABLE\n",
      "SeatS67:AVAILABLE\n",
      "SeatS68:AVAILABLE\n",
      "SeatS69:AVAILABLE\n",
      "SeatS70:AVAILABLE\n",
      "SeatS71:AVAILABLE\n",
      "----------------------------------------\n",
      "\n",
      " Booking Menu\n",
      "1.View seat Availability\n",
      "2.Book a seat\n",
      "3.Cancel booking\n",
      "4.Exit\n"
     ]
    },
    {
     "name": "stdin",
     "output_type": "stream",
     "text": [
      "Enter your choice(1-4): 4\n"
     ]
    },
    {
     "name": "stdout",
     "output_type": "stream",
     "text": [
      "Byee\n"
     ]
    }
   ],
   "source": [
    "railway_seat_booking()"
   ]
  },
  {
   "cell_type": "code",
   "execution_count": null,
   "id": "a7a78d34-b89e-438f-83a2-d1a3475ed4ce",
   "metadata": {},
   "outputs": [],
   "source": []
  }
 ],
 "metadata": {
  "kernelspec": {
   "display_name": "Python [conda env:base] *",
   "language": "python",
   "name": "conda-base-py"
  },
  "language_info": {
   "codemirror_mode": {
    "name": "ipython",
    "version": 3
   },
   "file_extension": ".py",
   "mimetype": "text/x-python",
   "name": "python",
   "nbconvert_exporter": "python",
   "pygments_lexer": "ipython3",
   "version": "3.13.5"
  }
 },
 "nbformat": 4,
 "nbformat_minor": 5
}
