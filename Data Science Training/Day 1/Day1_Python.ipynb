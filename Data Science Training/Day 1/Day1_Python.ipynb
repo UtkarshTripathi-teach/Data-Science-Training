{
  "nbformat": 4,
  "nbformat_minor": 0,
  "metadata": {
    "colab": {
      "provenance": []
    },
    "kernelspec": {
      "name": "python3",
      "display_name": "Python 3"
    },
    "language_info": {
      "name": "python"
    }
  },
  "cells": [
    {
      "cell_type": "code",
      "execution_count": null,
      "metadata": {
        "colab": {
          "base_uri": "https://localhost:8080/"
        },
        "id": "JTGYThdEVdN4",
        "outputId": "cc16fb6f-e4ff-432d-95a9-219abee96039"
      },
      "outputs": [
        {
          "output_type": "stream",
          "name": "stdout",
          "text": [
            "5679\n"
          ]
        }
      ],
      "source": [
        "# Int\n",
        "a = 5679\n",
        "print(a)"
      ]
    },
    {
      "cell_type": "code",
      "source": [
        "# Int\n",
        "a = 5679\n",
        "print(a,type(a))"
      ],
      "metadata": {
        "colab": {
          "base_uri": "https://localhost:8080/"
        },
        "id": "d5c0G3AnV8i9",
        "outputId": "2a28eb46-9d75-45c8-d1d0-db1a4ae9dab2"
      },
      "execution_count": null,
      "outputs": [
        {
          "output_type": "stream",
          "name": "stdout",
          "text": [
            "5679 <class 'int'>\n"
          ]
        }
      ]
    },
    {
      "cell_type": "code",
      "source": [
        "# Float\n",
        "a = 5679.647\n",
        "print(a,type(a))"
      ],
      "metadata": {
        "colab": {
          "base_uri": "https://localhost:8080/"
        },
        "id": "y0zfiGnOWDEZ",
        "outputId": "31012fdc-3923-4eaf-90ad-2dd35b2e363d"
      },
      "execution_count": null,
      "outputs": [
        {
          "output_type": "stream",
          "name": "stdout",
          "text": [
            "5679.647 <class 'float'>\n"
          ]
        }
      ]
    },
    {
      "cell_type": "code",
      "source": [
        "# Complex\n",
        "a = 5679 + 8j\n",
        "print(a,type(a))"
      ],
      "metadata": {
        "colab": {
          "base_uri": "https://localhost:8080/"
        },
        "id": "gYgvfjSuWWk0",
        "outputId": "2a15d390-e9ae-48e9-ef1e-472a850d6833"
      },
      "execution_count": null,
      "outputs": [
        {
          "output_type": "stream",
          "name": "stdout",
          "text": [
            "(5679+8j) <class 'complex'>\n"
          ]
        }
      ]
    },
    {
      "cell_type": "code",
      "source": [
        "# Int ,float, Complex = Numerical"
      ],
      "metadata": {
        "id": "s9qsYcL8X4Jn"
      },
      "execution_count": null,
      "outputs": []
    },
    {
      "cell_type": "code",
      "source": [
        "# Str\n",
        "a= 'Hello Python'\n",
        "print(a,type(a))"
      ],
      "metadata": {
        "colab": {
          "base_uri": "https://localhost:8080/"
        },
        "id": "UKtVi9iPYE0t",
        "outputId": "4f026efc-cee0-46ae-e96b-182c5764b416"
      },
      "execution_count": null,
      "outputs": [
        {
          "output_type": "stream",
          "name": "stdout",
          "text": [
            "Hello Python <class 'str'>\n"
          ]
        }
      ]
    },
    {
      "cell_type": "code",
      "source": [
        "poem = '''Twinkle twinkle little star\n",
        "How I wonder what you are\n",
        "Up above the world so high\n",
        "Like a diamond in the sky\n",
        "Twinkle twinkle little star\n",
        "How I wonder what you are\n",
        "\n",
        "\n",
        "\n",
        "Twinkle twinkle little star\n",
        "How I wonder what you are\n",
        "Up above the world so high\n",
        "Like a diamond in the sky\n",
        "Twinkle twinkle little star\n",
        "How I wonder what you are'''\n",
        "\n",
        "\n",
        "print(poem)"
      ],
      "metadata": {
        "colab": {
          "base_uri": "https://localhost:8080/"
        },
        "id": "kw4H8c_iYk6q",
        "outputId": "14f2af93-48da-4a83-c27f-313e0ed414ad"
      },
      "execution_count": null,
      "outputs": [
        {
          "output_type": "stream",
          "name": "stdout",
          "text": [
            "Twinkle twinkle little star\n",
            "How I wonder what you are\n",
            "Up above the world so high\n",
            "Like a diamond in the sky\n",
            "Twinkle twinkle little star\n",
            "How I wonder what you are\n",
            "\n",
            "\n",
            "\n",
            "Twinkle twinkle little star\n",
            "How I wonder what you are\n",
            "Up above the world so high\n",
            "Like a diamond in the sky\n",
            "Twinkle twinkle little star\n",
            "How I wonder what you are\n"
          ]
        }
      ]
    },
    {
      "cell_type": "code",
      "source": [
        "#tuple\n",
        "a = (2,43,838)\n",
        "print(a,type(a))"
      ],
      "metadata": {
        "colab": {
          "base_uri": "https://localhost:8080/"
        },
        "id": "dvEF5NGEYnUF",
        "outputId": "12c6ce03-df09-4521-dc06-7fab6dc3062a"
      },
      "execution_count": null,
      "outputs": [
        {
          "output_type": "stream",
          "name": "stdout",
          "text": [
            "(2, 43, 838) <class 'tuple'>\n"
          ]
        }
      ]
    },
    {
      "cell_type": "code",
      "source": [
        "#tuple\n",
        "a = (2,)\n",
        "print(a,type(a))"
      ],
      "metadata": {
        "colab": {
          "base_uri": "https://localhost:8080/"
        },
        "id": "0PMzurxwY17t",
        "outputId": "3ceb5e01-8931-4e3e-f851-b2c98638bbc6"
      },
      "execution_count": null,
      "outputs": [
        {
          "output_type": "stream",
          "name": "stdout",
          "text": [
            "(2,) <class 'tuple'>\n"
          ]
        }
      ]
    },
    {
      "cell_type": "code",
      "source": [
        "#list\n",
        "a = [2,43,838,8472]\n",
        "print(a,type(a))"
      ],
      "metadata": {
        "colab": {
          "base_uri": "https://localhost:8080/"
        },
        "id": "7WRyqDyjZCsH",
        "outputId": "853d44b7-f2e7-4337-b6d7-7f3b5f854de7"
      },
      "execution_count": null,
      "outputs": [
        {
          "output_type": "stream",
          "name": "stdout",
          "text": [
            "[2, 43, 838, 8472] <class 'list'>\n"
          ]
        }
      ]
    },
    {
      "cell_type": "code",
      "source": [
        "a[2] = 400"
      ],
      "metadata": {
        "id": "8-L0b_30ZUm-"
      },
      "execution_count": null,
      "outputs": []
    },
    {
      "cell_type": "code",
      "source": [
        "print(a,type(a))"
      ],
      "metadata": {
        "colab": {
          "base_uri": "https://localhost:8080/"
        },
        "id": "lIUz_ydOZeDZ",
        "outputId": "dfd9db9d-3482-4203-abc8-af8add533927"
      },
      "execution_count": null,
      "outputs": [
        {
          "output_type": "stream",
          "name": "stdout",
          "text": [
            "[2, 43, 400, 8472] <class 'list'>\n"
          ]
        }
      ]
    },
    {
      "cell_type": "code",
      "source": [
        "a = (3,544,5,346,567)\n",
        "\n",
        "print(a[3])"
      ],
      "metadata": {
        "colab": {
          "base_uri": "https://localhost:8080/"
        },
        "id": "GQ_fipQWaI64",
        "outputId": "b1d06d38-fa4d-4566-8c9f-b9412d404e2b"
      },
      "execution_count": null,
      "outputs": [
        {
          "output_type": "stream",
          "name": "stdout",
          "text": [
            "346\n"
          ]
        }
      ]
    },
    {
      "cell_type": "code",
      "source": [
        "a = list(a)\n",
        "a[3] = 900\n",
        "a = tuple(a)\n",
        "print(a)"
      ],
      "metadata": {
        "colab": {
          "base_uri": "https://localhost:8080/"
        },
        "id": "TetSn5WmaVO5",
        "outputId": "eda279dd-7c12-449a-d240-5c6653df4ebe"
      },
      "execution_count": null,
      "outputs": [
        {
          "output_type": "stream",
          "name": "stdout",
          "text": [
            "(3, 544, 5, 900, 567)\n"
          ]
        }
      ]
    },
    {
      "cell_type": "code",
      "source": [
        "std_id = [1,1,2,2,2,2,23,3,3,3,4,4,45]\n",
        "\n",
        "print(std_id)"
      ],
      "metadata": {
        "colab": {
          "base_uri": "https://localhost:8080/"
        },
        "id": "bOJjAK3uaZCo",
        "outputId": "08b00d91-8a71-45a8-c6c7-334c65d92b33"
      },
      "execution_count": null,
      "outputs": [
        {
          "output_type": "stream",
          "name": "stdout",
          "text": [
            "[1, 1, 2, 2, 2, 2, 23, 3, 3, 3, 4, 4, 45]\n"
          ]
        }
      ]
    },
    {
      "cell_type": "code",
      "source": [
        "std_id = list(set(std_id))\n",
        "print(std_id)"
      ],
      "metadata": {
        "colab": {
          "base_uri": "https://localhost:8080/"
        },
        "id": "NJw8J9A2ajeE",
        "outputId": "dd586501-303f-4960-bbc7-f11029a33950"
      },
      "execution_count": null,
      "outputs": [
        {
          "output_type": "stream",
          "name": "stdout",
          "text": [
            "[1, 2, 3, 4, 45, 23]\n"
          ]
        }
      ]
    },
    {
      "cell_type": "code",
      "source": [
        "# dict:- key value pair datatype, # hash\n",
        "a = {'Name' : 'Aman','Age' : 23,\"Address\": 'Delhi' }\n",
        "print(a,type(a))"
      ],
      "metadata": {
        "colab": {
          "base_uri": "https://localhost:8080/"
        },
        "id": "bAvINfK1a5WU",
        "outputId": "5494cd40-b3f5-420f-94e9-e9b347577944"
      },
      "execution_count": null,
      "outputs": [
        {
          "output_type": "stream",
          "name": "stdout",
          "text": [
            "{'Name': 'Aman', 'Age': 23, 'Address': 'Delhi'} <class 'dict'>\n"
          ]
        }
      ]
    },
    {
      "cell_type": "code",
      "source": [
        "a['Address'] = 'Noida'\n",
        "print(a)"
      ],
      "metadata": {
        "colab": {
          "base_uri": "https://localhost:8080/"
        },
        "id": "qLkiawxObFQD",
        "outputId": "5bcbedaa-faf2-4191-fd31-b3187ce227fe"
      },
      "execution_count": null,
      "outputs": [
        {
          "output_type": "stream",
          "name": "stdout",
          "text": [
            "{'Name': 'Aman', 'Age': 23, 'Address': 'Noida'}\n"
          ]
        }
      ]
    },
    {
      "cell_type": "code",
      "source": [
        "a['Name'] = 'Aman Kumar'\n",
        "print(a)"
      ],
      "metadata": {
        "colab": {
          "base_uri": "https://localhost:8080/"
        },
        "id": "TWbuqPcJb4qf",
        "outputId": "752f5ef5-3f75-466e-e21f-b685e97e31cc"
      },
      "execution_count": null,
      "outputs": [
        {
          "output_type": "stream",
          "name": "stdout",
          "text": [
            "{'Name': 'Aman Kumar', 'Age': 23, 'Address': 'Noida'}\n"
          ]
        }
      ]
    },
    {
      "cell_type": "code",
      "source": [
        "data = {'Region':['West','East','North','South'],\n",
        "        'Sales':[345,847,637],\n",
        "        'Profit':[120,200,40]}\n",
        "print(data)"
      ],
      "metadata": {
        "colab": {
          "base_uri": "https://localhost:8080/"
        },
        "id": "1RwcOfXOcFyS",
        "outputId": "6d1a724a-113e-4579-9883-f92680aeea2c"
      },
      "execution_count": null,
      "outputs": [
        {
          "output_type": "stream",
          "name": "stdout",
          "text": [
            "{'Region': ['West', 'East', 'North', 'South'], 'Sales': [345, 847, 637], 'Profit': [120, 200, 40]}\n"
          ]
        }
      ]
    },
    {
      "cell_type": "code",
      "source": [
        "import pandas as pd\n",
        "\n",
        "table = pd.DataFrame(data)\n",
        "table"
      ],
      "metadata": {
        "colab": {
          "base_uri": "https://localhost:8080/",
          "height": 418
        },
        "id": "GaL39tV6dBHu",
        "outputId": "adfc0f94-7647-4315-b95a-dc2baa122aeb"
      },
      "execution_count": null,
      "outputs": [
        {
          "output_type": "error",
          "ename": "ValueError",
          "evalue": "All arrays must be of the same length",
          "traceback": [
            "\u001b[0;31m---------------------------------------------------------------------------\u001b[0m",
            "\u001b[0;31mValueError\u001b[0m                                Traceback (most recent call last)",
            "\u001b[0;32m/tmp/ipython-input-34-1126064210.py\u001b[0m in \u001b[0;36m<cell line: 0>\u001b[0;34m()\u001b[0m\n\u001b[1;32m      1\u001b[0m \u001b[0;32mimport\u001b[0m \u001b[0mpandas\u001b[0m \u001b[0;32mas\u001b[0m \u001b[0mpd\u001b[0m\u001b[0;34m\u001b[0m\u001b[0;34m\u001b[0m\u001b[0m\n\u001b[1;32m      2\u001b[0m \u001b[0;34m\u001b[0m\u001b[0m\n\u001b[0;32m----> 3\u001b[0;31m \u001b[0mtable\u001b[0m \u001b[0;34m=\u001b[0m \u001b[0mpd\u001b[0m\u001b[0;34m.\u001b[0m\u001b[0mDataFrame\u001b[0m\u001b[0;34m(\u001b[0m\u001b[0mdata\u001b[0m\u001b[0;34m)\u001b[0m\u001b[0;34m\u001b[0m\u001b[0;34m\u001b[0m\u001b[0m\n\u001b[0m\u001b[1;32m      4\u001b[0m \u001b[0mtable\u001b[0m\u001b[0;34m\u001b[0m\u001b[0;34m\u001b[0m\u001b[0m\n",
            "\u001b[0;32m/usr/local/lib/python3.11/dist-packages/pandas/core/frame.py\u001b[0m in \u001b[0;36m__init__\u001b[0;34m(self, data, index, columns, dtype, copy)\u001b[0m\n\u001b[1;32m    776\u001b[0m         \u001b[0;32melif\u001b[0m \u001b[0misinstance\u001b[0m\u001b[0;34m(\u001b[0m\u001b[0mdata\u001b[0m\u001b[0;34m,\u001b[0m \u001b[0mdict\u001b[0m\u001b[0;34m)\u001b[0m\u001b[0;34m:\u001b[0m\u001b[0;34m\u001b[0m\u001b[0;34m\u001b[0m\u001b[0m\n\u001b[1;32m    777\u001b[0m             \u001b[0;31m# GH#38939 de facto copy defaults to False only in non-dict cases\u001b[0m\u001b[0;34m\u001b[0m\u001b[0;34m\u001b[0m\u001b[0m\n\u001b[0;32m--> 778\u001b[0;31m             \u001b[0mmgr\u001b[0m \u001b[0;34m=\u001b[0m \u001b[0mdict_to_mgr\u001b[0m\u001b[0;34m(\u001b[0m\u001b[0mdata\u001b[0m\u001b[0;34m,\u001b[0m \u001b[0mindex\u001b[0m\u001b[0;34m,\u001b[0m \u001b[0mcolumns\u001b[0m\u001b[0;34m,\u001b[0m \u001b[0mdtype\u001b[0m\u001b[0;34m=\u001b[0m\u001b[0mdtype\u001b[0m\u001b[0;34m,\u001b[0m \u001b[0mcopy\u001b[0m\u001b[0;34m=\u001b[0m\u001b[0mcopy\u001b[0m\u001b[0;34m,\u001b[0m \u001b[0mtyp\u001b[0m\u001b[0;34m=\u001b[0m\u001b[0mmanager\u001b[0m\u001b[0;34m)\u001b[0m\u001b[0;34m\u001b[0m\u001b[0;34m\u001b[0m\u001b[0m\n\u001b[0m\u001b[1;32m    779\u001b[0m         \u001b[0;32melif\u001b[0m \u001b[0misinstance\u001b[0m\u001b[0;34m(\u001b[0m\u001b[0mdata\u001b[0m\u001b[0;34m,\u001b[0m \u001b[0mma\u001b[0m\u001b[0;34m.\u001b[0m\u001b[0mMaskedArray\u001b[0m\u001b[0;34m)\u001b[0m\u001b[0;34m:\u001b[0m\u001b[0;34m\u001b[0m\u001b[0;34m\u001b[0m\u001b[0m\n\u001b[1;32m    780\u001b[0m             \u001b[0;32mfrom\u001b[0m \u001b[0mnumpy\u001b[0m\u001b[0;34m.\u001b[0m\u001b[0mma\u001b[0m \u001b[0;32mimport\u001b[0m \u001b[0mmrecords\u001b[0m\u001b[0;34m\u001b[0m\u001b[0;34m\u001b[0m\u001b[0m\n",
            "\u001b[0;32m/usr/local/lib/python3.11/dist-packages/pandas/core/internals/construction.py\u001b[0m in \u001b[0;36mdict_to_mgr\u001b[0;34m(data, index, columns, dtype, typ, copy)\u001b[0m\n\u001b[1;32m    501\u001b[0m             \u001b[0marrays\u001b[0m \u001b[0;34m=\u001b[0m \u001b[0;34m[\u001b[0m\u001b[0mx\u001b[0m\u001b[0;34m.\u001b[0m\u001b[0mcopy\u001b[0m\u001b[0;34m(\u001b[0m\u001b[0;34m)\u001b[0m \u001b[0;32mif\u001b[0m \u001b[0mhasattr\u001b[0m\u001b[0;34m(\u001b[0m\u001b[0mx\u001b[0m\u001b[0;34m,\u001b[0m \u001b[0;34m\"dtype\"\u001b[0m\u001b[0;34m)\u001b[0m \u001b[0;32melse\u001b[0m \u001b[0mx\u001b[0m \u001b[0;32mfor\u001b[0m \u001b[0mx\u001b[0m \u001b[0;32min\u001b[0m \u001b[0marrays\u001b[0m\u001b[0;34m]\u001b[0m\u001b[0;34m\u001b[0m\u001b[0;34m\u001b[0m\u001b[0m\n\u001b[1;32m    502\u001b[0m \u001b[0;34m\u001b[0m\u001b[0m\n\u001b[0;32m--> 503\u001b[0;31m     \u001b[0;32mreturn\u001b[0m \u001b[0marrays_to_mgr\u001b[0m\u001b[0;34m(\u001b[0m\u001b[0marrays\u001b[0m\u001b[0;34m,\u001b[0m \u001b[0mcolumns\u001b[0m\u001b[0;34m,\u001b[0m \u001b[0mindex\u001b[0m\u001b[0;34m,\u001b[0m \u001b[0mdtype\u001b[0m\u001b[0;34m=\u001b[0m\u001b[0mdtype\u001b[0m\u001b[0;34m,\u001b[0m \u001b[0mtyp\u001b[0m\u001b[0;34m=\u001b[0m\u001b[0mtyp\u001b[0m\u001b[0;34m,\u001b[0m \u001b[0mconsolidate\u001b[0m\u001b[0;34m=\u001b[0m\u001b[0mcopy\u001b[0m\u001b[0;34m)\u001b[0m\u001b[0;34m\u001b[0m\u001b[0;34m\u001b[0m\u001b[0m\n\u001b[0m\u001b[1;32m    504\u001b[0m \u001b[0;34m\u001b[0m\u001b[0m\n\u001b[1;32m    505\u001b[0m \u001b[0;34m\u001b[0m\u001b[0m\n",
            "\u001b[0;32m/usr/local/lib/python3.11/dist-packages/pandas/core/internals/construction.py\u001b[0m in \u001b[0;36marrays_to_mgr\u001b[0;34m(arrays, columns, index, dtype, verify_integrity, typ, consolidate)\u001b[0m\n\u001b[1;32m    112\u001b[0m         \u001b[0;31m# figure out the index, if necessary\u001b[0m\u001b[0;34m\u001b[0m\u001b[0;34m\u001b[0m\u001b[0m\n\u001b[1;32m    113\u001b[0m         \u001b[0;32mif\u001b[0m \u001b[0mindex\u001b[0m \u001b[0;32mis\u001b[0m \u001b[0;32mNone\u001b[0m\u001b[0;34m:\u001b[0m\u001b[0;34m\u001b[0m\u001b[0;34m\u001b[0m\u001b[0m\n\u001b[0;32m--> 114\u001b[0;31m             \u001b[0mindex\u001b[0m \u001b[0;34m=\u001b[0m \u001b[0m_extract_index\u001b[0m\u001b[0;34m(\u001b[0m\u001b[0marrays\u001b[0m\u001b[0;34m)\u001b[0m\u001b[0;34m\u001b[0m\u001b[0;34m\u001b[0m\u001b[0m\n\u001b[0m\u001b[1;32m    115\u001b[0m         \u001b[0;32melse\u001b[0m\u001b[0;34m:\u001b[0m\u001b[0;34m\u001b[0m\u001b[0;34m\u001b[0m\u001b[0m\n\u001b[1;32m    116\u001b[0m             \u001b[0mindex\u001b[0m \u001b[0;34m=\u001b[0m \u001b[0mensure_index\u001b[0m\u001b[0;34m(\u001b[0m\u001b[0mindex\u001b[0m\u001b[0;34m)\u001b[0m\u001b[0;34m\u001b[0m\u001b[0;34m\u001b[0m\u001b[0m\n",
            "\u001b[0;32m/usr/local/lib/python3.11/dist-packages/pandas/core/internals/construction.py\u001b[0m in \u001b[0;36m_extract_index\u001b[0;34m(data)\u001b[0m\n\u001b[1;32m    675\u001b[0m         \u001b[0mlengths\u001b[0m \u001b[0;34m=\u001b[0m \u001b[0mlist\u001b[0m\u001b[0;34m(\u001b[0m\u001b[0mset\u001b[0m\u001b[0;34m(\u001b[0m\u001b[0mraw_lengths\u001b[0m\u001b[0;34m)\u001b[0m\u001b[0;34m)\u001b[0m\u001b[0;34m\u001b[0m\u001b[0;34m\u001b[0m\u001b[0m\n\u001b[1;32m    676\u001b[0m         \u001b[0;32mif\u001b[0m \u001b[0mlen\u001b[0m\u001b[0;34m(\u001b[0m\u001b[0mlengths\u001b[0m\u001b[0;34m)\u001b[0m \u001b[0;34m>\u001b[0m \u001b[0;36m1\u001b[0m\u001b[0;34m:\u001b[0m\u001b[0;34m\u001b[0m\u001b[0;34m\u001b[0m\u001b[0m\n\u001b[0;32m--> 677\u001b[0;31m             \u001b[0;32mraise\u001b[0m \u001b[0mValueError\u001b[0m\u001b[0;34m(\u001b[0m\u001b[0;34m\"All arrays must be of the same length\"\u001b[0m\u001b[0;34m)\u001b[0m\u001b[0;34m\u001b[0m\u001b[0;34m\u001b[0m\u001b[0m\n\u001b[0m\u001b[1;32m    678\u001b[0m \u001b[0;34m\u001b[0m\u001b[0m\n\u001b[1;32m    679\u001b[0m         \u001b[0;32mif\u001b[0m \u001b[0mhave_dicts\u001b[0m\u001b[0;34m:\u001b[0m\u001b[0;34m\u001b[0m\u001b[0;34m\u001b[0m\u001b[0m\n",
            "\u001b[0;31mValueError\u001b[0m: All arrays must be of the same length"
          ]
        }
      ]
    },
    {
      "cell_type": "code",
      "source": [
        "a = True\n",
        "print(a,type(a))"
      ],
      "metadata": {
        "colab": {
          "base_uri": "https://localhost:8080/"
        },
        "id": "FnexabWheI3x",
        "outputId": "71cbb7b9-3874-4368-ac0b-53034ec214c8"
      },
      "execution_count": null,
      "outputs": [
        {
          "output_type": "stream",
          "name": "stdout",
          "text": [
            "True <class 'bool'>\n"
          ]
        }
      ]
    },
    {
      "cell_type": "code",
      "source": [
        "# int,float, complex\n",
        "# str, tuple, list\n",
        "# set, dict,\n",
        "# bool\n"
      ],
      "metadata": {
        "id": "DDCDQT2LePPV"
      },
      "execution_count": null,
      "outputs": []
    },
    {
      "cell_type": "code",
      "source": [
        "# salary = 56789\n",
        "\n",
        "# >= 50: manager\n",
        "# >= 30: Jr manager\n",
        "# >= 20: Executive\n",
        "# Intern"
      ],
      "metadata": {
        "id": "y5vNWs-dei8h"
      },
      "execution_count": null,
      "outputs": []
    },
    {
      "cell_type": "code",
      "source": [
        "salary = 56789\n",
        "if salary >= 50000:\n",
        "  print('Manager')\n",
        "elif salary >= 30000:\n",
        "  print('Jr Manager')\n",
        "\n",
        "elif salary >= 20000:\n",
        "  print('Executive')\n",
        "else:\n",
        "  print('Intern')"
      ],
      "metadata": {
        "colab": {
          "base_uri": "https://localhost:8080/"
        },
        "id": "RAowBbapfU67",
        "outputId": "d9b2d4a4-21c2-46ba-f125-9faeb11fce9a"
      },
      "execution_count": null,
      "outputs": [
        {
          "output_type": "stream",
          "name": "stdout",
          "text": [
            "Manager\n"
          ]
        }
      ]
    },
    {
      "cell_type": "code",
      "source": [
        "import random\n",
        "random.randint(10000,600000)"
      ],
      "metadata": {
        "colab": {
          "base_uri": "https://localhost:8080/"
        },
        "id": "tomH-gtwgOlm",
        "outputId": "1d0ecbc6-0209-415c-d720-6f7c635b06c6"
      },
      "execution_count": null,
      "outputs": [
        {
          "output_type": "execute_result",
          "data": {
            "text/plain": [
              "414822"
            ]
          },
          "metadata": {},
          "execution_count": 27
        }
      ]
    },
    {
      "cell_type": "code",
      "source": [
        "import numpy as np\n",
        "database_salary = np.random.randint(10000,60000,5)"
      ],
      "metadata": {
        "id": "CQ23SS4-gb-4"
      },
      "execution_count": null,
      "outputs": []
    },
    {
      "cell_type": "code",
      "source": [
        "print(salary)"
      ],
      "metadata": {
        "colab": {
          "base_uri": "https://localhost:8080/"
        },
        "id": "AqCkwIMEhT0L",
        "outputId": "220d3251-2b76-4fef-a1d2-4d4530dd8412"
      },
      "execution_count": null,
      "outputs": [
        {
          "output_type": "stream",
          "name": "stdout",
          "text": [
            "[41515 16300 51508 47168 39360]\n"
          ]
        }
      ]
    },
    {
      "cell_type": "code",
      "source": [
        "for i in database_salary:\n",
        "  salary = i\n",
        "  if salary >= 50000:\n",
        "    print(i, 'Manager')\n",
        "  elif salary >= 30000:\n",
        "    print(i, 'Jr Manager')\n",
        "  elif salary >= 20000:\n",
        "    print(i, 'Executive')\n",
        "  else:\n",
        "    print(i, 'Intern')"
      ],
      "metadata": {
        "colab": {
          "base_uri": "https://localhost:8080/"
        },
        "id": "63KZBzlphY3G",
        "outputId": "9a57cc01-4786-4fc6-bb16-66e2d70aff22"
      },
      "execution_count": null,
      "outputs": [
        {
          "output_type": "stream",
          "name": "stdout",
          "text": [
            "53474 Manager\n",
            "52132 Manager\n",
            "19739 Intern\n",
            "12214 Intern\n",
            "10652 Intern\n"
          ]
        }
      ]
    },
    {
      "cell_type": "code",
      "source": [
        "import time\n",
        "for i in range(20):\n",
        "  print(time.asctime())\n",
        "  time.sleep(1)\n",
        "  display(clear= True)"
      ],
      "metadata": {
        "colab": {
          "base_uri": "https://localhost:8080/"
        },
        "id": "HNvaUW7Xtg7g",
        "outputId": "acfa68d8-dfab-4a90-bca3-d43fa4231f03"
      },
      "execution_count": null,
      "outputs": [
        {
          "output_type": "stream",
          "name": "stdout",
          "text": [
            "Mon Jun 30 07:25:32 2025\n"
          ]
        }
      ]
    },
    {
      "cell_type": "code",
      "source": [
        "import random\n",
        "comp_choice = random.randint(1,10)\n",
        "user_choice = int(input('Enter your Choice(1-10): '))\n",
        "\n",
        "print(f'''\n",
        "User choice: {user_choice}\n",
        "Computer Choice: {comp_choice}''')\n",
        "\n",
        "if user_choice == comp_choice:\n",
        "  print('User Won, Comp Lose!!')\n",
        "else:\n",
        "  print('Better Luck next time!!')\n",
        "\n",
        "\n"
      ],
      "metadata": {
        "colab": {
          "base_uri": "https://localhost:8080/"
        },
        "id": "Z7IqxapqwGYz",
        "outputId": "4c0ad22d-c4e1-4b0e-c600-71ff48371166"
      },
      "execution_count": null,
      "outputs": [
        {
          "output_type": "stream",
          "name": "stdout",
          "text": [
            "Enter your Choice(1-10): 1\n",
            "\n",
            "User choice: 1\n",
            "Computer Choice: 1\n",
            "User Won, Comp Lose!!\n"
          ]
        }
      ]
    },
    {
      "cell_type": "code",
      "source": [
        "user_attempts = 3\n",
        "import random\n",
        "for i in range(user_attempts):\n",
        "  comp_choice = random.randint(1,10)\n",
        "  user_choice = int(input('Enter your Choice(1-10): '))\n",
        "\n",
        "  print(f'''\n",
        "  User choice: {user_choice}\n",
        "  Computer Choice: {comp_choice}''')\n",
        "\n",
        "  if user_choice == comp_choice:\n",
        "    print('User Won, Comp Lose!!')\n",
        "  else:\n",
        "    print('Better Luck next time!!')"
      ],
      "metadata": {
        "colab": {
          "base_uri": "https://localhost:8080/"
        },
        "id": "FMWXRNvhwiJ0",
        "outputId": "8a0ab066-538c-45d6-c01b-824d6b731ce8"
      },
      "execution_count": null,
      "outputs": [
        {
          "output_type": "stream",
          "name": "stdout",
          "text": [
            "Enter your Choice(1-10): 8\n",
            "\n",
            "  User choice: 8\n",
            "  Computer Choice: 8\n",
            "User Won, Comp Lose!!\n",
            "Enter your Choice(1-10): 4\n",
            "\n",
            "  User choice: 4\n",
            "  Computer Choice: 5\n",
            "Better Luck next time!!\n",
            "Enter your Choice(1-10): 9\n",
            "\n",
            "  User choice: 9\n",
            "  Computer Choice: 10\n",
            "Better Luck next time!!\n"
          ]
        }
      ]
    },
    {
      "cell_type": "code",
      "source": [
        "Questions = {1:'What is the capital of Australia?',\n",
        "             2:'Who invented the telephone?',\n",
        "             3:'Which planet is known as the Red Planet?',\n",
        "             4:'In which year did India gain independence?',\n",
        "             5:'What is the largest organ in the human body?'}\n",
        "\n",
        "options = {1:'''A) Sydney\n",
        "B) Melbourne\n",
        "C) Canberra\n",
        "D) Perth''',\n",
        "           2:'''A) Albert Einstein\n",
        "B) Isaac Newton\n",
        "C) Alexander Graham Bell\n",
        "D) Thomas Edison''',\n",
        "           3:'''A) Earth\n",
        "B) Venus\n",
        "C) Jupiter\n",
        "D) Mars''',\n",
        "           4:'''A) 1945\n",
        "B) 1946\n",
        "C) 1947\n",
        "D) 1950''',\n",
        "           5:'''A) Liver\n",
        "B) Brain\n",
        "C) Skin\n",
        "D) Heart'''}\n",
        "\n",
        "win_ammount = 0\n",
        "\n",
        "correct_op = ['C','C','D','C','C']\n",
        "\n",
        "for i in range(1,len(Questions)+1):\n",
        "  print(Questions[i])\n",
        "  print(options[i])\n",
        "  user_choice = input('Enter your choice: ').upper()\n",
        "\n",
        "  correct_ans = correct_op[i-1]\n",
        "  # print(correct_ans)\n",
        "  if user_choice == correct_ans:\n",
        "    win_ammount += 10000\n",
        "\n",
        "  else:\n",
        "    print('Better luck next time!!')\n",
        "    break\n",
        "\n",
        "print('Total Amount Won',win_ammount)\n"
      ],
      "metadata": {
        "colab": {
          "base_uri": "https://localhost:8080/"
        },
        "id": "DS9iWqbox3rB",
        "outputId": "3e1b71b5-c71b-4e7f-cd91-f2a75301af6a"
      },
      "execution_count": null,
      "outputs": [
        {
          "output_type": "stream",
          "name": "stdout",
          "text": [
            "What is the capital of Australia?\n",
            "A) Sydney\n",
            "B) Melbourne\n",
            "C) Canberra\n",
            "D) Perth\n",
            "Enter your choice: w\n",
            "Better luck next time!!\n",
            "Total Amount Won 0\n"
          ]
        }
      ]
    },
    {
      "cell_type": "code",
      "source": [
        "Questions = {1:'What is the capital of Australia?',\n",
        "             2:'Who invented the telephone?',\n",
        "             3:'Which planet is known as the Red Planet?',\n",
        "             4:'In which year did India gain independence?',\n",
        "             5:'What is the largest organ in the human body?'}\n",
        "\n",
        "options = {1:'''A) Sydney\n",
        "B) Melbourne\n",
        "C) Canberra\n",
        "D) Perth''',\n",
        "           2:'''A) Albert Einstein\n",
        "B) Isaac Newton\n",
        "C) Alexander Graham Bell\n",
        "D) Thomas Edison''',\n",
        "           3:'''A) Earth\n",
        "B) Venus\n",
        "C) Jupiter\n",
        "D) Mars''',\n",
        "           4:'''A) 1945\n",
        "B) 1946\n",
        "C) 1947\n",
        "D) 1950''',\n",
        "           5:'''A) Liver\n",
        "B) Brain\n",
        "C) Skin\n",
        "D) Heart'''}\n",
        "\n",
        "win_ammount = 0\n",
        "\n",
        "correct_op = ['C','C','D','C','C']\n",
        "\n",
        "for i in range(1,len(Questions)+1):\n",
        "  print(f'Question {i}: ',Questions[i])\n",
        "  print(options[i])\n",
        "  user_choice = input('Enter your choice: ').upper()\n",
        "\n",
        "  correct_ans = correct_op[i-1]\n",
        "  # print(correct_ans)\n",
        "  if user_choice == correct_ans:\n",
        "    win_ammount += 10000\n",
        "    print('Correct Answer!!')\n",
        "    print(end = '\\n'*3)\n",
        "\n",
        "  else:\n",
        "    print('Better luck next time!!')\n",
        "    break\n",
        "\n",
        "\n",
        "print('Total Amount',win_ammount)Questions = {1:'What is the capital of Australia?',\n",
        "             2:'Who invented the telephone?',\n",
        "             3:'Which planet is known as the Red Planet?',\n",
        "             4:'In which year did India gain independence?',\n",
        "             5:'What is the largest organ in the human body?'}\n",
        "\n",
        "options = {1:'''A) Sydney\n",
        "B) Melbourne\n",
        "C) Canberra\n",
        "D) Perth''',\n",
        "           2:'''A) Albert Einstein\n",
        "B) Isaac Newton\n",
        "C) Alexander Graham Bell\n",
        "D) Thomas Edison''',\n",
        "           3:'''A) Earth\n",
        "B) Venus\n",
        "C) Jupiter\n",
        "D) Mars''',\n",
        "           4:'''A) 1945\n",
        "B) 1946\n",
        "C) 1947\n",
        "D) 1950''',\n",
        "           5:'''A) Liver\n",
        "B) Brain\n",
        "C) Skin\n",
        "D) Heart'''}\n",
        "\n",
        "win_ammount = 0\n",
        "\n",
        "correct_op = ['C','C','D','C','C']\n",
        "\n",
        "for i in range(1,len(Questions)+1):\n",
        "  print(f'Question {i}: ',Questions[i])\n",
        "  print(options[i])\n",
        "  user_choice = input('Enter your choice: ').upper()\n",
        "\n",
        "  correct_ans = correct_op[i-1]\n",
        "  # print(correct_ans)\n",
        "  if user_choice == correct_ans:\n",
        "    win_ammount += 10000\n",
        "    print('Correct Answer!!')\n",
        "    print(end = '\\n'*3)\n",
        "\n",
        "  else:\n",
        "    print('Better luck next time!!')\n",
        "    break\n",
        "\n",
        "\n",
        "print('Total Amount',win_ammount)"
      ],
      "metadata": {
        "colab": {
          "base_uri": "https://localhost:8080/",
          "height": 126
        },
        "id": "QmjSbSqf4OiM",
        "outputId": "835002b8-0fe4-4760-ab60-fc06f8e40c57"
      },
      "execution_count": null,
      "outputs": [
        {
          "output_type": "error",
          "ename": "SyntaxError",
          "evalue": "invalid syntax (ipython-input-54-2344461520.py, line 49)",
          "traceback": [
            "\u001b[0;36m  File \u001b[0;32m\"/tmp/ipython-input-54-2344461520.py\"\u001b[0;36m, line \u001b[0;32m49\u001b[0m\n\u001b[0;31m    print('Total Amount',win_ammount) Questions = {1:'What is the capital of Australia?',\u001b[0m\n\u001b[0m                                      ^\u001b[0m\n\u001b[0;31mSyntaxError\u001b[0m\u001b[0;31m:\u001b[0m invalid syntax\n"
          ]
        }
      ]
    },
    {
      "cell_type": "code",
      "source": [
        "def say_hello(name):\n",
        "  print(f'Hello {name}','how are you??')"
      ],
      "metadata": {
        "id": "W-_Mb_4b6ELy"
      },
      "execution_count": null,
      "outputs": []
    },
    {
      "cell_type": "code",
      "source": [
        "say_hello('Kartik')"
      ],
      "metadata": {
        "colab": {
          "base_uri": "https://localhost:8080/"
        },
        "id": "WG8VH0fF6G9S",
        "outputId": "233843c5-1f94-4286-e26e-7102e56979cb"
      },
      "execution_count": null,
      "outputs": [
        {
          "output_type": "stream",
          "name": "stdout",
          "text": [
            "Hello Kartik how are you??\n"
          ]
        }
      ]
    },
    {
      "cell_type": "code",
      "source": [
        "def vote(age):\n",
        "   print(\"You can vote\") if age >= 18 else print('Can Not Vote')"
      ],
      "metadata": {
        "id": "XcZigBLU6xm5"
      },
      "execution_count": null,
      "outputs": []
    },
    {
      "cell_type": "code",
      "source": [
        "vote(18)"
      ],
      "metadata": {
        "colab": {
          "base_uri": "https://localhost:8080/"
        },
        "id": "s-gC_tf67Rjy",
        "outputId": "f0c61a6b-3802-44f5-ba7c-675711c3c3a8"
      },
      "execution_count": null,
      "outputs": [
        {
          "output_type": "stream",
          "name": "stdout",
          "text": [
            "You can vote\n"
          ]
        }
      ]
    },
    {
      "cell_type": "code",
      "source": [
        "# pip install gTTS"
      ],
      "metadata": {
        "id": "P-GVWRYu8tCO"
      },
      "execution_count": null,
      "outputs": []
    },
    {
      "cell_type": "code",
      "source": [
        "from gtts import gTTS\n",
        "text = '''Paytm par 50 rs Prapt hue'''\n",
        "audio = gTTS(text)\n",
        "audio.save('paytm.mp3')\n",
        "\n",
        "import pygame as pg\n",
        "pg.init()\n",
        "\n",
        "music = pg.mixer.Sound('paytm.mp3')\n",
        "music.play()"
      ],
      "metadata": {
        "colab": {
          "base_uri": "https://localhost:8080/",
          "height": 269
        },
        "id": "K8OLl34C9d37",
        "outputId": "d5a9f029-26b2-45a0-8d33-27227c7581bd"
      },
      "execution_count": null,
      "outputs": [
        {
          "output_type": "stream",
          "name": "stdout",
          "text": [
            "pygame 2.6.1 (SDL 2.28.4, Python 3.11.13)\n",
            "Hello from the pygame community. https://www.pygame.org/contribute.html\n"
          ]
        },
        {
          "output_type": "error",
          "ename": "error",
          "evalue": "mixer not initialized",
          "traceback": [
            "\u001b[0;31m---------------------------------------------------------------------------\u001b[0m",
            "\u001b[0;31merror\u001b[0m                                     Traceback (most recent call last)",
            "\u001b[0;32m/tmp/ipython-input-73-862227094.py\u001b[0m in \u001b[0;36m<cell line: 0>\u001b[0;34m()\u001b[0m\n\u001b[1;32m      7\u001b[0m \u001b[0mpg\u001b[0m\u001b[0;34m.\u001b[0m\u001b[0minit\u001b[0m\u001b[0;34m(\u001b[0m\u001b[0;34m)\u001b[0m\u001b[0;34m\u001b[0m\u001b[0;34m\u001b[0m\u001b[0m\n\u001b[1;32m      8\u001b[0m \u001b[0;34m\u001b[0m\u001b[0m\n\u001b[0;32m----> 9\u001b[0;31m \u001b[0mmusic\u001b[0m \u001b[0;34m=\u001b[0m \u001b[0mpg\u001b[0m\u001b[0;34m.\u001b[0m\u001b[0mmixer\u001b[0m\u001b[0;34m.\u001b[0m\u001b[0mSound\u001b[0m\u001b[0;34m(\u001b[0m\u001b[0;34m'paytm.mp3'\u001b[0m\u001b[0;34m)\u001b[0m\u001b[0;34m\u001b[0m\u001b[0;34m\u001b[0m\u001b[0m\n\u001b[0m\u001b[1;32m     10\u001b[0m \u001b[0mmusic\u001b[0m\u001b[0;34m.\u001b[0m\u001b[0mplay\u001b[0m\u001b[0;34m(\u001b[0m\u001b[0;34m)\u001b[0m\u001b[0;34m\u001b[0m\u001b[0;34m\u001b[0m\u001b[0m\n",
            "\u001b[0;31merror\u001b[0m: mixer not initialized"
          ]
        }
      ]
    },
    {
      "cell_type": "code",
      "source": [
        "# pip install pygame"
      ],
      "metadata": {
        "id": "7xyW9ZeP-rcS"
      },
      "execution_count": null,
      "outputs": []
    },
    {
      "cell_type": "code",
      "source": [
        "def sound_box(paisa):\n",
        "    text  = f'''Paytm par {paisa} rs Prapt hue.'''\n",
        "    audio = gTTS(text)\n",
        "    audio.save('paytm.mp3')\n",
        "\n",
        "    import pygame as p\n",
        "    p.init()\n",
        "\n",
        "    music = p.mixer.Sound('paytm.mp3')\n",
        "    music.play()"
      ],
      "metadata": {
        "id": "hBa3fhUcBOED"
      },
      "execution_count": null,
      "outputs": []
    },
    {
      "cell_type": "code",
      "source": [],
      "metadata": {
        "id": "dRfJBc3R7Jhv"
      },
      "execution_count": null,
      "outputs": []
    },
    {
      "cell_type": "code",
      "source": [
        "def sound_box(paisa, platform = 'Paytm'):\n",
        "    text  = f'''{platform} par {paisa} rs Prapt hue.'''\n",
        "    audio = gTTS(text)\n",
        "    audio.save('paytm.mp3')\n",
        "\n",
        "    import pygame as p\n",
        "    p.init()\n",
        "\n",
        "    music = p.mixer.Sound('paytm.mp3')\n",
        "    music.play()"
      ],
      "metadata": {
        "id": "sa3Y9EhkCIql"
      },
      "execution_count": null,
      "outputs": []
    }
  ]
}