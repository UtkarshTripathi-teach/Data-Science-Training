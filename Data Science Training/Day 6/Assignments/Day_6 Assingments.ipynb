{
 "cells": [
  {
   "cell_type": "markdown",
   "id": "75f340ea-c67d-4912-a470-7dcc0d4e7122",
   "metadata": {},
   "source": [
    "# Assingment 1: Fan Class"
   ]
  },
  {
   "cell_type": "code",
   "execution_count": 4,
   "id": "cda06099-611f-4f0e-9dee-3946b5219d74",
   "metadata": {},
   "outputs": [],
   "source": [
    "class fan:\n",
    "    def __init__(self):\n",
    "        self.__speed = 0   # private variable\n",
    "        print(\"Fan is initialized. (OFF)\")\n",
    "\n",
    "    def turn_on(self):\n",
    "        if self.__speed == 0:\n",
    "            self.__speed = 1\n",
    "            print(\"Fan turned ON. Speed set to 1.\")\n",
    "        else:\n",
    "            print(\"Fan is already ON. Speed:\", self.__speed)\n",
    "\n",
    "    def turn_off(self):\n",
    "        if self.__speed > 0:\n",
    "            self.__speed = 0\n",
    "            print(\"Fan turned OFF.\")\n",
    "        else:\n",
    "            print(\"Fan is already OFF.\")\n",
    "\n",
    "    def increase_speed(self):\n",
    "        if self.__speed < 5:\n",
    "            self.__speed += 1\n",
    "            print(f\"Speed increased to {self.__speed}\")\n",
    "        else:\n",
    "            print(\"Speed is already at maximum (5).\")\n",
    "\n",
    "    def decrease_speed(self):\n",
    "        if self.__speed > 0:\n",
    "            self.__speed -= 1\n",
    "            print(f\"Speed decreased to {self.__speed}\")\n",
    "        else:\n",
    "            print(\"Speed is already at minimum (0 / OFF).\")\n",
    "\n",
    "    def get_speed(self):\n",
    "        return self.__speed  # Public method to access private speed\n",
    "\n"
   ]
  },
  {
   "cell_type": "code",
   "execution_count": 5,
   "id": "49ff0460-c3c0-4b4c-af9e-9db691857088",
   "metadata": {},
   "outputs": [
    {
     "name": "stdout",
     "output_type": "stream",
     "text": [
      "Fan is initialized. (OFF)\n"
     ]
    }
   ],
   "source": [
    "mi = fan()"
   ]
  },
  {
   "cell_type": "code",
   "execution_count": 6,
   "id": "0db67d6b-7603-4742-bdda-f1f8c8891b59",
   "metadata": {},
   "outputs": [
    {
     "name": "stdout",
     "output_type": "stream",
     "text": [
      "Fan turned ON. Speed set to 1.\n",
      "Speed increased to 2\n",
      "Speed increased to 3\n",
      "Speed decreased to 2\n",
      "Fan turned OFF.\n"
     ]
    }
   ],
   "source": [
    "mi.turn_on()\n",
    "mi.increase_speed()\n",
    "mi.increase_speed()\n",
    "mi.decrease_speed()\n",
    "mi.turn_off()"
   ]
  },
  {
   "cell_type": "markdown",
   "id": "62c892c3-8889-45f0-ad3f-ec35df0b0d04",
   "metadata": {},
   "source": [
    "# Assingment 2: Employee Class"
   ]
  },
  {
   "cell_type": "code",
   "execution_count": 11,
   "id": "b1faf9af-eff9-4796-bfce-cb24ae5875b7",
   "metadata": {},
   "outputs": [],
   "source": [
    "class Employee:\n",
    "    def __init__(self, name, salary, department):\n",
    "        self.name = name                   # public\n",
    "        self._salary = salary             # protected\n",
    "        self.department = department      # public\n",
    "\n",
    "    def get_details(self):\n",
    "        return f\"Name: {self.name},Department: {self.department},Salary: Rs {self._salary:.2f}\"\n",
    "\n",
    "    def increase_salary(self, percentage):\n",
    "        if percentage > 0:\n",
    "            increase_amount = self._salary * (percentage / 100)\n",
    "            self._salary += increase_amount\n",
    "            print(f\"Salary increased by {percentage}%. New salary: Rs {self._salary:.2f}\")\n",
    "        else:\n",
    "            print(\"Percentage must be positive.\")\n",
    "\n",
    "\n"
   ]
  },
  {
   "cell_type": "code",
   "execution_count": 12,
   "id": "812abda5-6e6a-489b-9946-7c2215b90da2",
   "metadata": {},
   "outputs": [
    {
     "name": "stdout",
     "output_type": "stream",
     "text": [
      "Name: Kartik,Department: SDE,Salary: Rs 60000.00\n",
      "Salary increased by 10%. New salary: Rs 66000.00\n",
      "Name: Kartik,Department: SDE,Salary: Rs 66000.00\n"
     ]
    }
   ],
   "source": [
    "emp = Employee(\"Kartik\",60000,\"SDE\")\n",
    "print(emp.get_details())\n",
    "emp.increase_salary(10)\n",
    "print(emp.get_details())"
   ]
  },
  {
   "cell_type": "markdown",
   "id": "3b51e874-260f-4703-86e4-4d8558d1ca4b",
   "metadata": {},
   "source": [
    "# Assingment 3: Bank Account"
   ]
  },
  {
   "cell_type": "code",
   "execution_count": 13,
   "id": "9bb12c6b-7c0b-4d5a-bdfb-a2ff55c57b34",
   "metadata": {},
   "outputs": [],
   "source": [
    "class BankAccount:\n",
    "    def __init__(self, name, account_number, initial_balance=0):\n",
    "        self.account_holder_name = name\n",
    "        self.account_number = account_number\n",
    "        self.__balance = initial_balance  # private variable\n",
    "\n",
    "    def deposit(self, amount):\n",
    "        if amount > 0:\n",
    "            self.__balance += amount\n",
    "            print(f\"Deposited Rs {amount:.2f}.\")\n",
    "        else:\n",
    "            print(\"Deposit amount must be positive.\")\n",
    "\n",
    "    def withdraw(self, amount):\n",
    "        if amount <= 0:\n",
    "            print(\"Withdrawal amount must be positive.\")\n",
    "        elif amount > self.__balance:\n",
    "            print(\"Insufficient balance.\")\n",
    "        else:\n",
    "            self.__balance -= amount\n",
    "            print(f\"Withdrawn Rs {amount:.2f}.\")\n",
    "\n",
    "    def check_balance(self):\n",
    "        print(f\"Current balance: Rs {self.__balance:.2f}\")\n",
    "        return self.__balance\n",
    "\n",
    "    def get_account_info(self):\n",
    "        return f\"Name: {self.account_holder_name}, Account No: {self.account_number}\"\n",
    "\n"
   ]
  },
  {
   "cell_type": "code",
   "execution_count": 22,
   "id": "28cf2557-8450-464b-a523-db4c12344f19",
   "metadata": {},
   "outputs": [
    {
     "name": "stdout",
     "output_type": "stream",
     "text": [
      "Name: Manmeet, Account No: 123456789\n",
      "Name: John Doe, Account No: 123456789\n",
      "Current balance: Rs 1000.00\n",
      "Deposited Rs 500.00.\n",
      "Withdrawn Rs 300.00.\n",
      "Insufficient balance.\n",
      "Current balance: Rs 1200.00\n"
     ]
    },
    {
     "data": {
      "text/plain": [
       "1200"
      ]
     },
     "execution_count": 22,
     "metadata": {},
     "output_type": "execute_result"
    }
   ],
   "source": [
    "acc = BankAccount(\"Manmeet\", \"123456789\", 1000)\n",
    "print(acc.get_account_info())\n",
    "acc = BankAccount(\"John Doe\", \"123456789\", 1000)\n",
    "print(acc.get_account_info())\n",
    "acc.check_balance()\n",
    "acc.deposit(500)\n",
    "acc.withdraw(300)\n",
    "acc.withdraw(1500)  # Should fail\n",
    "acc.check_balance()    "
   ]
  },
  {
   "cell_type": "markdown",
   "id": "334d976f-16fd-4a89-932e-92015e54a95d",
   "metadata": {},
   "source": [
    "# Assingment 4: Library Book"
   ]
  },
  {
   "cell_type": "code",
   "execution_count": 23,
   "id": "ff9ff388-1d9e-4965-b2c9-ca72bf1560d2",
   "metadata": {},
   "outputs": [],
   "source": [
    "class Book:\n",
    "    def __init__(self, title, author, price):\n",
    "        self.title = title\n",
    "        self.author = author\n",
    "        self.price = price\n",
    "        self.__availability_status = True  # private\n",
    "\n",
    "    def borrow_book(self):\n",
    "        if self.__availability_status:\n",
    "            self.__availability_status = False\n",
    "            print(f\"You have borrowed '{self.title}'.\")\n",
    "        else:\n",
    "            print(f\"'{self.title}' is currently not available.\")\n",
    "\n",
    "    def return_book(self):\n",
    "        if not self.__availability_status:\n",
    "            self.__availability_status = True\n",
    "            print(f\"You have returned '{self.title}'. Thank you!\")\n",
    "        else:\n",
    "            print(f\"'{self.title}' was not borrowed.\")\n",
    "\n",
    "    def get_book_info(self):\n",
    "        status = \"Available\" if self.__availability_status else \"Borrowed\"\n",
    "        return f\"Title: {self.title}, Author: {self.author}, Price: Rs {self.price:.2f}, Status: {status}\"\n"
   ]
  },
  {
   "cell_type": "code",
   "execution_count": 24,
   "id": "3e31b442-bf73-4172-ab9f-ff841fc9f891",
   "metadata": {},
   "outputs": [
    {
     "name": "stdout",
     "output_type": "stream",
     "text": [
      "Title: 2022, Author: Cal Newport, Price: Rs 349.49, Status: Available\n",
      "You have borrowed '2022'.\n",
      "Title: 2022, Author: Cal Newport, Price: Rs 349.49, Status: Borrowed\n",
      "'2022' is currently not available.\n",
      "You have returned '2022'. Thank you!\n",
      "Title: 2022, Author: Cal Newport, Price: Rs 349.49, Status: Available\n"
     ]
    }
   ],
   "source": [
    "b1 = Book(\"2022\", \"Cal Newport\", 349.49)\n",
    "print(b1.get_book_info())\n",
    "b1.borrow_book()\n",
    "print(b1.get_book_info())\n",
    "b1.borrow_book()  \n",
    "b1.return_book()\n",
    "print(b1.get_book_info())"
   ]
  },
  {
   "cell_type": "code",
   "execution_count": null,
   "id": "2e2b603d-a3b2-412f-9dab-3f1b05350db2",
   "metadata": {},
   "outputs": [],
   "source": []
  }
 ],
 "metadata": {
  "kernelspec": {
   "display_name": "Python [conda env:base] *",
   "language": "python",
   "name": "conda-base-py"
  },
  "language_info": {
   "codemirror_mode": {
    "name": "ipython",
    "version": 3
   },
   "file_extension": ".py",
   "mimetype": "text/x-python",
   "name": "python",
   "nbconvert_exporter": "python",
   "pygments_lexer": "ipython3",
   "version": "3.13.5"
  }
 },
 "nbformat": 4,
 "nbformat_minor": 5
}
