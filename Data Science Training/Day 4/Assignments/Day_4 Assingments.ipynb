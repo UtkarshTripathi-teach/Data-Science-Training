{
 "cells": [
  {
   "cell_type": "markdown",
   "id": "6254e8a0-252b-4dc6-871a-5bae00c42175",
   "metadata": {},
   "source": [
    "# 1.Government Job Scraper"
   ]
  },
  {
   "cell_type": "code",
   "execution_count": 1,
   "id": "0ec6f7b6-8945-4be6-a4c3-451a55a918e2",
   "metadata": {},
   "outputs": [
    {
     "name": "stdout",
     "output_type": "stream",
     "text": [
      "Searching for: government jobs 2025\n",
      "Saved 10 links to 'top_govt_jobs_2025.txt'\n"
     ]
    }
   ],
   "source": [
    "from googlesearch import search\n",
    "\n",
    "def google_search(title, num_results=10):\n",
    "    try:\n",
    "        print(f\"Searching for: {title}\")\n",
    "        return list(search(title, num_results=num_results))\n",
    "    except Exception as e:\n",
    "        print(f\"Error during search: {e}\")\n",
    "        return []\n",
    "\n",
    "def save_file(filename, links):\n",
    "    try:\n",
    "        with open(filename, 'w') as file:\n",
    "            for i, link in enumerate(links, start=1):\n",
    "                file.write(f\"{i}. {link}\\n\")\n",
    "        print(f\"Saved {len(links)} links to '{filename}'\")\n",
    "    except Exception as e:\n",
    "        print(f\"Error writing to file: {e}\")\n",
    "\n",
    "\n",
    "title = \"government jobs 2025\"\n",
    "filename = \"top_govt_jobs_2025.txt\"\n",
    "\n",
    "results = google_search(title, num_results=10)\n",
    "\n",
    "if results:\n",
    "    save_file(filename, results)\n",
    "else:\n",
    "    print(\"search failed!\")\n"
   ]
  },
  {
   "cell_type": "code",
   "execution_count": null,
   "id": "c5e7fa17-8f2f-4906-81fa-7de86e68ee95",
   "metadata": {},
   "outputs": [],
   "source": []
  },
  {
   "cell_type": "markdown",
   "id": "47c001ce-43b0-4c6a-91b3-0a27252d5553",
   "metadata": {},
   "source": [
    "# 2.Image Downloader"
   ]
  },
  {
   "cell_type": "code",
   "execution_count": 2,
   "id": "a4ee508e-9619-4202-adc5-c21af6f3583b",
   "metadata": {},
   "outputs": [],
   "source": [
    "import requests\n",
    "\n",
    "def download_images(count=5):\n",
    "    base_url = \"https://picsum.photos/400/300\"  \n",
    "    for i in range(1, count + 1):\n",
    "        try:\n",
    "            response = requests.get(base_url)\n",
    "            if response.status_code == 200:\n",
    "                filename = f\"image_{i}.jpg\"\n",
    "                with open(filename, 'wb') as file:\n",
    "                    file.write(response.content)\n",
    "                print(f\"Downloaded {filename}\")\n",
    "            else:\n",
    "                print(f\"Failed to download image {i}, status code: {response.status_code}\")\n",
    "        except Exception as e:\n",
    "            print(f\"Error downloading image {i}: {e}\")\n"
   ]
  },
  {
   "cell_type": "code",
   "execution_count": 3,
   "id": "3c625238-29fb-4dc6-b3b4-cb25031d6353",
   "metadata": {},
   "outputs": [
    {
     "name": "stdout",
     "output_type": "stream",
     "text": [
      "Downloaded image_1.jpg\n",
      "Downloaded image_2.jpg\n",
      "Downloaded image_3.jpg\n",
      "Downloaded image_4.jpg\n",
      "Downloaded image_5.jpg\n"
     ]
    }
   ],
   "source": [
    "download_images(5)"
   ]
  },
  {
   "cell_type": "markdown",
   "id": "70285ba9-01ec-4b27-be7e-e895ffb3dc91",
   "metadata": {},
   "source": [
    "# 3.Student Managment System"
   ]
  },
  {
   "cell_type": "code",
   "execution_count": 5,
   "id": "2e5a4b21-6ab7-4a26-86b0-f70ae6634b80",
   "metadata": {},
   "outputs": [
    {
     "name": "stdout",
     "output_type": "stream",
     "text": [
      "Student Management System\n",
      "\n"
     ]
    },
    {
     "name": "stdin",
     "output_type": "stream",
     "text": [
      "Enter student name:  Kartik\n",
      "Enter roll number:  073\n",
      "Enter marks (0-100):  88\n"
     ]
    },
    {
     "name": "stdout",
     "output_type": "stream",
     "text": [
      "Calculated Grade: B\n",
      "Student data saved successfully.\n"
     ]
    }
   ],
   "source": [
    "class Student:\n",
    "    def __init__(self, name, roll_no, marks):\n",
    "        self.name = name\n",
    "        self.roll_no = roll_no\n",
    "        self.marks = marks\n",
    "        self.grade = self.calculate_grade()\n",
    "\n",
    "    def calculate_grade(self):\n",
    "        if self.marks >= 90:\n",
    "            return 'A'\n",
    "        elif self.marks >= 75:\n",
    "            return 'B'\n",
    "        elif self.marks >= 60:\n",
    "            return 'C'\n",
    "        elif self.marks >= 40:\n",
    "            return 'D'\n",
    "        else:\n",
    "            return 'F'\n",
    "\n",
    "    def to_string(self):\n",
    "        return f\"Name: {self.name}, Roll No: {self.roll_no}, Marks: {self.marks}, Grade: {self.grade}\"\n",
    "\n",
    "\n",
    "def save_student_to_file(student, filename=\"students.txt\"):\n",
    "    try:\n",
    "        with open(filename, 'a') as file:\n",
    "            file.write(student.to_string() + \"\\n\")\n",
    "        print(\"Student data saved successfully.\")\n",
    "    except Exception as e:\n",
    "        print(f\"Error saving data: {e}\")\n",
    "\n",
    "\n",
    "\n",
    "print(\"Student Management System\\n\")\n",
    "name = input(\"Enter student name: \")\n",
    "roll_no = input(\"Enter roll number: \")\n",
    "try:\n",
    "    marks = float(input(\"Enter marks (0-100): \"))\n",
    "    if marks < 0 or marks > 100:\n",
    "        raise ValueError(\"Marks must be between 0 and 100.\")\n",
    "\n",
    "    student = Student(name, roll_no, marks)\n",
    "    print(f\"Calculated Grade: {student.grade}\")\n",
    "    save_student_to_file(student)\n",
    "\n",
    "except ValueError as ve:\n",
    "    print(f\" Invalid input: {ve}\")\n"
   ]
  },
  {
   "cell_type": "code",
   "execution_count": null,
   "id": "67b9a3fa-d9e4-49e7-b907-b711cfec36b6",
   "metadata": {},
   "outputs": [],
   "source": []
  },
  {
   "cell_type": "markdown",
   "id": "e4ebaaa7-75ee-4c95-9233-b00964f81094",
   "metadata": {},
   "source": [
    "# 4.File Backup System"
   ]
  },
  {
   "cell_type": "code",
   "execution_count": 22,
   "id": "a0d3cadc-947d-46d7-b32b-3fadaad0aa14",
   "metadata": {},
   "outputs": [
    {
     "name": "stdout",
     "output_type": "stream",
     "text": [
      "Created backup folder: /Users/utkarshtripathi24/DS using Python (july'25)/Assigments/backup\n",
      "Backup complete. 2 Python file(s) copied to '/Users/utkarshtripathi24/DS using Python (july'25)/Assigments/backup'.\n"
     ]
    }
   ],
   "source": [
    "import os\n",
    "\n",
    "def backup_py_files(source_dir, backup_dir):\n",
    "    # Create backup directory if it doesn't exist\n",
    "    if not os.path.exists(backup_dir):\n",
    "        os.makedirs(backup_dir)\n",
    "        print(f\"Created backup folder: {backup_dir}\")\n",
    "\n",
    "    count = 0\n",
    "    for root, _, files in os.walk(source_dir):\n",
    "        for file in files:\n",
    "            if file.endswith(\".py\"):\n",
    "                src_path = os.path.join(root, file)\n",
    "\n",
    "                # Avoid backing up files already in backup directory\n",
    "                if backup_dir in src_path:\n",
    "                    continue\n",
    "\n",
    "                # Create the same folder structure in backup dir\n",
    "                relative_path = os.path.relpath(root, source_dir)\n",
    "                dest_dir = os.path.join(backup_dir, relative_path)\n",
    "                os.makedirs(dest_dir, exist_ok=True)\n",
    "\n",
    "                dest_path = os.path.join(dest_dir, file)\n",
    "\n",
    "                # Copy file using file handling\n",
    "                try:\n",
    "                    with open(src_path, 'rb') as src_file:\n",
    "                        content = src_file.read()\n",
    "\n",
    "                    with open(dest_path, 'wb') as dest_file:\n",
    "                        dest_file.write(content)\n",
    "\n",
    "                    count += 1\n",
    "                except Exception as e:\n",
    "                    print(f\"Failed to copy {src_path}: {e}\")\n",
    "\n",
    "    print(f\"Backup complete. {count} Python file(s) copied to '{backup_dir}'.\")\n",
    "\n",
    "if __name__ == \"__main__\":\n",
    "    source_directory = os.getcwd()\n",
    "    backup_directory = os.path.join(source_directory, \"backup\")\n",
    "\n",
    "    backup_py_files(source_directory, backup_directory)\n"
   ]
  },
  {
   "cell_type": "code",
   "execution_count": null,
   "id": "6f539330-c18a-4f82-9799-9f85e27c5f43",
   "metadata": {},
   "outputs": [],
   "source": []
  },
  {
   "cell_type": "markdown",
   "id": "396816cc-6493-4ad4-ae54-d9928d12ee9d",
   "metadata": {},
   "source": [
    "# 5.Simple Database App"
   ]
  },
  {
   "cell_type": "code",
   "execution_count": 14,
   "id": "3f0c4476-bad8-450a-9b28-4fb212b9fd64",
   "metadata": {},
   "outputs": [],
   "source": [
    "import pymysql as py"
   ]
  },
  {
   "cell_type": "code",
   "execution_count": 15,
   "id": "e5b325f8-1f97-4713-826c-9b33ee215d82",
   "metadata": {},
   "outputs": [
    {
     "name": "stdout",
     "output_type": "stream",
     "text": [
      "Connection Created Successfully!! \n"
     ]
    }
   ],
   "source": [
    "conn = py.connect(user = 'root',\n",
    "            password = 'utkarsh2408',\n",
    "            host = 'localhost',\n",
    "            autocommit = True)\n",
    "\n",
    "print('Connection Created Successfully!! ')"
   ]
  },
  {
   "cell_type": "code",
   "execution_count": null,
   "id": "f5bfd958-7dae-4476-a570-bc809306f003",
   "metadata": {},
   "outputs": [],
   "source": []
  },
  {
   "cell_type": "code",
   "execution_count": 19,
   "id": "7a540179-daab-4bc8-aa9a-f6a73896515e",
   "metadata": {},
   "outputs": [],
   "source": [
    "# cur = conn.cursor()\n",
    "# query = '''CREATE DATABASE library_1;'''\n",
    "# cur.execute(query)\n",
    "\n",
    "# print('Done')"
   ]
  },
  {
   "cell_type": "code",
   "execution_count": 21,
   "id": "2846f5be-3881-4741-b3c7-433ebb868574",
   "metadata": {},
   "outputs": [
    {
     "name": "stdout",
     "output_type": "stream",
     "text": [
      "\n",
      "=== Book Database Menu ===\n",
      "1. Add Book\n",
      "2. View All Books\n",
      "3. Search Book\n",
      "4. Exit\n"
     ]
    },
    {
     "name": "stdin",
     "output_type": "stream",
     "text": [
      "Enter choice (1-4):  1\n",
      "Enter title:  Heart of Darkness\n",
      "Enter author:  Joseph Conrad\n",
      "Enter year:  1899\n"
     ]
    },
    {
     "name": "stdout",
     "output_type": "stream",
     "text": [
      "Book added successfully.\n",
      "\n",
      "=== Book Database Menu ===\n",
      "1. Add Book\n",
      "2. View All Books\n",
      "3. Search Book\n",
      "4. Exit\n"
     ]
    },
    {
     "name": "stdin",
     "output_type": "stream",
     "text": [
      "Enter choice (1-4):  1\n",
      "Enter title:  Deep Work\n",
      "Enter author:  Cal Newport\n",
      "Enter year:  2016\n"
     ]
    },
    {
     "name": "stdout",
     "output_type": "stream",
     "text": [
      "Book added successfully.\n",
      "\n",
      "=== Book Database Menu ===\n",
      "1. Add Book\n",
      "2. View All Books\n",
      "3. Search Book\n",
      "4. Exit\n"
     ]
    },
    {
     "name": "stdin",
     "output_type": "stream",
     "text": [
      "Enter choice (1-4):  1\n",
      "Enter title:  Don't Believe Everything You Think\n",
      "Enter author:  Joseph Nguyen\n",
      "Enter year:  2022\n"
     ]
    },
    {
     "name": "stdout",
     "output_type": "stream",
     "text": [
      "Book added successfully.\n",
      "\n",
      "=== Book Database Menu ===\n",
      "1. Add Book\n",
      "2. View All Books\n",
      "3. Search Book\n",
      "4. Exit\n"
     ]
    },
    {
     "name": "stdin",
     "output_type": "stream",
     "text": [
      "Enter choice (1-4):  2\n"
     ]
    },
    {
     "name": "stdout",
     "output_type": "stream",
     "text": [
      "\n",
      "📚 Book List:\n",
      "ID: 1, Title: Heart of Darkness, Author: Joseph Conrad, Year: 1899\n",
      "ID: 2, Title: Deep Work, Author: Cal Newport, Year: 2016\n",
      "ID: 3, Title: Don't Believe Everything You Think, Author: Joseph Nguyen, Year: 2022\n",
      "\n",
      "=== Book Database Menu ===\n",
      "1. Add Book\n",
      "2. View All Books\n",
      "3. Search Book\n",
      "4. Exit\n"
     ]
    },
    {
     "name": "stdin",
     "output_type": "stream",
     "text": [
      "Enter choice (1-4):  3\n",
      "Enter title to search (or leave blank):  \n",
      "Enter author to search (or leave blank):  Cal Newport\n"
     ]
    },
    {
     "name": "stdout",
     "output_type": "stream",
     "text": [
      "\n",
      "🔍 Search Results:\n",
      "ID: 1, Title: Heart of Darkness, Author: Joseph Conrad, Year: 1899\n",
      "ID: 2, Title: Deep Work, Author: Cal Newport, Year: 2016\n",
      "ID: 3, Title: Don't Believe Everything You Think, Author: Joseph Nguyen, Year: 2022\n",
      "\n",
      "=== Book Database Menu ===\n",
      "1. Add Book\n",
      "2. View All Books\n",
      "3. Search Book\n",
      "4. Exit\n"
     ]
    },
    {
     "name": "stdin",
     "output_type": "stream",
     "text": [
      "Enter choice (1-4):  3\n",
      "Enter title to search (or leave blank):  \n",
      "Enter author to search (or leave blank):  \n"
     ]
    },
    {
     "name": "stdout",
     "output_type": "stream",
     "text": [
      "Please enter at least a title or author to search.\n",
      "\n",
      "=== Book Database Menu ===\n",
      "1. Add Book\n",
      "2. View All Books\n",
      "3. Search Book\n",
      "4. Exit\n"
     ]
    },
    {
     "name": "stdin",
     "output_type": "stream",
     "text": [
      "Enter choice (1-4):  4\n"
     ]
    },
    {
     "name": "stdout",
     "output_type": "stream",
     "text": [
      "Goodbye!\n"
     ]
    }
   ],
   "source": [
    "import pymysql\n",
    "\n",
    "# ---- Database Connection ----\n",
    "def get_connection():\n",
    "    try:\n",
    "        return pymysql.connect(\n",
    "            host=\"localhost\",\n",
    "            user=\"root\",         # 🔁 Replace with your MySQL username\n",
    "            password=\"utkarsh2408\",     # 🔁 Replace with your MySQL password\n",
    "            database=\"library_1\",\n",
    "            cursorclass=pymysql.cursors.Cursor\n",
    "        )\n",
    "    except pymysql.MySQLError as err:\n",
    "        print(f\"Database connection error: {err}\")\n",
    "        exit(1)\n",
    "\n",
    "# ---- Create Table if not exists ----\n",
    "def initialize_db():\n",
    "    try:\n",
    "        with get_connection() as conn:\n",
    "            with conn.cursor() as cursor:\n",
    "                cursor.execute(\"\"\"\n",
    "                    CREATE TABLE IF NOT EXISTS book (\n",
    "                        id INT AUTO_INCREMENT PRIMARY KEY,\n",
    "                        title VARCHAR(255),\n",
    "                        author VARCHAR(255),\n",
    "                        year INT\n",
    "                    )\n",
    "                \"\"\")\n",
    "            conn.commit()\n",
    "    except pymysql.MySQLError as err:\n",
    "        print(f\" Error initializing DB: {err}\")\n",
    "\n",
    "# ---- Add a Book ----\n",
    "def add_book(title, author, year):\n",
    "    try:\n",
    "        with get_connection() as conn:\n",
    "            with conn.cursor() as cursor:\n",
    "                cursor.execute(\"INSERT INTO book (title, author, year) VALUES (%s, %s, %s)\", (title, author, year))\n",
    "            conn.commit()\n",
    "        print(\"Book added successfully.\")\n",
    "    except pymysql.MySQLError as err:\n",
    "        print(f\"Error adding book: {err}\")\n",
    "\n",
    "# ---- View All Books ----\n",
    "def view_books():\n",
    "    try:\n",
    "        with get_connection() as conn:\n",
    "            with conn.cursor() as cursor:\n",
    "                cursor.execute(\"SELECT * FROM book\")\n",
    "                rows = cursor.fetchall()\n",
    "        print(\"\\n📚 Book List:\")\n",
    "        for row in rows:\n",
    "            print(f\"ID: {row[0]}, Title: {row[1]}, Author: {row[2]}, Year: {row[3]}\")\n",
    "        if not rows:\n",
    "            print(\"No books found.\")\n",
    "    except pymysql.MySQLError as err:\n",
    "        print(f\"Error retrieving books: {err}\")\n",
    "\n",
    "# ---- Search Books ----\n",
    "def search_books(title=\"\", author=\"\"):\n",
    "    if not title and not author:\n",
    "        print(\"Please enter at least a title or author to search.\")\n",
    "        return\n",
    "    try:\n",
    "        with get_connection() as conn:\n",
    "            with conn.cursor() as cursor:\n",
    "                cursor.execute(\"\"\"\n",
    "                    SELECT * FROM book \n",
    "                    WHERE title LIKE %s OR author LIKE %s\n",
    "                \"\"\", ('%' + title + '%', '%' + author + '%'))\n",
    "                rows = cursor.fetchall()\n",
    "        print(\"\\n🔍 Search Results:\")\n",
    "        for row in rows:\n",
    "            print(f\"ID: {row[0]}, Title: {row[1]}, Author: {row[2]}, Year: {row[3]}\")\n",
    "        if not rows:\n",
    "            print(\"No matching books found.\")\n",
    "    except pymysql.MySQLError as err:\n",
    "        print(f\"Error searching books: {err}\")\n",
    "\n",
    "# ---- Main Menu ----\n",
    "def main():\n",
    "    initialize_db()\n",
    "\n",
    "    while True:\n",
    "        print(\"\\n=== Book Database Menu ===\")\n",
    "        print(\"1. Add Book\")\n",
    "        print(\"2. View All Books\")\n",
    "        print(\"3. Search Book\")\n",
    "        print(\"4. Exit\")\n",
    "\n",
    "        choice = input(\"Enter choice (1-4): \").strip()\n",
    "\n",
    "        if choice == '1':\n",
    "            title = input(\"Enter title: \").strip()\n",
    "            author = input(\"Enter author: \").strip()\n",
    "            try:\n",
    "                year = int(input(\"Enter year: \"))\n",
    "                add_book(title, author, year)\n",
    "            except ValueError:\n",
    "                print(\"Invalid year. Must be a number.\")\n",
    "        elif choice == '2':\n",
    "            view_books()\n",
    "        elif choice == '3':\n",
    "            title = input(\"Enter title to search (or leave blank): \").strip()\n",
    "            author = input(\"Enter author to search (or leave blank): \").strip()\n",
    "            search_books(title, author)\n",
    "        elif choice == '4':\n",
    "            print(\"Goodbye!\")\n",
    "            break\n",
    "        else:\n",
    "            print(\"Invalid choice. Please enter 1–4.\")\n",
    "\n",
    "# Run the program\n",
    "if __name__ == \"__main__\":\n",
    "    main()\n"
   ]
  },
  {
   "cell_type": "code",
   "execution_count": null,
   "id": "682c082a-c19d-4a6c-8398-14eaf0926b1b",
   "metadata": {},
   "outputs": [],
   "source": []
  },
  {
   "cell_type": "code",
   "execution_count": null,
   "id": "e215bd89-4215-4fc9-b666-0691e2debede",
   "metadata": {},
   "outputs": [],
   "source": []
  }
 ],
 "metadata": {
  "kernelspec": {
   "display_name": "Python [conda env:base] *",
   "language": "python",
   "name": "conda-base-py"
  },
  "language_info": {
   "codemirror_mode": {
    "name": "ipython",
    "version": 3
   },
   "file_extension": ".py",
   "mimetype": "text/x-python",
   "name": "python",
   "nbconvert_exporter": "python",
   "pygments_lexer": "ipython3",
   "version": "3.13.5"
  }
 },
 "nbformat": 4,
 "nbformat_minor": 5
}
