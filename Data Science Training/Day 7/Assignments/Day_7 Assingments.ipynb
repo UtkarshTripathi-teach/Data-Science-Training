{
 "cells": [
  {
   "cell_type": "markdown",
   "id": "11d04890-2e9a-4b5a-8a3a-747d79155729",
   "metadata": {},
   "source": [
    "# Assignment 1: University System"
   ]
  },
  {
   "cell_type": "code",
   "execution_count": 1,
   "id": "99bbd492-12cf-49d2-b8ea-92c844bfe654",
   "metadata": {},
   "outputs": [],
   "source": [
    "# Base class\n",
    "class Person:\n",
    "    def __init__(self, name, age):\n",
    "        self.name = name\n",
    "        self.age = age\n",
    "\n",
    "    def get_details(self):\n",
    "        return f\"Name: {self.name}, Age: {self.age}\"\n",
    "\n",
    "# Student class inherits from Person\n",
    "class Student(Person):\n",
    "    def __init__(self, name, age, student_id, course):\n",
    "        super().__init__(name, age)\n",
    "        self.student_id = student_id\n",
    "        self.course = course\n",
    "\n",
    "    def get_details(self):\n",
    "        base = super().get_details()\n",
    "        return f\"{base}, Student ID: {self.student_id}, Course: {self.course}\"\n",
    "\n",
    "# Teacher class inherits from Person\n",
    "class Teacher(Person):\n",
    "    def __init__(self, name, age, employee_id, subject):\n",
    "        super().__init__(name, age)\n",
    "        self.employee_id = employee_id\n",
    "        self.subject = subject\n",
    "\n",
    "    def get_details(self):\n",
    "        base = super().get_details()\n",
    "        return f\"{base}, Employee ID: {self.employee_id}, Subject: {self.subject}\"\n",
    "\n",
    "# TechStudent inherits from Student\n",
    "class TechStudent(Student):\n",
    "    def __init__(self, name, age, student_id, course, programming_languages):\n",
    "        super().__init__(name, age, student_id, course)\n",
    "        self.programming_languages = programming_languages\n",
    "\n",
    "    def get_details(self):\n",
    "        base = super().get_details()\n",
    "        langs = ', '.join(self.programming_languages)\n",
    "        return f\"{base}, Languages: {langs}\"\n"
   ]
  },
  {
   "cell_type": "code",
   "execution_count": 2,
   "id": "251c2217-117d-4ed4-aca7-f11e0d49bafc",
   "metadata": {},
   "outputs": [
    {
     "name": "stdout",
     "output_type": "stream",
     "text": [
      "Name: Ankit, Age: 40\n",
      "Name: Kartik, Age: 20, Student ID: S101, Course: Maths\n",
      "Name: Dr. Akul, Age: 45, Employee ID: T202, Subject: Physics\n",
      "Name: Manmeet, Age: 21, Student ID: S110, Course: Computer Science, Languages: Python, Java, C++\n"
     ]
    }
   ],
   "source": [
    "person = Person(\"Ankit\", 40)\n",
    "student = Student(\"Kartik\", 20, \"S101\", \"Maths\")\n",
    "teacher = Teacher(\"Dr. Akul\", 45, \"T202\", \"Physics\")\n",
    "tech_student = TechStudent(\"Manmeet\", 21, \"S110\", \"Computer Science\", [\"Python\", \"Java\", \"C++\"])\n",
    "print(person.get_details())\n",
    "print(student.get_details())\n",
    "print(teacher.get_details())\n",
    "print(tech_student.get_details())"
   ]
  },
  {
   "cell_type": "code",
   "execution_count": null,
   "id": "1ecf9e1b-bc2e-4fd7-a49d-9b9a80c53e88",
   "metadata": {},
   "outputs": [],
   "source": []
  },
  {
   "cell_type": "markdown",
   "id": "d03026fe-6d5a-4367-8518-b95c62b6edbb",
   "metadata": {},
   "source": [
    "# Assignment 2: Media Player"
   ]
  },
  {
   "cell_type": "code",
   "execution_count": 3,
   "id": "6258af0d-e1ee-43ba-897c-bf3218559d63",
   "metadata": {},
   "outputs": [],
   "source": [
    "from abc import ABC, abstractmethod\n",
    "\n",
    "class MediaPlayer(ABC): # Abstract MediaPlayer class\n",
    "    @abstractmethod\n",
    "    def play(self):\n",
    "        pass\n",
    "\n",
    "    @abstractmethod\n",
    "    def stop(self):\n",
    "        pass\n",
    "\n",
    "\n",
    "class AudioPlayer(MediaPlayer): # AudioPlayer \n",
    "    def play(self):\n",
    "        print(\"Playing audio...\")\n",
    "\n",
    "    def stop(self):\n",
    "        print(\"Stopping audio...\")\n",
    "\n",
    "\n",
    "class VideoPlayer(MediaPlayer): # VideoPlayer \n",
    "    def play(self):\n",
    "        print(\"Playing video...\")\n",
    "\n",
    "    def stop(self):\n",
    "        print(\"Stopping video...\")\n",
    "\n",
    "class UniversalPlayer(AudioPlayer, VideoPlayer): # UniversalPlayer\n",
    "    def play(self):\n",
    "        print(\"UniversalPlayer:\")\n",
    "        AudioPlayer.play(self)\n",
    "        VideoPlayer.play(self)\n",
    "\n",
    "    def stop(self):\n",
    "        print(\"UniversalPlayer:\")\n",
    "        AudioPlayer.stop(self)\n",
    "        VideoPlayer.stop(self)"
   ]
  },
  {
   "cell_type": "code",
   "execution_count": 5,
   "id": "7da50037-47f2-4613-a8b6-0f0eb9f9f7de",
   "metadata": {},
   "outputs": [
    {
     "name": "stdout",
     "output_type": "stream",
     "text": [
      "AudioPlayer:\n",
      "Playing audio...\n",
      "Stopping audio...\n",
      "\n",
      "VideoPlayer:\n",
      "Playing video...\n",
      "Stopping video...\n",
      "\n",
      "UniversalPlayer:\n",
      "UniversalPlayer:\n",
      "Playing audio...\n",
      "Playing video...\n",
      "UniversalPlayer:\n",
      "Stopping audio...\n",
      "Stopping video...\n"
     ]
    }
   ],
   "source": [
    "print(\"AudioPlayer:\")\n",
    "audio = AudioPlayer()\n",
    "audio.play()\n",
    "audio.stop()\n",
    "\n",
    "print(\"\\nVideoPlayer:\")\n",
    "video = VideoPlayer()\n",
    "video.play()\n",
    "video.stop()\n",
    "\n",
    "print(\"\\nUniversalPlayer:\")\n",
    "universal = UniversalPlayer()\n",
    "universal.play()\n",
    "universal.stop()"
   ]
  },
  {
   "cell_type": "code",
   "execution_count": null,
   "id": "f6b4180f-7405-4202-bed7-1a761983cb79",
   "metadata": {},
   "outputs": [],
   "source": []
  },
  {
   "cell_type": "markdown",
   "id": "b02822e8-ac53-4f12-b161-34224135addd",
   "metadata": {},
   "source": [
    "# Assignment 3: Banking System"
   ]
  },
  {
   "cell_type": "code",
   "execution_count": 6,
   "id": "b47113f1-38df-4baa-b248-e46db59161e6",
   "metadata": {},
   "outputs": [],
   "source": [
    "class Bank:\n",
    "    def __init__(self, account_number, holder_name, balance=0):\n",
    "        self.account_number = account_number\n",
    "        self.holder_name = holder_name\n",
    "        self.balance = balance\n",
    "\n",
    "    def deposit(self, amount):\n",
    "        if amount > 0:\n",
    "            self.balance += amount\n",
    "            print(f\"Deposited Rs {amount}. New balance: Rs {self.balance}\")\n",
    "        else:\n",
    "            print(\"Deposit amount must be positive.\")\n",
    "\n",
    "    def withdraw(self, amount):\n",
    "        if amount > 0 and amount <= self.balance:\n",
    "            self.balance -= amount\n",
    "            print(f\"Withdrawn Rs {amount}. Remaining balance: Rs {self.balance}\")\n",
    "        else:\n",
    "            print(\"Invalid withdrawal amount or insufficient funds.\")\n",
    "\n",
    "    def get_balance(self):\n",
    "        return self.balance\n",
    "\n",
    "    def interest_rate(self):\n",
    "        return 0  #overridden\n",
    "\n",
    "\n",
    "class SavingsAccount(Bank):  # SavingsAccount inheriting from Bank\n",
    "    def interest_rate(self):\n",
    "        return 4.0  # 4% interest for savings account\n",
    "\n",
    "\n",
    "class CurrentAccount(Bank): # CurrentAccount inheriting from Bank\n",
    "    def interest_rate(self):\n",
    "        return 0.5  # 0.5% interest for current account\n",
    "\n",
    "\n",
    "def display_account_info(account):\n",
    "    print(f\"\\nAccount Holder: {account.holder_name}\")\n",
    "    print(f\"Account Number: {account.account_number}\")\n",
    "    print(f\"Account Balance: Rs {account.get_balance()}\")\n",
    "    print(f\"Interest Rate: {account.interest_rate()}%\\n\")\n",
    "\n"
   ]
  },
  {
   "cell_type": "code",
   "execution_count": 8,
   "id": "1c247b11-7200-40ac-af6d-bece4a192f9b",
   "metadata": {},
   "outputs": [
    {
     "name": "stdout",
     "output_type": "stream",
     "text": [
      "Deposited Rs 5500. New balance: Rs 17500\n",
      "Withdrawn Rs 2900. Remaining balance: Rs 14600\n",
      "Deposited Rs 12000. New balance: Rs 34000\n",
      "Withdrawn Rs 5100. Remaining balance: Rs 28900\n",
      "\n",
      "Account Holder: Kartik\n",
      "Account Number: SBI123\n",
      "Account Balance: Rs 14600\n",
      "Interest Rate: 4.0%\n",
      "\n",
      "\n",
      "Account Holder: Manmeet\n",
      "Account Number: PNB123\n",
      "Account Balance: Rs 28900\n",
      "Interest Rate: 0.5%\n",
      "\n"
     ]
    }
   ],
   "source": [
    "savings = SavingsAccount(\"SBI123\", \"Kartik\", 12000)\n",
    "current = CurrentAccount(\"PNB123\", \"Manmeet\", 22000)\n",
    "\n",
    "savings.deposit(5500)\n",
    "savings.withdraw(2900)\n",
    "current.deposit(12000)\n",
    "current.withdraw(5100)\n",
    "\n",
    "for account in [savings, current]:\n",
    "    display_account_info(account)"
   ]
  },
  {
   "cell_type": "markdown",
   "id": "5cbbe7ed-3f7e-40c2-b253-fb3a3d3e092f",
   "metadata": {},
   "source": [
    "# Assignment 4: Gaming Characters "
   ]
  },
  {
   "cell_type": "code",
   "execution_count": 13,
   "id": "5c2a7356-ee2e-4b61-ac46-d74613294370",
   "metadata": {},
   "outputs": [],
   "source": [
    "class Character:\n",
    "    def __init__(self, name, health):\n",
    "        self.name = name\n",
    "        self.health = health\n",
    "\n",
    "    def attack(self):\n",
    "        print(f\"{self.name} attacks with basic strength!\")\n",
    "\n",
    "\n",
    "class Warrior(Character):\n",
    "    def __init__(self, name, health, sword_skill):\n",
    "        super().__init__(name, health)\n",
    "        self.sword_skill = sword_skill\n",
    "\n",
    "    def attack(self):\n",
    "        print(f\"{self.name} swings sword with skill level {self.sword_skill}!\")\n",
    "\n",
    "\n",
    "class Mage(Character):\n",
    "    def __init__(self, name, health, magic_power):\n",
    "        super().__init__(name, health)\n",
    "        self.magic_power = magic_power\n",
    "\n",
    "    def attack(self):\n",
    "        print(f\"{self.name} casts a spell with magic power {self.magic_power}!\")\n",
    "\n",
    "\n",
    "class Archer(Character):\n",
    "    def __init__(self, name, health, bow_skill):\n",
    "        super().__init__(name, health)\n",
    "        self.bow_skill = bow_skill\n",
    "\n",
    "    def attack(self):\n",
    "        print(f\"{self.name} fires an arrow with bow skill {self.bow_skill}!\")\n",
    "\n",
    "\n",
    "\n",
    "def perform_attack(character):\n",
    "    character.attack()\n",
    "\n",
    "\n"
   ]
  },
  {
   "cell_type": "code",
   "execution_count": 16,
   "id": "4afe2319-7701-4408-b5c8-93767e5041c4",
   "metadata": {},
   "outputs": [
    {
     "name": "stdout",
     "output_type": "stream",
     "text": [
      "Character Attacks\n",
      "Shiva swings sword with skill level 18!\n",
      "Arjun casts a spell with magic power 10!\n",
      "Karan fires an arrow with bow skill 7!\n"
     ]
    }
   ],
   "source": [
    "    warrior = Warrior(\"Shiva\", 100, 18)\n",
    "    mage = Mage(\"Arjun\", 80, 10)\n",
    "    archer = Archer(\"Karan\", 90, 7)\n",
    "\n",
    "    print(\"Character Attacks\")\n",
    "    perform_attack(warrior)\n",
    "    perform_attack(mage)\n",
    "    perform_attack(archer)"
   ]
  },
  {
   "cell_type": "code",
   "execution_count": null,
   "id": "f2ecc899-6fba-449a-8925-c0c53619e395",
   "metadata": {},
   "outputs": [],
   "source": [
    "# Main block to test the system\n",
    "if __name__ == \"__main__\":\n",
    "    # Creating different characters\n",
    "    warrior = Warrior(\"Thorn\", 100, 8)\n",
    "    mage = Mage(\"Elera\", 80, 10)\n",
    "    archer = Archer(\"Kael\", 90, 7)\n",
    "\n",
    "    print(\"=== Character Attacks ===\")\n",
    "    perform_attack(warrior)\n",
    "    perform_attack(mage)\n",
    "    perform_attack(archer)\n"
   ]
  },
  {
   "cell_type": "markdown",
   "id": "9b531187-d0bf-4bb1-ab62-244b8b6d0336",
   "metadata": {},
   "source": [
    "# Assignment 5: Transportation System"
   ]
  },
  {
   "cell_type": "code",
   "execution_count": 9,
   "id": "4d2ba560-528b-4360-8a67-cb535f775833",
   "metadata": {},
   "outputs": [],
   "source": [
    "from abc import ABC, abstractmethod\n",
    "\n",
    "# Abstract Class\n",
    "class Transport(ABC):\n",
    "    @abstractmethod\n",
    "    def move(self):\n",
    "        pass\n",
    "\n",
    "class LandTransport(Transport): # LandTransport class\n",
    "    def move(self):\n",
    "        print(\"Moving on land using wheels or tracks.\")\n",
    "\n",
    "class WaterTransport(Transport): # WaterTransport class\n",
    "    def move(self):\n",
    "        print(\"Sailing on water using propellers or paddles.\")\n",
    "\n",
    "class AirTransport(Transport): # AirTransport class\n",
    "    def move(self):\n",
    "        print(\"Flying in the air using wings or rotors.\")\n",
    "\n",
    "class Amphibious(LandTransport, WaterTransport):\n",
    "    def move(self):\n",
    "        print(\"Capable of moving both on land and water.\")\n",
    "        print(\"Activating land mode:\")\n",
    "        LandTransport.move(self)\n",
    "        print(\"Activating water mode:\")\n",
    "        WaterTransport.move(self)\n",
    "\n"
   ]
  },
  {
   "cell_type": "code",
   "execution_count": 10,
   "id": "d86a11ad-a088-4b19-a1fd-04bb0c94839f",
   "metadata": {},
   "outputs": [
    {
     "name": "stdout",
     "output_type": "stream",
     "text": [
      "\n",
      "Land Transport:\n",
      "Moving on land using wheels or tracks.\n",
      "\n",
      "Water Transport:\n",
      "Sailing on water using propellers or paddles.\n",
      "\n",
      "Air Transport:\n",
      "Flying in the air using wings or rotors.\n",
      "\n",
      "Amphibious Vehicle:\n",
      "Capable of moving both on land and water.\n",
      "Activating land mode:\n",
      "Moving on land using wheels or tracks.\n",
      "Activating water mode:\n",
      "Sailing on water using propellers or paddles.\n"
     ]
    }
   ],
   "source": [
    "land = LandTransport()\n",
    "water = WaterTransport()\n",
    "air = AirTransport()\n",
    "amphibious = Amphibious()\n",
    "print(\"\\nLand Transport:\")\n",
    "land.move()\n",
    "print(\"\\nWater Transport:\")\n",
    "water.move()\n",
    "print(\"\\nAir Transport:\")\n",
    "air.move()\n",
    "print(\"\\nAmphibious Vehicle:\")\n",
    "amphibious.move()\n"
   ]
  },
  {
   "cell_type": "code",
   "execution_count": null,
   "id": "721ec26b-3741-438b-888b-d5ebea525875",
   "metadata": {},
   "outputs": [],
   "source": []
  },
  {
   "cell_type": "code",
   "execution_count": null,
   "id": "84b928da-9083-4781-80e8-174506f45e72",
   "metadata": {},
   "outputs": [],
   "source": []
  }
 ],
 "metadata": {
  "kernelspec": {
   "display_name": "Python [conda env:base] *",
   "language": "python",
   "name": "conda-base-py"
  },
  "language_info": {
   "codemirror_mode": {
    "name": "ipython",
    "version": 3
   },
   "file_extension": ".py",
   "mimetype": "text/x-python",
   "name": "python",
   "nbconvert_exporter": "python",
   "pygments_lexer": "ipython3",
   "version": "3.13.5"
  }
 },
 "nbformat": 4,
 "nbformat_minor": 5
}
