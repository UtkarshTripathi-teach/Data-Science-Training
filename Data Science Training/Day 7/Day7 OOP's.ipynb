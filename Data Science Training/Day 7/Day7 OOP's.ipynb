{
 "cells": [
  {
   "cell_type": "markdown",
   "id": "bad3a6d1-1bb6-41ca-bd24-2d699118b2fa",
   "metadata": {},
   "source": [
    "# Inheritance"
   ]
  },
  {
   "cell_type": "markdown",
   "id": "2317589b-6d7d-47c8-bdd9-b30dd6103100",
   "metadata": {},
   "source": [
    "class A:\n",
    "\n",
    "    def i_am_a():\n",
    "        print('I am a Func of Class A')\n",
    "\n",
    "    def i_am_b():\n",
    "        print('I am b Func of Class B')\n",
    "\n",
    "\n",
    "class B:\n",
    "\n",
    "    def i_am_b():\n",
    "        print('I am b Func of Class B')"
   ]
  },
  {
   "cell_type": "code",
   "execution_count": 5,
   "id": "ebdd0a4d-b6f6-42f6-b1d7-9b7b3379f10e",
   "metadata": {},
   "outputs": [],
   "source": [
    "# simple Inheritance(single)\n",
    "# Multiple Inheritance\n",
    "# Multilevel Inheritance\n",
    "# Hybrid Inheritance"
   ]
  },
  {
   "cell_type": "markdown",
   "id": "71f888a5-9d7c-441d-bd7c-e18541069730",
   "metadata": {},
   "source": [
    "# Simple Inheritance(single)"
   ]
  },
  {
   "cell_type": "code",
   "execution_count": 7,
   "id": "c4460de5-2e57-43dc-b2b0-02400291b244",
   "metadata": {},
   "outputs": [],
   "source": [
    "# class:"
   ]
  },
  {
   "cell_type": "code",
   "execution_count": 12,
   "id": "4ae0bae8-5bc3-49f7-ac9c-3048fc7a729a",
   "metadata": {},
   "outputs": [],
   "source": [
    "class BMW:     # Parent Class, Main Class, Super Class , Base Class\n",
    "\n",
    "    def super_turbo_engine(self):\n",
    "        print('super turbo engine Fast Speed')\n",
    "\n",
    "class Audi(BMW):     # Child Class, Sub Class \n",
    "\n",
    "    def auto_pilot(self):\n",
    "        print('Can run on Auto Pilot Mode!!')"
   ]
  },
  {
   "cell_type": "code",
   "execution_count": 13,
   "id": "20318b27-47ba-4eb2-8c54-4a35d396cc6e",
   "metadata": {},
   "outputs": [],
   "source": [
    "audi_r8 = Audi()"
   ]
  },
  {
   "cell_type": "code",
   "execution_count": 14,
   "id": "93aae29b-8fc1-4bb6-b4d4-951da4625fda",
   "metadata": {},
   "outputs": [
    {
     "name": "stdout",
     "output_type": "stream",
     "text": [
      "Can run on Auto Pilot Mode!!\n"
     ]
    }
   ],
   "source": [
    "audi_r8.auto_pilot()"
   ]
  },
  {
   "cell_type": "code",
   "execution_count": 16,
   "id": "69c89ff6-c289-4c19-aa87-0731b1962583",
   "metadata": {},
   "outputs": [
    {
     "name": "stdout",
     "output_type": "stream",
     "text": [
      "super turbo engine Fast Speed\n"
     ]
    }
   ],
   "source": [
    "audi_r8.super_turbo_engine()"
   ]
  },
  {
   "cell_type": "code",
   "execution_count": null,
   "id": "c418faca-6648-4772-9ec6-4d64810095bd",
   "metadata": {},
   "outputs": [],
   "source": []
  },
  {
   "cell_type": "markdown",
   "id": "14544a53-a317-4c00-a661-d979ac98f27f",
   "metadata": {},
   "source": [
    "# Multiple Inheritance"
   ]
  },
  {
   "cell_type": "code",
   "execution_count": 69,
   "id": "401dd23d-c956-41e2-ae2f-455228dfa213",
   "metadata": {},
   "outputs": [],
   "source": [
    "class Daily_Object:\n",
    "\n",
    "    def phone_case(self):\n",
    "        print('Strong Build Phone Case')\n",
    "\n",
    "class JBL:\n",
    "    def sonic_speaker(self):\n",
    "        print('high quality sound speaker')\n",
    "\n",
    "class Samsung:\n",
    "    def screen_display(self):\n",
    "        print('10K HD display')\n",
    "\n",
    "class Nvidia:\n",
    "    def motherboard(self):\n",
    "        print('Fast motherboard')\n",
    "\n",
    "class Sony:\n",
    "    def camera(self):\n",
    "        print('4k camera, 80FPS vidio recording')\n",
    "\n",
    "class lava:\n",
    "    def charger(self):\n",
    "        print('lava Charger')\n",
    "\n",
    "class One_Plus:\n",
    "    def charger(self):\n",
    "        print('One_Plus Charger')\n",
    "\n",
    "class Mobile(Daily_Object,JBL,Samsung,Nvidia,Sony,One_Plus, lava):\n",
    "    def __init__(self):\n",
    "        print('Phone Object Created Successfully')\n",
    "\n",
    "    def charger(self):\n",
    "        print('Actual Charger')\n"
   ]
  },
  {
   "cell_type": "code",
   "execution_count": 70,
   "id": "1fe8703c-0810-4184-bb96-855f0608706e",
   "metadata": {},
   "outputs": [
    {
     "name": "stdout",
     "output_type": "stream",
     "text": [
      "Phone Object Created Successfully\n"
     ]
    }
   ],
   "source": [
    "nothing = Mobile()"
   ]
  },
  {
   "cell_type": "code",
   "execution_count": 71,
   "id": "90a142cb-ecb0-423c-b392-b0ba02fd4120",
   "metadata": {},
   "outputs": [
    {
     "name": "stdout",
     "output_type": "stream",
     "text": [
      "4k camera, 80FPS vidio recording\n"
     ]
    }
   ],
   "source": [
    "nothing.camera()"
   ]
  },
  {
   "cell_type": "code",
   "execution_count": 72,
   "id": "9875c2dd-45fd-4436-90ac-2ef6b4ab446a",
   "metadata": {},
   "outputs": [
    {
     "name": "stdout",
     "output_type": "stream",
     "text": [
      "Actual Charger\n"
     ]
    }
   ],
   "source": [
    "nothing.charger()"
   ]
  },
  {
   "cell_type": "code",
   "execution_count": null,
   "id": "f6e684fc-2246-4e55-afc2-a307cb5e87cc",
   "metadata": {},
   "outputs": [],
   "source": []
  },
  {
   "cell_type": "markdown",
   "id": "cf94bc5b-2ee3-49ce-bb46-f5d3c36c7022",
   "metadata": {},
   "source": [
    "# Multilevel"
   ]
  },
  {
   "cell_type": "code",
   "execution_count": 82,
   "id": "77b72cee-954d-45a5-910f-9d850ab5fc15",
   "metadata": {},
   "outputs": [],
   "source": [
    "class GrandFather:\n",
    "    def land_property(self):\n",
    "        print('Land Property!!')\n",
    "\n",
    "class Father(GrandFather):\n",
    "    def bank_balance(self):\n",
    "        print('Big Money PLayer, Huge Money')\n",
    "\n",
    "class Son(Father):\n",
    "    def political_power(self):\n",
    "        print('Political Powers')\n",
    "\n",
    "class GrandSon(Son):\n",
    "    def mind(self):\n",
    "        print('Mind for self study!!')\n",
    "\n",
    "class Friend(GrandSon):\n",
    "    def __init__(self):\n",
    "        print('Nothing!!')"
   ]
  },
  {
   "cell_type": "code",
   "execution_count": 83,
   "id": "fd0397e9-ef3a-495a-821c-0721b2186b05",
   "metadata": {},
   "outputs": [],
   "source": [
    "aman = GrandSon()"
   ]
  },
  {
   "cell_type": "code",
   "execution_count": 84,
   "id": "d6f5027b-060c-41ce-8ae0-d0557ddad0fa",
   "metadata": {},
   "outputs": [
    {
     "name": "stdout",
     "output_type": "stream",
     "text": [
      "Big Money PLayer, Huge Money\n"
     ]
    }
   ],
   "source": [
    "aman.bank_balance()"
   ]
  },
  {
   "cell_type": "code",
   "execution_count": 85,
   "id": "c9ec74c0-8cf5-40fd-8e9e-619bbdb777fa",
   "metadata": {},
   "outputs": [
    {
     "name": "stdout",
     "output_type": "stream",
     "text": [
      "Nothing!!\n"
     ]
    }
   ],
   "source": [
    "karan = Friend()"
   ]
  },
  {
   "cell_type": "code",
   "execution_count": 86,
   "id": "b204e698-3e5f-4bbc-8a06-dc61d01759d0",
   "metadata": {},
   "outputs": [
    {
     "name": "stdout",
     "output_type": "stream",
     "text": [
      "Mind for self study!!\n"
     ]
    }
   ],
   "source": [
    "karan.mind()"
   ]
  },
  {
   "cell_type": "code",
   "execution_count": null,
   "id": "71d40338-b717-4353-8a5d-4b0f831f2579",
   "metadata": {},
   "outputs": [],
   "source": []
  },
  {
   "cell_type": "markdown",
   "id": "496b9268-a779-414f-86f0-2ef0d3cb58f1",
   "metadata": {},
   "source": [
    "# Hybrid Inheritance"
   ]
  },
  {
   "cell_type": "code",
   "execution_count": 89,
   "id": "847798c5-7ecc-4ea5-b4d1-05ce79f00662",
   "metadata": {},
   "outputs": [],
   "source": [
    "class Hybrid_class(Mobile,Friend,Audi):  # Mobile(Muliple) , #Friend(Multilevel , #Audi(simple)\n",
    "    def __init__(self):\n",
    "        print('This is a Hybrid Class')\n",
    "    def info(self):\n",
    "        print('It can call any method!!!')"
   ]
  },
  {
   "cell_type": "code",
   "execution_count": 90,
   "id": "037e1f90-fce9-4519-afc8-4517d8fa319f",
   "metadata": {},
   "outputs": [
    {
     "name": "stdout",
     "output_type": "stream",
     "text": [
      "This is a Hybrid Class\n"
     ]
    }
   ],
   "source": [
    "ob = Hybrid_class()"
   ]
  },
  {
   "cell_type": "code",
   "execution_count": 91,
   "id": "faa423b2-f2e9-4036-bab9-7e505aa7c11f",
   "metadata": {},
   "outputs": [
    {
     "name": "stdout",
     "output_type": "stream",
     "text": [
      "It can call any method!!!\n"
     ]
    }
   ],
   "source": [
    "ob.info()"
   ]
  },
  {
   "cell_type": "code",
   "execution_count": 92,
   "id": "697bc063-81e0-4070-a7e1-32fbfbcdcb03",
   "metadata": {},
   "outputs": [
    {
     "name": "stdout",
     "output_type": "stream",
     "text": [
      "4k camera, 80FPS vidio recording\n"
     ]
    }
   ],
   "source": [
    "ob.camera()"
   ]
  },
  {
   "cell_type": "code",
   "execution_count": null,
   "id": "bc7aef6d-ef35-40a8-8c87-b48b4f79e92d",
   "metadata": {},
   "outputs": [],
   "source": []
  },
  {
   "cell_type": "code",
   "execution_count": null,
   "id": "20d713c0-bb4f-4f60-bce7-c721bc957906",
   "metadata": {},
   "outputs": [],
   "source": []
  },
  {
   "cell_type": "markdown",
   "id": "489d0e2c-d169-4597-b004-3a0b7ac79fc7",
   "metadata": {},
   "source": [
    "# Hierarchical"
   ]
  },
  {
   "cell_type": "code",
   "execution_count": 93,
   "id": "a19c2dbb-55a7-462d-a336-48d4951e280f",
   "metadata": {},
   "outputs": [],
   "source": [
    "class UGC:\n",
    "\n",
    "    def __init__(self):\n",
    "        print('Grant Permission')\n",
    "    def college_approved(self):\n",
    "        print('College Has been Approved')\n",
    "\n",
    "class DU(UGC):\n",
    "    def multiple_college(self):\n",
    "        print('list of college')\n",
    "\n",
    "class BHU(UGC):\n",
    "    def multiple_college(self):\n",
    "        print('list of college')\n",
    "\n",
    "class DDU(UGC):\n",
    "    def multiple_college(self):\n",
    "        print('list of college')\n",
    "\n",
    "class DTU(UGC):\n",
    "    def multiple_college(self):\n",
    "        print('list of college')"
   ]
  },
  {
   "cell_type": "code",
   "execution_count": null,
   "id": "184f9b4c-03fa-40c1-8498-b7bc8bdbfb35",
   "metadata": {},
   "outputs": [],
   "source": []
  },
  {
   "cell_type": "markdown",
   "id": "ed4c2336-c864-45a0-be57-f5e8485f2c89",
   "metadata": {},
   "source": [
    "# Polymorphism"
   ]
  },
  {
   "cell_type": "code",
   "execution_count": 97,
   "id": "5b426a76-4e87-4491-88f7-1b1baa720294",
   "metadata": {},
   "outputs": [
    {
     "data": {
      "text/plain": [
       "[23, 345, 33, 23, 48, 90]"
      ]
     },
     "execution_count": 97,
     "metadata": {},
     "output_type": "execute_result"
    }
   ],
   "source": [
    "a = [23,345,33]\n",
    "b = [23,48,90]\n",
    "\n",
    "a +b"
   ]
  },
  {
   "cell_type": "code",
   "execution_count": 98,
   "id": "b3a48301-dfed-4659-a087-8328f38c0347",
   "metadata": {},
   "outputs": [
    {
     "data": {
      "text/plain": [
       "5"
      ]
     },
     "execution_count": 98,
     "metadata": {},
     "output_type": "execute_result"
    }
   ],
   "source": [
    "a = 'harry'\n",
    "len(a)"
   ]
  },
  {
   "cell_type": "code",
   "execution_count": 99,
   "id": "87582381-5e2f-4c2e-9d7c-fcb554c2c077",
   "metadata": {},
   "outputs": [
    {
     "data": {
      "text/plain": [
       "2"
      ]
     },
     "execution_count": 99,
     "metadata": {},
     "output_type": "execute_result"
    }
   ],
   "source": [
    "a = ['harry','jatin']\n",
    "len(a)"
   ]
  },
  {
   "cell_type": "code",
   "execution_count": 104,
   "id": "77b5acca-277e-4157-8a1f-1c92a9e627a0",
   "metadata": {},
   "outputs": [
    {
     "data": {
      "text/plain": [
       "3"
      ]
     },
     "execution_count": 104,
     "metadata": {},
     "output_type": "execute_result"
    }
   ],
   "source": [
    "\n",
    "a = str(567)\n",
    "len(a)"
   ]
  },
  {
   "cell_type": "code",
   "execution_count": null,
   "id": "76cba1ce-3c5d-45d2-b4ff-ae43c0382a41",
   "metadata": {},
   "outputs": [],
   "source": []
  },
  {
   "cell_type": "code",
   "execution_count": 107,
   "id": "05eaf8fc-91c1-404d-8651-9aa6949ab0bf",
   "metadata": {},
   "outputs": [
    {
     "name": "stdout",
     "output_type": "stream",
     "text": [
      "None <class 'NoneType'>\n"
     ]
    }
   ],
   "source": [
    "a = 45\n",
    "a ='45'\n",
    "a = None\n",
    "print(a,type(a))"
   ]
  },
  {
   "cell_type": "code",
   "execution_count": 113,
   "id": "eedce7fd-2d67-4e10-add8-6924a4401056",
   "metadata": {},
   "outputs": [
    {
     "name": "stdout",
     "output_type": "stream",
     "text": [
      "F1 Car Speed : MAx speed 220 km/hr This is just a car object!!\n",
      "F1 Car Speed : MAx speed 300 km/hr This is Tesla a car S1\n",
      "F1 Car Speed : MAx speed 380 km/hr This is Audi a car C9!!\n"
     ]
    }
   ],
   "source": [
    "class Car:\n",
    "    def speed(self):\n",
    "        return('MAx speed 220 km/hr')\n",
    "\n",
    "    def auto_pilot(self):\n",
    "        return('It support Auto Pilot Mode!!')\n",
    "\n",
    "    def info(self):\n",
    "        return('This is just a car object!!')\n",
    "\n",
    "class Tesla(Car):\n",
    "    def speed(self):\n",
    "        return('MAx speed 300 km/hr')\n",
    "    def info(self):\n",
    "        return('This is Tesla a car S1')\n",
    "\n",
    "class Audi(Car):\n",
    "    def speed(self):\n",
    "        return('MAx speed 380 km/hr')\n",
    "    def info(self):\n",
    "        return('This is Audi a car C9!!')\n",
    "    \n",
    "\n",
    "\n",
    "for i in [Car,Tesla,Audi]:\n",
    "    f1 = i()\n",
    "    print('F1 Car Speed :',f1.speed(),f1.info())"
   ]
  },
  {
   "cell_type": "code",
   "execution_count": null,
   "id": "486c6323-4098-46e4-ae39-dcfb481a0481",
   "metadata": {},
   "outputs": [],
   "source": []
  },
  {
   "cell_type": "code",
   "execution_count": 114,
   "id": "131ac428-d8d9-47b4-bbae-8be14cde2fa1",
   "metadata": {},
   "outputs": [
    {
     "name": "stdout",
     "output_type": "stream",
     "text": [
      "Hello Komal,how are you??\n",
      "Your Address is Delhi\n"
     ]
    }
   ],
   "source": [
    "class IITM:\n",
    "\n",
    "  def intro(self):\n",
    "    print('Hello Candidates!!')\n",
    "\n",
    "  def intro(self,name):\n",
    "    print(f'Hello {name},how are you??')\n",
    "\n",
    "  def intro(self,name,address):\n",
    "    print(f'Hello {name},how are you??')\n",
    "    print(f'Your Address is {address}')\n",
    "\n",
    "a = IITM()\n",
    "\n",
    "a.intro('Komal','Delhi')"
   ]
  },
  {
   "cell_type": "markdown",
   "id": "048b10ec-edf5-45a4-8408-f13a08e21298",
   "metadata": {},
   "source": [
    "## method overloding"
   ]
  },
  {
   "cell_type": "code",
   "execution_count": 141,
   "id": "0bfc810d-ce4b-4860-b882-b7d32b74aaef",
   "metadata": {},
   "outputs": [],
   "source": [
    "class IITM:\n",
    "\n",
    "  def intro(self,name = None,address = None):\n",
    "    if(name == None) and (address == None):\n",
    "      print('Hello Candidates!!')\n",
    "    elif (name != None) and (address != None):\n",
    "        print(f'Hello {name},how are you??')\n",
    "        print(f'Your Address is {address}')\n",
    "    elif name != None and (address == None):\n",
    "        print(f'Hello {name},how are you?? 1')\n",
    "    else:\n",
    "        print('Hello Buddy!!')\n"
   ]
  },
  {
   "cell_type": "code",
   "execution_count": 142,
   "id": "6e864804-6869-49c9-b36e-8342bbb21a25",
   "metadata": {},
   "outputs": [],
   "source": [
    "a = IITM()"
   ]
  },
  {
   "cell_type": "code",
   "execution_count": 143,
   "id": "de65485e-d0a7-4db5-8874-737d7b925084",
   "metadata": {},
   "outputs": [
    {
     "name": "stdout",
     "output_type": "stream",
     "text": [
      "Hello Candidates!!\n",
      "Hello Utkarsh,how are you?? 1\n"
     ]
    }
   ],
   "source": [
    "a.intro()\n",
    "a.intro('Utkarsh')"
   ]
  },
  {
   "cell_type": "code",
   "execution_count": 144,
   "id": "f417fa74-086d-432a-9868-e063d96a6cc9",
   "metadata": {},
   "outputs": [
    {
     "name": "stdout",
     "output_type": "stream",
     "text": [
      "Hello Utkarsh,how are you??\n",
      "Your Address is Ayodhya\n"
     ]
    }
   ],
   "source": [
    "a.intro('Utkarsh','Ayodhya')"
   ]
  },
  {
   "cell_type": "code",
   "execution_count": null,
   "id": "a0d65240-8d7e-47a4-a252-9e0659f05913",
   "metadata": {},
   "outputs": [],
   "source": []
  },
  {
   "cell_type": "markdown",
   "id": "9ea3715e-c523-4af7-a333-e79dc1fb9bc8",
   "metadata": {},
   "source": [
    "# Abstraction"
   ]
  },
  {
   "cell_type": "markdown",
   "id": "6a6c4212-05f2-4323-91b5-b7c3dd7d6030",
   "metadata": {},
   "source": [
    "### Idea\n",
    "### Not a Physical object"
   ]
  },
  {
   "cell_type": "markdown",
   "id": "9409e239-f6ab-48d4-9fd8-ca405d7d7ba3",
   "metadata": {},
   "source": [
    "### Abstraction :- project management"
   ]
  },
  {
   "cell_type": "code",
   "execution_count": null,
   "id": "02768f99-4316-441b-81e8-c583ada6c295",
   "metadata": {},
   "outputs": [],
   "source": []
  },
  {
   "cell_type": "code",
   "execution_count": 155,
   "id": "3e594198-856e-4988-bebf-32c26453ab4d",
   "metadata": {},
   "outputs": [],
   "source": [
    "# from abc import ABC, abstractmethod\n",
    "\n",
    "# class Website(ABC):\n",
    "    \n",
    "#     @abstractmethod\n",
    "#     def login(self):\n",
    "#         print('This is Login method')\n",
    "#     @abstractmethod\n",
    "#     def logout(self):\n",
    "#         print('This is logout method')\n",
    "\n",
    "# asus = Website()\n",
    "# print('done')\n"
   ]
  },
  {
   "cell_type": "code",
   "execution_count": null,
   "id": "4209702f-c324-4b5a-aacf-ad061b684f0e",
   "metadata": {},
   "outputs": [],
   "source": []
  },
  {
   "cell_type": "code",
   "execution_count": 151,
   "id": "fc7069db-cdf3-436b-8ff1-587bac2afa8b",
   "metadata": {},
   "outputs": [],
   "source": [
    "class Jass(Website):\n",
    "\n",
    "    def signup(self):\n",
    "        print('user can SignUp!!')\n",
    "\n",
    "    def login(self):\n",
    "        print('This is Login Form')\n",
    "    \n",
    "    def logout(self):\n",
    "        print('This is logout Form')\n",
    "\n",
    "google = Jass()"
   ]
  },
  {
   "cell_type": "code",
   "execution_count": 152,
   "id": "ec8f3706-6da9-4040-a61c-4fb5277c3b2f",
   "metadata": {},
   "outputs": [
    {
     "name": "stdout",
     "output_type": "stream",
     "text": [
      "This is Login Form\n"
     ]
    }
   ],
   "source": [
    "google.login()"
   ]
  },
  {
   "cell_type": "code",
   "execution_count": 153,
   "id": "fb78ff07-7588-46d0-b0ca-cf8ac0fe0172",
   "metadata": {},
   "outputs": [
    {
     "name": "stdout",
     "output_type": "stream",
     "text": [
      "user can SignUp!!\n"
     ]
    }
   ],
   "source": [
    "google.signup()"
   ]
  },
  {
   "cell_type": "code",
   "execution_count": null,
   "id": "218fb5ee-bc49-4b5e-b6c5-5a6270c93e3d",
   "metadata": {},
   "outputs": [],
   "source": []
  }
 ],
 "metadata": {
  "kernelspec": {
   "display_name": "Python [conda env:base] *",
   "language": "python",
   "name": "conda-base-py"
  },
  "language_info": {
   "codemirror_mode": {
    "name": "ipython",
    "version": 3
   },
   "file_extension": ".py",
   "mimetype": "text/x-python",
   "name": "python",
   "nbconvert_exporter": "python",
   "pygments_lexer": "ipython3",
   "version": "3.13.5"
  }
 },
 "nbformat": 4,
 "nbformat_minor": 5
}
