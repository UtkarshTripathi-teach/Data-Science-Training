{
 "cells": [
  {
   "cell_type": "markdown",
   "id": "0704f0f2-e1a4-4551-8021-2ad3a91e9059",
   "metadata": {},
   "source": [
    "# Test Paper"
   ]
  },
  {
   "cell_type": "markdown",
   "id": "9bc8a4ca-d16c-430f-9ee3-bb06a21a14f6",
   "metadata": {},
   "source": [
    "## Section A: Theory Questions"
   ]
  },
  {
   "cell_type": "markdown",
   "id": "08c39540-c537-4cf3-8048-a87340679412",
   "metadata": {},
   "source": [
    "#### Question 1:"
   ]
  },
  {
   "cell_type": "code",
   "execution_count": null,
   "id": "f4483b12-bbca-467c-a3f8-f72e1bf3d460",
   "metadata": {},
   "outputs": [],
   "source": [
    "# List: It is mutable and hetrogineus , [] used and , srprated\n",
    "\n",
    "# Tuple: It is immutable and homogineus, () used and , srprated"
   ]
  },
  {
   "cell_type": "markdown",
   "id": "3b2f116e-0622-4de0-a510-b302d42ee705",
   "metadata": {},
   "source": [
    "#### Question 2:"
   ]
  },
  {
   "cell_type": "code",
   "execution_count": null,
   "id": "02ac8015-d24d-4d12-b77a-31ce5829fb98",
   "metadata": {},
   "outputs": [],
   "source": [
    "# input() : use to take input from user.\n",
    "\n",
    "# input() : it return string data type \n",
    "# to convert it to integer ,  typecast # int(input)"
   ]
  },
  {
   "cell_type": "markdown",
   "id": "a43782bb-3320-481b-8dcf-f953cedbda76",
   "metadata": {},
   "source": [
    "#### Question 3:"
   ]
  },
  {
   "cell_type": "code",
   "execution_count": null,
   "id": "2d903e02-b761-4edd-bd6c-1a93e4c613f3",
   "metadata": {},
   "outputs": [],
   "source": [
    "# dictionaries : datatype to store {key:value} pair.\n",
    "\n",
    "## syntax\n",
    "# dict = { 1 : 'Aman',\n",
    "#         2 : 'Ram' } "
   ]
  },
  {
   "cell_type": "markdown",
   "id": "8589fcf9-bceb-4bca-8be7-9ed4a0791419",
   "metadata": {},
   "source": [
    "#### Question 4:"
   ]
  },
  {
   "cell_type": "code",
   "execution_count": 3,
   "id": "07b47b15-4b5b-4daf-965c-04f9d049be86",
   "metadata": {},
   "outputs": [
    {
     "name": "stdout",
     "output_type": "stream",
     "text": [
      "1\n",
      "2\n",
      "3\n",
      "4\n",
      "5\n"
     ]
    }
   ],
   "source": [
    "# for loop: it itreate a statement in a range provided\n",
    "\n",
    "for i in range(1,6):\n",
    "    print(i)"
   ]
  },
  {
   "cell_type": "markdown",
   "id": "33cc57e1-8533-4344-a80d-84fce823ee97",
   "metadata": {},
   "source": [
    "#### Question 5:"
   ]
  },
  {
   "cell_type": "code",
   "execution_count": 4,
   "id": "569d7be3-a556-41cb-8d9c-70c6498b0545",
   "metadata": {},
   "outputs": [
    {
     "name": "stdout",
     "output_type": "stream",
     "text": [
      "Zero Division Error\n",
      "This is finally block\n"
     ]
    }
   ],
   "source": [
    "# Exception handling : handling un wanted errors during runing a program\n",
    "\n",
    "# try : the code that can cause an error \n",
    "# except: when an error occurs in try block the it handles it\n",
    "#  finally : it allways excute \n",
    "\n",
    "try:\n",
    "    a = 10/0\n",
    "except:\n",
    "    print (\"Zero Division Error\")\n",
    "finally:\n",
    "    print(\"This is finally block\")"
   ]
  },
  {
   "cell_type": "markdown",
   "id": "be1bab06-fa57-437e-bf0c-04b867c3a0da",
   "metadata": {},
   "source": [
    "#### Question 6:"
   ]
  },
  {
   "cell_type": "code",
   "execution_count": 8,
   "id": "6f10230b-6d2c-4aea-a475-db4d03800079",
   "metadata": {},
   "outputs": [
    {
     "name": "stdout",
     "output_type": "stream",
     "text": [
      "4.0\n"
     ]
    }
   ],
   "source": [
    "# modules : a .py file contain similar types of function or classes .\n",
    "# Some predefined modules are request,math,random and other\n",
    "\n",
    "# math module\n",
    "## import math : it imports all functions of module\n",
    "## from math import sqrt : it only import sqrt function\n",
    "\n",
    "#use\n",
    "from math import sqrt\n",
    "print(sqrt(16))"
   ]
  },
  {
   "cell_type": "markdown",
   "id": "f412e156-7356-4ce3-ad3e-f660263fda92",
   "metadata": {},
   "source": [
    "#### Question 7:"
   ]
  },
  {
   "cell_type": "code",
   "execution_count": 15,
   "id": "8c5d55e2-518d-41b4-9d78-290c369d02f1",
   "metadata": {},
   "outputs": [
    {
     "name": "stdout",
     "output_type": "stream",
     "text": [
      "<bound method Animal.color of <__main__.Animal object at 0x12eca3230>>\n",
      "<bound method Animal.sound of <__main__.Animal object at 0x12eca3230>>\n"
     ]
    }
   ],
   "source": [
    "# OOP's : in this way of codeing we make class ( which conist of methods and variable) \n",
    "# and object ( we make object to use class as instance)\n",
    "\n",
    "class Animal:\n",
    "    def sound():\n",
    "        print('bark')\n",
    "    def color():\n",
    "        print('black')\n",
    "\n",
    "dog = Animal()\n",
    "print(dog.color)\n",
    "print(dog.sound)"
   ]
  },
  {
   "cell_type": "markdown",
   "id": "2126ed00-5237-4665-b027-c6af51f2403a",
   "metadata": {},
   "source": [
    "#### Question 8:"
   ]
  },
  {
   "cell_type": "code",
   "execution_count": null,
   "id": "495113f6-e086-43cc-a6ff-4f9a0b698c3a",
   "metadata": {},
   "outputs": [],
   "source": [
    "# list comprehension\n",
    "fruits = [\"apple\", \"banana\", \"cherry\", \"kiwi\", \"mango\"]\n",
    "newlist = []\n",
    "\n",
    "for x in fruits:\n",
    "  if \"a\" in x:\n",
    "    newlist.append(x)\n",
    "\n",
    "print(newlist)\n"
   ]
  },
  {
   "cell_type": "markdown",
   "id": "3e43478c-4869-4f2b-9604-77671363fc36",
   "metadata": {},
   "source": [
    "# Section B: Practical Programming"
   ]
  },
  {
   "cell_type": "markdown",
   "id": "e8a1175c-16ed-4708-b84b-6feead63fec0",
   "metadata": {},
   "source": [
    "#### Question 9:"
   ]
  },
  {
   "cell_type": "code",
   "execution_count": 16,
   "id": "4cd4892e-c29e-4bb5-8abc-fd076c3b7b18",
   "metadata": {},
   "outputs": [
    {
     "data": {
      "text/plain": [
       "78.5"
      ]
     },
     "execution_count": 16,
     "metadata": {},
     "output_type": "execute_result"
    }
   ],
   "source": [
    "def calculate_area(r):\n",
    "    pi = 3.14\n",
    "    area = pi*(r*r) \n",
    "    return area\n",
    "calculate_area(5)"
   ]
  },
  {
   "cell_type": "markdown",
   "id": "68a5fa70-d08e-4e06-a29c-047d06544f7a",
   "metadata": {},
   "source": [
    "#### Question 10:"
   ]
  },
  {
   "cell_type": "code",
   "execution_count": 18,
   "id": "d69103bc-ae2f-4548-89e9-c74c652e285e",
   "metadata": {},
   "outputs": [
    {
     "name": "stdout",
     "output_type": "stream",
     "text": [
      "Hello utkarsh,you are 19 years old!\n"
     ]
    }
   ],
   "source": [
    "def hello(name,age):\n",
    "    print(f\"Hello {name},you are {age} years old!\")\n",
    "    \n",
    "hello('utkarsh',19)"
   ]
  },
  {
   "cell_type": "markdown",
   "id": "db456d44-cdd9-4816-b43b-65ef3e3f4987",
   "metadata": {},
   "source": [
    "#### Question 11:"
   ]
  },
  {
   "cell_type": "code",
   "execution_count": 47,
   "id": "e534b4aa-6d2b-43eb-8990-50c3092353f5",
   "metadata": {},
   "outputs": [
    {
     "name": "stdout",
     "output_type": "stream",
     "text": [
      "(1, 'orange')\n",
      "(2, 'mango')\n",
      "(3, 'apple')\n",
      "(4, 'grapes')\n",
      "(5, 'Pineapple')\n"
     ]
    }
   ],
   "source": [
    "fruites = ('orange','mango','apple','grapes','Pineapple')\n",
    "\n",
    "for i in enumerate(fruites,1):\n",
    " print(i)"
   ]
  },
  {
   "cell_type": "markdown",
   "id": "c6fe641e-b7eb-4bdf-84e1-3dd167591376",
   "metadata": {},
   "source": [
    "#### Question 12:"
   ]
  },
  {
   "cell_type": "code",
   "execution_count": 42,
   "id": "fd861ca0-1c1a-4383-b6e2-69f1f685d0dd",
   "metadata": {},
   "outputs": [
    {
     "name": "stdout",
     "output_type": "stream",
     "text": [
      "Grade: A\n"
     ]
    }
   ],
   "source": [
    "def grade_calculator(score):\n",
    "    if score >= 90 :\n",
    "        print('Grade: A')\n",
    "    elif 90 > score >= 80:\n",
    "        print('Grade: B')\n",
    "    elif 80 > score >= 70:\n",
    "        print('Grade: C')\n",
    "    elif 70 > score >= 60:\n",
    "        print('Grade: D')\n",
    "    elif 60 > score >= 0:\n",
    "        print('Grade: F')\n",
    "grade_calculator(91) "
   ]
  },
  {
   "cell_type": "code",
   "execution_count": 43,
   "id": "df45eced-5287-40ab-9b2d-4c8e4e606ea3",
   "metadata": {},
   "outputs": [
    {
     "name": "stdout",
     "output_type": "stream",
     "text": [
      "Grade: D\n"
     ]
    }
   ],
   "source": [
    "grade_calculator(61)"
   ]
  },
  {
   "cell_type": "code",
   "execution_count": 44,
   "id": "f7aed0e5-3c8b-40b0-8dff-ef3b8106da92",
   "metadata": {},
   "outputs": [
    {
     "name": "stdout",
     "output_type": "stream",
     "text": [
      "Grade: C\n"
     ]
    }
   ],
   "source": [
    "grade_calculator(79)"
   ]
  },
  {
   "cell_type": "code",
   "execution_count": null,
   "id": "a2cad06d-a1f6-410a-b566-413734e512f2",
   "metadata": {},
   "outputs": [],
   "source": []
  },
  {
   "cell_type": "markdown",
   "id": "4893c3f5-19e1-43d8-a3f0-5e8c1d36ea4f",
   "metadata": {},
   "source": [
    "#### Question 13:"
   ]
  },
  {
   "cell_type": "code",
   "execution_count": 74,
   "id": "15f9c1da-b453-435e-bfc7-51e36fabd149",
   "metadata": {},
   "outputs": [
    {
     "name": "stdout",
     "output_type": "stream",
     "text": [
      "15\n"
     ]
    }
   ],
   "source": [
    "file = open('number.txt',mode='r')\n",
    "result = 0\n",
    "for i in range(1,6):\n",
    "    a = int(file.readline())\n",
    "    result += a\n",
    "print(result)\n",
    "file.close()\n",
    "\n",
    "file1 = open('result.txt',mode='a')\n",
    "file1.write(f'{result}')\n",
    "file1.close()"
   ]
  },
  {
   "cell_type": "markdown",
   "id": "bcf4b307-811d-4b23-94d5-b476a8b9a2b6",
   "metadata": {},
   "source": [
    "#### Question 14:"
   ]
  },
  {
   "cell_type": "code",
   "execution_count": null,
   "id": "f22b4492-7f3a-45fc-b95e-45e3302b2ff9",
   "metadata": {},
   "outputs": [],
   "source": [
    "class BankAccount:\n",
    "    def __init__(self, name, account_number, initial_balance=0):\n",
    "        self.account_holder_name = name\n",
    "        self.account_number = account_number\n",
    "        self.__balance = initial_balance \n",
    "\n",
    "    def deposit(self, amount):\n",
    "        if amount > 0:\n",
    "            self.__balance += amount\n",
    "            print(f\"Deposited Rs {amount:.2f}.\")\n",
    "        else:\n",
    "            print(\"Deposit amount must be positive.\")\n",
    "\n",
    "    def withdraw(self, amount):\n",
    "        if amount <= 0:\n",
    "            print(\"Withdrawal amount must be positive.\")\n",
    "        elif amount > self.__balance:\n",
    "            print(\"Insufficient balance.\")\n",
    "        else:\n",
    "            self.__balance -= amount\n",
    "            print(f\"Withdrawn Rs {amount:.2f}.\")\n",
    "\n",
    "    def check_balance(self):\n",
    "        print(f\"Current balance: Rs {self.__balance:.2f}\")\n",
    "        return self.__balance\n",
    "\n",
    "    def get_account_info(self):\n",
    "        return f\"Name: {self.account_holder_name}, Account No: {self.account_number}\"\n",
    "\n",
    "    \n",
    "    "
   ]
  },
  {
   "cell_type": "markdown",
   "id": "9da2d850-1e5c-48e9-86c1-9bf3c2b7eeb1",
   "metadata": {},
   "source": []
  },
  {
   "cell_type": "code",
   "execution_count": null,
   "id": "4e60c9f5-3577-49b4-ae42-06034c0640e0",
   "metadata": {},
   "outputs": [],
   "source": []
  }
 ],
 "metadata": {
  "kernelspec": {
   "display_name": "Python [conda env:base] *",
   "language": "python",
   "name": "conda-base-py"
  },
  "language_info": {
   "codemirror_mode": {
    "name": "ipython",
    "version": 3
   },
   "file_extension": ".py",
   "mimetype": "text/x-python",
   "name": "python",
   "nbconvert_exporter": "python",
   "pygments_lexer": "ipython3",
   "version": "3.13.5"
  }
 },
 "nbformat": 4,
 "nbformat_minor": 5
}
